{
 "cells": [
  {
   "cell_type": "markdown",
   "id": "a3c63782",
   "metadata": {},
   "source": [
    "# Testing PEC and ZNE on noisy quantum computers\n"
   ]
  },
  {
   "cell_type": "markdown",
   "id": "ecb501a4",
   "metadata": {},
   "source": [
    "**Description**\n",
    "\n",
    "Runs various error mitigation techniques (ZNE and PEC) on various hardware or simulator offerings with different benchmark circuits (randomized benchmark or mirror).\n"
   ]
  },
  {
   "cell_type": "markdown",
   "id": "fd54f380",
   "metadata": {},
   "source": [
    "## Setup\n"
   ]
  },
  {
   "cell_type": "code",
   "execution_count": 1,
   "id": "df7a901e",
   "metadata": {},
   "outputs": [],
   "source": [
    "import functools\n",
    "import os\n",
    "import time\n",
    "from typing import List\n",
    "\n",
    "import matplotlib.pyplot as plt\n",
    "\n",
    "plt.rcParams.update({\"font.family\": \"serif\", \"font.size\": 15})\n",
    "%matplotlib inline\n",
    "\n",
    "import cirq\n",
    "import networkx as nx\n",
    "import numpy as np\n",
    "import qiskit\n",
    "import qiskit_aer\n",
    "from mitiq import benchmarks, pec, zne"
   ]
  },
  {
   "cell_type": "markdown",
   "id": "6b69061a",
   "metadata": {},
   "source": [
    "## Problem definition\n"
   ]
  },
  {
   "cell_type": "markdown",
   "id": "3fcecb8a",
   "metadata": {},
   "source": [
    "### Parameters\n"
   ]
  },
  {
   "cell_type": "code",
   "execution_count": 2,
   "id": "d4c20c6a",
   "metadata": {},
   "outputs": [],
   "source": [
    "# Option to use a noisy simulator instead of hardware backend.\n",
    "use_noisy_simulator: bool = True\n",
    "\n",
    "# Minimum depth circuit to use.\n",
    "min_depth: int = 1\n",
    "# Random seed for circuit generation.\n",
    "seed: int = 1\n",
    "\n",
    "# Minimum noise scale factor.\n",
    "min_scale_factor: int = 1\n",
    "# Maximum noise scale factor.\n",
    "max_scale_factor: int = 3\n",
    "\n",
    "# Step between noise scale factors.\n",
    "step_scale_factor: int = 1\n",
    "\n",
    "# Total number of shots to use.\n",
    "# For PEC, the shots per circuit is shots / num_samples.\n",
    "# For ZNE, the shots per circuit is shots / len(scale_factors).\n",
    "shots: int = 10_000\n",
    "# Number of samples (circuits) to use in PEC.\n",
    "#num_samples: int = 100\n",
    "\n",
    "# Display verbose output.\n",
    "verbose: bool = True\n",
    "# Give queue updates every this many seconds when running on hardware device.\n",
    "verbose_update_time: int = 30\n",
    "\n",
    "# Save data (cnot_counts, oneq_counts, true_values, noisy_values, zne_values, etc.).\n",
    "save_data: bool = True"
   ]
  },
  {
   "cell_type": "markdown",
   "id": "0f6f4f4d",
   "metadata": {},
   "source": [
    "### Circuit parameters\n"
   ]
  },
  {
   "cell_type": "code",
   "execution_count": 3,
   "id": "9d935dad",
   "metadata": {},
   "outputs": [
    {
     "name": "stdout",
     "output_type": "stream",
     "text": [
      "Qubit indeces: [0, 1, 2]\n",
      "RB pattern: [[0, 1], [2]]\n"
     ]
    }
   ],
   "source": [
    "# Benchmark circuit type. Supported types are \"rb\" and \"mirror\".\n",
    "# RB circuits are only suppported for 1 and 2 qubit circuits.\n",
    "circuit_type: str = \"mirror\"\n",
    "\n",
    "# Qubits to use on the experiment.\n",
    "num_qubits = 3\n",
    "qubits = [j for j in range(num_qubits)]\n",
    "\n",
    "# Split qubits into 2-qubit pairs (assuming a chain connectivity).\n",
    "rb_pattern = [[qa, qb] for qa, qb in zip(qubits[0:-1:2], qubits[1::2])]\n",
    "if len(qubits) % 2 == 1:\n",
    "    # For an odd number of qubits, append final individual qubit to the RB pattern.\n",
    "    rb_pattern.append([qubits[-1]])\n",
    "print(\"Qubit indeces:\", qubits)\n",
    "print(\"RB pattern:\", rb_pattern)\n",
    "\n",
    "\n",
    "# Maximum depth circuit to use.\n",
    "max_depth: int = 20\n",
    "\n",
    "# Step to create a list of depths to run at.\n",
    "step_depth: int = 2\n",
    "\n",
    "# Average results over this many trials (circuit instances) at each depth.\n",
    "trials: int = 4"
   ]
  },
  {
   "cell_type": "markdown",
   "id": "b18cb5d0",
   "metadata": {},
   "source": [
    "### Hardware parameters\n"
   ]
  },
  {
   "cell_type": "code",
   "execution_count": 4,
   "id": "11f4fe0e",
   "metadata": {},
   "outputs": [],
   "source": [
    "# Hardware backend device type. Supported types are currently \"ibmq\" but more could be added.\n",
    "hardware_type: str = \"ibmq\"\n",
    "\n",
    "backend = {\n",
    "    \"ibmq\": \"ibmq_lima\",\n",
    "}.get(hardware_type)"
   ]
  },
  {
   "cell_type": "markdown",
   "id": "b1714266",
   "metadata": {},
   "source": [
    "### IBM qubit settings\n"
   ]
  },
  {
   "cell_type": "code",
   "execution_count": 5,
   "id": "b8ce8f03",
   "metadata": {},
   "outputs": [
    {
     "name": "stdout",
     "output_type": "stream",
     "text": [
      "IBM physical qubits: [0, 1, 3]\n"
     ]
    }
   ],
   "source": [
    "if hardware_type == \"ibmq\":\n",
    "    # Physical qubits of ibmq-kolkata with a chain-like connectivity.\n",
    "    ibm_lima_ordering = [0, 1, 3, 4, 2]\n",
    "    ibm_kolkata_ordering = [\n",
    "        0,\n",
    "        1,\n",
    "        4,\n",
    "        7,\n",
    "        10,\n",
    "        12,\n",
    "        15,\n",
    "        18,\n",
    "        21,\n",
    "        23,\n",
    "        24,\n",
    "        25,\n",
    "        22,\n",
    "        19,\n",
    "        16,\n",
    "        14,\n",
    "        11,\n",
    "        8,\n",
    "        5,\n",
    "        3,\n",
    "        2,\n",
    "    ]\n",
    "\n",
    "    if len(qubits) <= 5:\n",
    "        # Assume ibmq-lima device. Take n adjacent physical qubits.\n",
    "        physical_ibm_qubits = ibm_lima_ordering[: len(qubits)]\n",
    "    elif len(qubits) <= len(ibm_kolkata_ordering):\n",
    "        # Assume ibmq-kolkata device. Take n adjacent physical qubits.\n",
    "        physical_ibm_qubits = ibm_kolkata_ordering[: len(qubits)]\n",
    "    else:\n",
    "        raise ValueError(f\"Number of qubits {num_qubits} too large.\")\n",
    "\n",
    "    print(\"IBM physical qubits:\", physical_ibm_qubits)"
   ]
  },
  {
   "cell_type": "markdown",
   "id": "8a3d009f",
   "metadata": {},
   "source": [
    "### Error mitigation options\n"
   ]
  },
  {
   "cell_type": "code",
   "execution_count": 6,
   "id": "1621afb0",
   "metadata": {},
   "outputs": [
    {
     "name": "stdout",
     "output_type": "stream",
     "text": [
      "Depths: [1, 3, 5, 7, 9, 11, 13, 15, 17, 19]\n",
      "Scale factors: (1, 2, 3)\n"
     ]
    }
   ],
   "source": [
    "# Error mitigation type. Supported typed are \"zne\" and \"pec\".\n",
    "mitigation_type: str = \"zne\"\n",
    "\n",
    "fold_method = zne.scaling.fold_global\n",
    "\n",
    "depths = list(range(min_depth, max_depth + 1, step_depth))\n",
    "\n",
    "scale_factors = tuple(range(min_scale_factor, max_scale_factor + 1, step_scale_factor))\n",
    "\n",
    "print(f\"Depths: {depths}\")\n",
    "print(f\"Scale factors: {scale_factors}\")"
   ]
  },
  {
   "cell_type": "markdown",
   "id": "16b463da",
   "metadata": {},
   "source": [
    "### Hardware architecture\n",
    "\n",
    "If the user selects the option to run on an actual hardware offering, define the architectural layout of the quantum device. Otherwise, invoke the appropriate simulator.\n"
   ]
  },
  {
   "cell_type": "code",
   "execution_count": 7,
   "id": "a70fdbe2",
   "metadata": {},
   "outputs": [
    {
     "name": "stdout",
     "output_type": "stream",
     "text": [
      "Computer connectivity (used only for mirror circuits): [(0, 1), (1, 0), (1, 2), (2, 1)]\n",
      "Noisy backend <qiskit.providers.fake_provider.generic_backend_v2.GenericBackendV2 object at 0x11c710fd0>\n",
      "Ideal backend AerSimulator('aer_simulator')\n"
     ]
    }
   ],
   "source": [
    "computer = nx.Graph()\n",
    "\n",
    "# Assume chain-like connectivity\n",
    "computer.add_edges_from([(qa, qb) for qa, qb in zip(qubits[:-1], qubits[1:])])\n",
    "\n",
    "# Add reversed edges to computer graph.\n",
    "# This is important to represent CNOT gates with target and control reversed.\n",
    "computer = nx.to_directed(computer)\n",
    "\n",
    "# Get the backend to run on and a simulated backend for comparing results.\n",
    "if use_noisy_simulator:\n",
    "    from qiskit.providers.fake_provider import GenericBackendV2\n",
    "    # can use GenericBackendV2 for more flexibility\n",
    "\n",
    "    noisy_backend = GenericBackendV2(num_qubits=6)\n",
    "\n",
    "# Specify both the hardware device and device architecture (computer):\n",
    "else:\n",
    "    provider = qiskit.IBMQ.load_account()\n",
    "    noisy_backend = provider.get_backend(backend)\n",
    "    print(f\"View {backend} job status at https://quantum-computing.ibm.com/jobs\")\n",
    "\n",
    "# Check if RB-pattern is consistent with device topology.\n",
    "for edge in rb_pattern:\n",
    "    if len(edge) == 2:\n",
    "        if edge not in computer.edges:\n",
    "            raise ValueError(\n",
    "                \"The option rb_pattern is not consistent with the device topology.\"\n",
    "            )\n",
    "\n",
    "# Set ideal backends for simulator-selected options.\n",
    "# ideal_backend = qiskit.Aer.get_backend(\"aer_simulator\")\n",
    "ideal_backend = qiskit_aer.AerSimulator()\n",
    "\n",
    "\n",
    "print(\"Computer connectivity (used only for mirror circuits):\", computer.edges)\n",
    "print(\"Noisy backend\", noisy_backend)\n",
    "print(\"Ideal backend\", ideal_backend)"
   ]
  },
  {
   "cell_type": "markdown",
   "id": "e3fa4840",
   "metadata": {},
   "source": [
    "### Benchmark circuit\n"
   ]
  },
  {
   "cell_type": "code",
   "execution_count": 8,
   "id": "add4a2a6",
   "metadata": {},
   "outputs": [],
   "source": [
    "def named_qubit_to_line_qubit(named_qubit: str) -> cirq.LineQubit:\n",
    "    \"\"\"Extract qubit number assuming \"_\" is used as a word separator.\"\"\"\n",
    "    digits = [int(s) for s in named_qubit.name.split(\"_\") if s.isdigit()]\n",
    "    if len(digits) == 1:\n",
    "        return cirq.LineQubit(digits[0])\n",
    "    else:\n",
    "        raise RuntimeError(\"Failed to identify qubit number.\")"
   ]
  },
  {
   "cell_type": "code",
   "execution_count": 9,
   "id": "95a9d860",
   "metadata": {},
   "outputs": [],
   "source": [
    "if circuit_type == \"rb\":\n",
    "\n",
    "    def get_circuit(depth: int, seed: int) -> tuple[qiskit.QuantumCircuit, str]:\n",
    "        circuit = benchmarks.generate_rb_circuits(\n",
    "            n_qubits=2, num_cliffords=depth, seed=seed, return_type=\"qiskit\"\n",
    "        )[0]\n",
    "\n",
    "        return circuit, \"00\"\n",
    "\n",
    "elif circuit_type == \"mirror\":\n",
    "\n",
    "    def get_circuit(depth: int, seed: int) -> tuple[qiskit.QuantumCircuit, str]:\n",
    "        circuit, correct_bitstring = benchmarks.generate_mirror_circuit(\n",
    "            nlayers=depth,\n",
    "            two_qubit_gate_prob=1.0,\n",
    "            connectivity_graph=computer,\n",
    "            two_qubit_gate_name=\"CNOT\",\n",
    "            seed=seed,\n",
    "            return_type=\"qiskit\",\n",
    "        )\n",
    "\n",
    "        # Reversed because Qiskit is wrong endian.\n",
    "        return circuit, \"\".join(map(str, correct_bitstring[::-1]))"
   ]
  },
  {
   "cell_type": "markdown",
   "id": "cad73b46",
   "metadata": {},
   "source": [
    "### Gateset compilation functions\n"
   ]
  },
  {
   "cell_type": "markdown",
   "id": "ba6396c1",
   "metadata": {},
   "source": [
    "### Operation representations\n"
   ]
  },
  {
   "cell_type": "code",
   "execution_count": 10,
   "id": "8b72a785",
   "metadata": {},
   "outputs": [],
   "source": [
    "def get_cnot_error(edge: tuple[int, int] = None) -> float:\n",
    "    # If we use a simulator, we can't get any error probability from any specific\n",
    "    # device so we hardcode a small \"reasonable\" CNOT error probability.\n",
    "    # if use_noisy_simulator and hardware_type != \"ibmq\":\n",
    "    cnot_error_prob = 0.01\n",
    "\n",
    "    # cnot_error_prob = noisy_backend.properties().gate_error(\"cx\", qubits=edge)\n",
    "\n",
    "    print(f\"cnot_error_prob for edge {edge}: {cnot_error_prob}\")\n",
    "    return cnot_error_prob\n",
    "\n",
    "\n",
    "def get_cnot_representation(edge: tuple[int, int]) -> pec.OperationRepresentation:\n",
    "    cnot_circuit = cirq.Circuit(\n",
    "        cirq.CNOT(\n",
    "            cirq.NamedQubit(f\"q_{str(edge[0])}\"),\n",
    "            cirq.NamedQubit(f\"q_{str(edge[1])}\"),\n",
    "        )\n",
    "    )\n",
    "\n",
    "    rep_exact_prob = 1 - np.sqrt(1 - get_cnot_error(edge))\n",
    "    return pec.represent_operation_with_local_depolarizing_noise(\n",
    "        cnot_circuit,\n",
    "        noise_level=rep_exact_prob,\n",
    "    )\n",
    "\n",
    "\n",
    "def get_representations(computer: nx.Graph) -> list[pec.OperationRepresentation]:\n",
    "    return [get_cnot_representation(edge) for edge in computer.edges]"
   ]
  },
  {
   "cell_type": "markdown",
   "id": "dccf1353",
   "metadata": {},
   "source": [
    "### CNOT count utility functions\n"
   ]
  },
  {
   "cell_type": "code",
   "execution_count": 11,
   "id": "d4e6eeac",
   "metadata": {},
   "outputs": [],
   "source": [
    "def get_num_cnot_count(circuit: qiskit.QuantumCircuit) -> int:\n",
    "    \"\"\"Determine number of cnot gates in a given `Circuit` object.\"\"\"\n",
    "\n",
    "    return circuit.count_ops().get(\"cx\")\n",
    "\n",
    "\n",
    "def get_avg_cnot_count(circuits: list[qiskit.QuantumCircuit]) -> float:\n",
    "    \"\"\"Determine average number of cnot gates present in\n",
    "    list of `QuantumCircuit` objects.\"\"\"\n",
    "\n",
    "    return np.average([c.count_ops().get(\"cx\") for c in circuits])\n",
    "\n",
    "\n",
    "def get_oneq_count(circuit: qiskit.QuantumCircuit) -> int:\n",
    "    return len(circuit) - get_num_cnot_count(circuit)"
   ]
  },
  {
   "cell_type": "markdown",
   "id": "7c5de2b9",
   "metadata": {},
   "source": [
    "### Executor\n"
   ]
  },
  {
   "cell_type": "code",
   "execution_count": 12,
   "id": "656f4bd1",
   "metadata": {},
   "outputs": [],
   "source": [
    "from typing import Union\n",
    "\n",
    "def execute(\n",
    "    circuits: Union[qiskit.QuantumCircuit, list[qiskit.QuantumCircuit]],\n",
    "    backend,\n",
    "    shots: int,\n",
    "    correct_bitstring: str,\n",
    "    verbose: bool = verbose,\n",
    "    is_noisy: bool = True,\n",
    ") -> List[float]:\n",
    "    \"\"\"Executes the input circuit(s) and returns ⟨A⟩, where\n",
    "    A = |correct_bitstring⟩⟨correct_bitstring| for each circuit.\n",
    "    \"\"\"\n",
    "    if not isinstance(circuits, list):\n",
    "        circuits = [circuits]\n",
    "\n",
    "    if verbose:\n",
    "        # Calculate average number of CNOT gates per circuit.\n",
    "        print(f\"Executing {len(circuits)} circuit(s) on {backend}.\")\n",
    "        print(f\"Average cnot count in circuits: {get_avg_cnot_count(circuits)}\")\n",
    "\n",
    "    # Store all circuits to run in list to be returned.\n",
    "    to_run: list[qiskit.QuantumCircuit] = []\n",
    "\n",
    "    for circuit in circuits:\n",
    "        circuit_to_run = circuit.copy()\n",
    "\n",
    "        circuit_to_run.measure_all()\n",
    "        to_run.append(\n",
    "            qiskit.transpile(\n",
    "                circuit_to_run,\n",
    "                backend=backend,\n",
    "                initial_layout=physical_ibm_qubits,\n",
    "                optimization_level=0,  # Otherwise RB circuits are simplified to empty circuits.\n",
    "            )\n",
    "        )\n",
    "\n",
    "    if verbose:\n",
    "        # Calculate average number of CNOT gates per compiled circuit.\n",
    "        print(f\"Average cnot count in compiled circuits: {get_avg_cnot_count(to_run)}\")\n",
    "\n",
    "    # Run and get counts.\n",
    "    job = backend.run(\n",
    "        to_run,\n",
    "        # Reset qubits to ground state after each sample.\n",
    "        init_qubits=True,\n",
    "        shots=shots,\n",
    "    )\n",
    "    # IBMQ uses online queue for processing jobs.\n",
    "    if verbose and not use_noisy_simulator:\n",
    "        time.sleep(3)\n",
    "        while not job.in_final_state():\n",
    "            print(f\"Queue position: {job.queue_position()}\")\n",
    "            time.sleep(verbose_update_time)\n",
    "        print()\n",
    "\n",
    "    print(f\"Correct bitstring: {correct_bitstring}\")\n",
    "    if len(circuits) == 1:\n",
    "        return [job.result().get_counts().get(correct_bitstring, 0.0) / shots]\n",
    "    return [\n",
    "        count.get(correct_bitstring, 0.0) / shots for count in job.result().get_counts()\n",
    "    ]"
   ]
  },
  {
   "cell_type": "code",
   "execution_count": 13,
   "id": "242fbb7d",
   "metadata": {},
   "outputs": [
    {
     "data": {
      "text/plain": [
       "'2.0.0'"
      ]
     },
     "execution_count": 13,
     "metadata": {},
     "output_type": "execute_result"
    }
   ],
   "source": [
    "qiskit.__version__"
   ]
  },
  {
   "cell_type": "markdown",
   "id": "e6995bf8",
   "metadata": {},
   "source": [
    "## Experiment\n"
   ]
  },
  {
   "cell_type": "code",
   "execution_count": 14,
   "id": "168a74d7",
   "metadata": {},
   "outputs": [
    {
     "name": "stdout",
     "output_type": "stream",
     "text": [
      "<class 'networkx.classes.digraph.DiGraph'>\n"
     ]
    }
   ],
   "source": [
    "print(type(computer))\n"
   ]
  },
  {
   "cell_type": "code",
   "execution_count": 15,
   "id": "d070ea5b",
   "metadata": {},
   "outputs": [
    {
     "name": "stdout",
     "output_type": "stream",
     "text": [
      "2.8.8\n"
     ]
    }
   ],
   "source": [
    "print(nx.__version__)\n"
   ]
  },
  {
   "cell_type": "code",
   "execution_count": 16,
   "id": "35ec7f29",
   "metadata": {
    "scrolled": true
   },
   "outputs": [
    {
     "name": "stdout",
     "output_type": "stream",
     "text": [
      "Status: On depth 1\n",
      "\n"
     ]
    },
    {
     "ename": "TypeError",
     "evalue": "isinstance() arg 2 must be a type, a tuple of types, or a union",
     "output_type": "error",
     "traceback": [
      "\u001b[31m---------------------------------------------------------------------------\u001b[39m",
      "\u001b[31mTypeError\u001b[39m                                 Traceback (most recent call last)",
      "\u001b[36mCell\u001b[39m\u001b[36m \u001b[39m\u001b[32mIn[16]\u001b[39m\u001b[32m, line 25\u001b[39m\n\u001b[32m     21\u001b[39m \u001b[38;5;28;01mfor\u001b[39;00m trial \u001b[38;5;129;01min\u001b[39;00m \u001b[38;5;28mrange\u001b[39m(trials):\n\u001b[32m     22\u001b[39m     \u001b[38;5;66;03m# Local seed is calculated in this way to ensure that we don't get repeat values in loop.\u001b[39;00m\n\u001b[32m     23\u001b[39m     local_seed = \u001b[32m10\u001b[39m**\u001b[32m6\u001b[39m * depth + \u001b[32m10\u001b[39m**\u001b[32m3\u001b[39m * seed + trial\n\u001b[32m---> \u001b[39m\u001b[32m25\u001b[39m     circuit, correct_bitstring = \u001b[43mget_circuit\u001b[49m\u001b[43m(\u001b[49m\u001b[43mdepth\u001b[49m\u001b[43m,\u001b[49m\u001b[43m \u001b[49m\u001b[43mlocal_seed\u001b[49m\u001b[43m)\u001b[49m\n\u001b[32m     27\u001b[39m     (true_value,) = execute(\n\u001b[32m     28\u001b[39m         circuit,\n\u001b[32m     29\u001b[39m         ideal_backend,\n\u001b[32m   (...)\u001b[39m\u001b[32m     33\u001b[39m         is_noisy=\u001b[38;5;28;01mFalse\u001b[39;00m,\n\u001b[32m     34\u001b[39m     )\n\u001b[32m     35\u001b[39m     (noisy_value,) = execute(\n\u001b[32m     36\u001b[39m         circuit,\n\u001b[32m     37\u001b[39m         noisy_backend,\n\u001b[32m   (...)\u001b[39m\u001b[32m     41\u001b[39m         is_noisy=\u001b[38;5;28;01mTrue\u001b[39;00m,\n\u001b[32m     42\u001b[39m     )\n",
      "\u001b[36mCell\u001b[39m\u001b[36m \u001b[39m\u001b[32mIn[9]\u001b[39m\u001b[32m, line 13\u001b[39m, in \u001b[36mget_circuit\u001b[39m\u001b[34m(depth, seed)\u001b[39m\n\u001b[32m     12\u001b[39m \u001b[38;5;28;01mdef\u001b[39;00m\u001b[38;5;250m \u001b[39m\u001b[34mget_circuit\u001b[39m(depth: \u001b[38;5;28mint\u001b[39m, seed: \u001b[38;5;28mint\u001b[39m) -> \u001b[38;5;28mtuple\u001b[39m[qiskit.QuantumCircuit, \u001b[38;5;28mstr\u001b[39m]:\n\u001b[32m---> \u001b[39m\u001b[32m13\u001b[39m     circuit, correct_bitstring = \u001b[43mbenchmarks\u001b[49m\u001b[43m.\u001b[49m\u001b[43mgenerate_mirror_circuit\u001b[49m\u001b[43m(\u001b[49m\n\u001b[32m     14\u001b[39m \u001b[43m        \u001b[49m\u001b[43mnlayers\u001b[49m\u001b[43m=\u001b[49m\u001b[43mdepth\u001b[49m\u001b[43m,\u001b[49m\n\u001b[32m     15\u001b[39m \u001b[43m        \u001b[49m\u001b[43mtwo_qubit_gate_prob\u001b[49m\u001b[43m=\u001b[49m\u001b[32;43m1.0\u001b[39;49m\u001b[43m,\u001b[49m\n\u001b[32m     16\u001b[39m \u001b[43m        \u001b[49m\u001b[43mconnectivity_graph\u001b[49m\u001b[43m=\u001b[49m\u001b[43mcomputer\u001b[49m\u001b[43m,\u001b[49m\n\u001b[32m     17\u001b[39m \u001b[43m        \u001b[49m\u001b[43mtwo_qubit_gate_name\u001b[49m\u001b[43m=\u001b[49m\u001b[33;43m\"\u001b[39;49m\u001b[33;43mCNOT\u001b[39;49m\u001b[33;43m\"\u001b[39;49m\u001b[43m,\u001b[49m\n\u001b[32m     18\u001b[39m \u001b[43m        \u001b[49m\u001b[43mseed\u001b[49m\u001b[43m=\u001b[49m\u001b[43mseed\u001b[49m\u001b[43m,\u001b[49m\n\u001b[32m     19\u001b[39m \u001b[43m        \u001b[49m\u001b[43mreturn_type\u001b[49m\u001b[43m=\u001b[49m\u001b[33;43m\"\u001b[39;49m\u001b[33;43mqiskit\u001b[39;49m\u001b[33;43m\"\u001b[39;49m\u001b[43m,\u001b[49m\n\u001b[32m     20\u001b[39m \u001b[43m    \u001b[49m\u001b[43m)\u001b[49m\n\u001b[32m     22\u001b[39m     \u001b[38;5;66;03m# Reversed because Qiskit is wrong endian.\u001b[39;00m\n\u001b[32m     23\u001b[39m     \u001b[38;5;28;01mreturn\u001b[39;00m circuit, \u001b[33m\"\u001b[39m\u001b[33m\"\u001b[39m.join(\u001b[38;5;28mmap\u001b[39m(\u001b[38;5;28mstr\u001b[39m, correct_bitstring[::-\u001b[32m1\u001b[39m]))\n",
      "\u001b[36mFile \u001b[39m\u001b[32m~/opt/anaconda3/envs/QEM_11/lib/python3.11/site-packages/mitiq/benchmarks/mirror_circuits.py:190\u001b[39m, in \u001b[36mgenerate_mirror_circuit\u001b[39m\u001b[34m(nlayers, two_qubit_gate_prob, connectivity_graph, two_qubit_gate_name, seed, return_type)\u001b[39m\n\u001b[32m    185\u001b[39m     forward_circuit.append(circ)\n\u001b[32m    187\u001b[39m     quasi_inverse_gates.append(\n\u001b[32m    188\u001b[39m         random_paulis(connectivity_graph, random_state)\n\u001b[32m    189\u001b[39m     )\n\u001b[32m--> \u001b[39m\u001b[32m190\u001b[39m     quasi_inverse_gates.append(\u001b[43mcirq\u001b[49m\u001b[43m.\u001b[49m\u001b[43minverse\u001b[49m\u001b[43m(\u001b[49m\u001b[43mcirc\u001b[49m\u001b[43m)\u001b[49m)\n\u001b[32m    192\u001b[39m quasi_inversion_circuit.append(\n\u001b[32m    193\u001b[39m     gate \u001b[38;5;28;01mfor\u001b[39;00m gate \u001b[38;5;129;01min\u001b[39;00m \u001b[38;5;28mreversed\u001b[39m(quasi_inverse_gates)\n\u001b[32m    194\u001b[39m )\n\u001b[32m    196\u001b[39m rand_paulis = cirq.Circuit(random_paulis(connectivity_graph, random_state))\n",
      "\u001b[36mFile \u001b[39m\u001b[32m~/opt/anaconda3/envs/QEM_11/lib/python3.11/site-packages/cirq/protocols/inverse_protocol.py:102\u001b[39m, in \u001b[36minverse\u001b[39m\u001b[34m(val, default)\u001b[39m\n\u001b[32m     99\u001b[39m raiser = \u001b[38;5;28mgetattr\u001b[39m(val, \u001b[33m'\u001b[39m\u001b[33m__pow__\u001b[39m\u001b[33m'\u001b[39m, \u001b[38;5;28;01mNone\u001b[39;00m)\n\u001b[32m    101\u001b[39m \u001b[38;5;66;03m# pylint: disable=not-callable\u001b[39;00m\n\u001b[32m--> \u001b[39m\u001b[32m102\u001b[39m result = \u001b[38;5;28mNotImplemented\u001b[39m \u001b[38;5;28;01mif\u001b[39;00m raiser \u001b[38;5;129;01mis\u001b[39;00m \u001b[38;5;28;01mNone\u001b[39;00m \u001b[38;5;28;01melse\u001b[39;00m \u001b[43mraiser\u001b[49m\u001b[43m(\u001b[49m\u001b[43m-\u001b[49m\u001b[32;43m1\u001b[39;49m\u001b[43m)\u001b[49m\n\u001b[32m    103\u001b[39m \u001b[38;5;28;01mif\u001b[39;00m result \u001b[38;5;129;01mis\u001b[39;00m \u001b[38;5;129;01mnot\u001b[39;00m \u001b[38;5;28mNotImplemented\u001b[39m:\n\u001b[32m    104\u001b[39m     \u001b[38;5;28;01mreturn\u001b[39;00m result\n",
      "\u001b[36mFile \u001b[39m\u001b[32m~/opt/anaconda3/envs/QEM_11/lib/python3.11/site-packages/cirq/circuits/circuit.py:1973\u001b[39m, in \u001b[36mCircuit.__pow__\u001b[39m\u001b[34m(self, exponent)\u001b[39m\n\u001b[32m   1971\u001b[39m inv_moments = []\n\u001b[32m   1972\u001b[39m \u001b[38;5;28;01mfor\u001b[39;00m moment \u001b[38;5;129;01min\u001b[39;00m \u001b[38;5;28mself\u001b[39m[::-\u001b[32m1\u001b[39m]:\n\u001b[32m-> \u001b[39m\u001b[32m1973\u001b[39m     inv_moment = \u001b[43mcirq\u001b[49m\u001b[43m.\u001b[49m\u001b[43minverse\u001b[49m\u001b[43m(\u001b[49m\u001b[43mmoment\u001b[49m\u001b[43m,\u001b[49m\u001b[43m \u001b[49m\u001b[43mdefault\u001b[49m\u001b[43m=\u001b[49m\u001b[38;5;28;43mNotImplemented\u001b[39;49m\u001b[43m)\u001b[49m\n\u001b[32m   1974\u001b[39m     \u001b[38;5;28;01mif\u001b[39;00m inv_moment \u001b[38;5;129;01mis\u001b[39;00m \u001b[38;5;28mNotImplemented\u001b[39m:\n\u001b[32m   1975\u001b[39m         \u001b[38;5;28;01mreturn\u001b[39;00m \u001b[38;5;28mNotImplemented\u001b[39m\n",
      "\u001b[36mFile \u001b[39m\u001b[32m~/opt/anaconda3/envs/QEM_11/lib/python3.11/site-packages/cirq/protocols/inverse_protocol.py:102\u001b[39m, in \u001b[36minverse\u001b[39m\u001b[34m(val, default)\u001b[39m\n\u001b[32m     99\u001b[39m raiser = \u001b[38;5;28mgetattr\u001b[39m(val, \u001b[33m'\u001b[39m\u001b[33m__pow__\u001b[39m\u001b[33m'\u001b[39m, \u001b[38;5;28;01mNone\u001b[39;00m)\n\u001b[32m    101\u001b[39m \u001b[38;5;66;03m# pylint: disable=not-callable\u001b[39;00m\n\u001b[32m--> \u001b[39m\u001b[32m102\u001b[39m result = \u001b[38;5;28mNotImplemented\u001b[39m \u001b[38;5;28;01mif\u001b[39;00m raiser \u001b[38;5;129;01mis\u001b[39;00m \u001b[38;5;28;01mNone\u001b[39;00m \u001b[38;5;28;01melse\u001b[39;00m \u001b[43mraiser\u001b[49m\u001b[43m(\u001b[49m\u001b[43m-\u001b[49m\u001b[32;43m1\u001b[39;49m\u001b[43m)\u001b[49m\n\u001b[32m    103\u001b[39m \u001b[38;5;28;01mif\u001b[39;00m result \u001b[38;5;129;01mis\u001b[39;00m \u001b[38;5;129;01mnot\u001b[39;00m \u001b[38;5;28mNotImplemented\u001b[39m:\n\u001b[32m    104\u001b[39m     \u001b[38;5;28;01mreturn\u001b[39;00m result\n",
      "\u001b[36mFile \u001b[39m\u001b[32m~/opt/anaconda3/envs/QEM_11/lib/python3.11/site-packages/cirq/circuits/moment.py:376\u001b[39m, in \u001b[36mMoment.__pow__\u001b[39m\u001b[34m(self, power)\u001b[39m\n\u001b[32m    374\u001b[39m new_ops = []\n\u001b[32m    375\u001b[39m \u001b[38;5;28;01mfor\u001b[39;00m op \u001b[38;5;129;01min\u001b[39;00m \u001b[38;5;28mself\u001b[39m.operations:\n\u001b[32m--> \u001b[39m\u001b[32m376\u001b[39m     new_op = \u001b[43mprotocols\u001b[49m\u001b[43m.\u001b[49m\u001b[43mpow\u001b[49m\u001b[43m(\u001b[49m\u001b[43mop\u001b[49m\u001b[43m,\u001b[49m\u001b[43m \u001b[49m\u001b[43mpower\u001b[49m\u001b[43m,\u001b[49m\u001b[43m \u001b[49m\u001b[43mdefault\u001b[49m\u001b[43m=\u001b[49m\u001b[38;5;28;43;01mNone\u001b[39;49;00m\u001b[43m)\u001b[49m\n\u001b[32m    377\u001b[39m     \u001b[38;5;28;01mif\u001b[39;00m new_op \u001b[38;5;129;01mis\u001b[39;00m \u001b[38;5;28;01mNone\u001b[39;00m:\n\u001b[32m    378\u001b[39m         \u001b[38;5;28;01mreturn\u001b[39;00m \u001b[38;5;28mNotImplemented\u001b[39m\n",
      "\u001b[36mFile \u001b[39m\u001b[32m~/opt/anaconda3/envs/QEM_11/lib/python3.11/site-packages/cirq/protocols/pow_protocol.py:88\u001b[39m, in \u001b[36mpow\u001b[39m\u001b[34m(val, exponent, default)\u001b[39m\n\u001b[32m     64\u001b[39m \u001b[38;5;250m\u001b[39m\u001b[33;03m\"\"\"Returns `val**factor` of the given value, if defined.\u001b[39;00m\n\u001b[32m     65\u001b[39m \n\u001b[32m     66\u001b[39m \u001b[33;03mValues define an extrapolation by defining a __pow__(self, exponent) method.\u001b[39;00m\n\u001b[32m   (...)\u001b[39m\u001b[32m     85\u001b[39m \u001b[33;03m        NotImplemented) and no `default` value was specified.\u001b[39;00m\n\u001b[32m     86\u001b[39m \u001b[33;03m\"\"\"\u001b[39;00m\n\u001b[32m     87\u001b[39m raiser: Optional[Callable] = \u001b[38;5;28mgetattr\u001b[39m(val, \u001b[33m'\u001b[39m\u001b[33m__pow__\u001b[39m\u001b[33m'\u001b[39m, \u001b[38;5;28;01mNone\u001b[39;00m)\n\u001b[32m---> \u001b[39m\u001b[32m88\u001b[39m result = \u001b[38;5;28mNotImplemented\u001b[39m \u001b[38;5;28;01mif\u001b[39;00m raiser \u001b[38;5;129;01mis\u001b[39;00m \u001b[38;5;28;01mNone\u001b[39;00m \u001b[38;5;28;01melse\u001b[39;00m \u001b[43mraiser\u001b[49m\u001b[43m(\u001b[49m\u001b[43mexponent\u001b[49m\u001b[43m)\u001b[49m\n\u001b[32m     89\u001b[39m \u001b[38;5;28;01mif\u001b[39;00m result \u001b[38;5;129;01mis\u001b[39;00m \u001b[38;5;129;01mnot\u001b[39;00m \u001b[38;5;28mNotImplemented\u001b[39m:\n\u001b[32m     90\u001b[39m     \u001b[38;5;28;01mreturn\u001b[39;00m result\n",
      "\u001b[36mFile \u001b[39m\u001b[32m~/opt/anaconda3/envs/QEM_11/lib/python3.11/site-packages/cirq/ops/gate_operation.py:334\u001b[39m, in \u001b[36mGateOperation.__pow__\u001b[39m\u001b[34m(self, exponent)\u001b[39m\n\u001b[32m    320\u001b[39m \u001b[38;5;28;01mdef\u001b[39;00m\u001b[38;5;250m \u001b[39m\u001b[34m__pow__\u001b[39m(\u001b[38;5;28mself\u001b[39m, exponent: Any) -> \u001b[33m'\u001b[39m\u001b[33mcirq.Operation\u001b[39m\u001b[33m'\u001b[39m:\n\u001b[32m    321\u001b[39m \u001b[38;5;250m    \u001b[39m\u001b[33;03m\"\"\"Raise gate to a power, then reapply to the same qubits.\u001b[39;00m\n\u001b[32m    322\u001b[39m \n\u001b[32m    323\u001b[39m \u001b[33;03m    Only works if the gate implements cirq.ExtrapolatableEffect.\u001b[39;00m\n\u001b[32m   (...)\u001b[39m\u001b[32m    332\u001b[39m \u001b[33;03m        A new operation on the same qubits with the scaled gate.\u001b[39;00m\n\u001b[32m    333\u001b[39m \u001b[33;03m    \"\"\"\u001b[39;00m\n\u001b[32m--> \u001b[39m\u001b[32m334\u001b[39m     new_gate = \u001b[43mprotocols\u001b[49m\u001b[43m.\u001b[49m\u001b[43mpow\u001b[49m\u001b[43m(\u001b[49m\u001b[38;5;28;43mself\u001b[39;49m\u001b[43m.\u001b[49m\u001b[43mgate\u001b[49m\u001b[43m,\u001b[49m\u001b[43m \u001b[49m\u001b[43mexponent\u001b[49m\u001b[43m,\u001b[49m\u001b[43m \u001b[49m\u001b[38;5;28;43mNotImplemented\u001b[39;49m\u001b[43m)\u001b[49m\n\u001b[32m    335\u001b[39m     \u001b[38;5;28;01mif\u001b[39;00m new_gate \u001b[38;5;129;01mis\u001b[39;00m \u001b[38;5;28mNotImplemented\u001b[39m:\n\u001b[32m    336\u001b[39m         \u001b[38;5;28;01mreturn\u001b[39;00m \u001b[38;5;28mNotImplemented\u001b[39m\n",
      "\u001b[36mFile \u001b[39m\u001b[32m~/opt/anaconda3/envs/QEM_11/lib/python3.11/site-packages/cirq/protocols/pow_protocol.py:88\u001b[39m, in \u001b[36mpow\u001b[39m\u001b[34m(val, exponent, default)\u001b[39m\n\u001b[32m     64\u001b[39m \u001b[38;5;250m\u001b[39m\u001b[33;03m\"\"\"Returns `val**factor` of the given value, if defined.\u001b[39;00m\n\u001b[32m     65\u001b[39m \n\u001b[32m     66\u001b[39m \u001b[33;03mValues define an extrapolation by defining a __pow__(self, exponent) method.\u001b[39;00m\n\u001b[32m   (...)\u001b[39m\u001b[32m     85\u001b[39m \u001b[33;03m        NotImplemented) and no `default` value was specified.\u001b[39;00m\n\u001b[32m     86\u001b[39m \u001b[33;03m\"\"\"\u001b[39;00m\n\u001b[32m     87\u001b[39m raiser: Optional[Callable] = \u001b[38;5;28mgetattr\u001b[39m(val, \u001b[33m'\u001b[39m\u001b[33m__pow__\u001b[39m\u001b[33m'\u001b[39m, \u001b[38;5;28;01mNone\u001b[39;00m)\n\u001b[32m---> \u001b[39m\u001b[32m88\u001b[39m result = \u001b[38;5;28mNotImplemented\u001b[39m \u001b[38;5;28;01mif\u001b[39;00m raiser \u001b[38;5;129;01mis\u001b[39;00m \u001b[38;5;28;01mNone\u001b[39;00m \u001b[38;5;28;01melse\u001b[39;00m \u001b[43mraiser\u001b[49m\u001b[43m(\u001b[49m\u001b[43mexponent\u001b[49m\u001b[43m)\u001b[49m\n\u001b[32m     89\u001b[39m \u001b[38;5;28;01mif\u001b[39;00m result \u001b[38;5;129;01mis\u001b[39;00m \u001b[38;5;129;01mnot\u001b[39;00m \u001b[38;5;28mNotImplemented\u001b[39m:\n\u001b[32m     90\u001b[39m     \u001b[38;5;28;01mreturn\u001b[39;00m result\n",
      "\u001b[36mFile \u001b[39m\u001b[32m~/opt/anaconda3/envs/QEM_11/lib/python3.11/site-packages/cirq/ops/clifford_gate.py:752\u001b[39m, in \u001b[36mSingleQubitCliffordGate.__pow__\u001b[39m\u001b[34m(self, exponent)\u001b[39m\n\u001b[32m    750\u001b[39m         \u001b[38;5;28;01mreturn\u001b[39;00m pow_gate\n\u001b[32m    751\u001b[39m \u001b[38;5;66;03m# If not, we try the Clifford Tableau based method.\u001b[39;00m\n\u001b[32m--> \u001b[39m\u001b[32m752\u001b[39m ret_gate = \u001b[38;5;28;43msuper\u001b[39;49m\u001b[43m(\u001b[49m\u001b[43m)\u001b[49m\u001b[43m.\u001b[49m\u001b[34;43m__pow__\u001b[39;49m\u001b[43m(\u001b[49m\u001b[43mexponent\u001b[49m\u001b[43m)\u001b[49m\n\u001b[32m    753\u001b[39m \u001b[38;5;28;01mif\u001b[39;00m ret_gate \u001b[38;5;129;01mis\u001b[39;00m \u001b[38;5;28mNotImplemented\u001b[39m:\n\u001b[32m    754\u001b[39m     \u001b[38;5;28;01mreturn\u001b[39;00m \u001b[38;5;28mNotImplemented\u001b[39m\n",
      "\u001b[36mFile \u001b[39m\u001b[32m~/opt/anaconda3/envs/QEM_11/lib/python3.11/site-packages/cirq/ops/clifford_gate.py:409\u001b[39m, in \u001b[36mCliffordGate.__pow__\u001b[39m\u001b[34m(self, exponent)\u001b[39m\n\u001b[32m    406\u001b[39m exponent = \u001b[38;5;28mint\u001b[39m(exponent)\n\u001b[32m    408\u001b[39m \u001b[38;5;28;01mif\u001b[39;00m exponent == -\u001b[32m1\u001b[39m:\n\u001b[32m--> \u001b[39m\u001b[32m409\u001b[39m     \u001b[38;5;28;01mreturn\u001b[39;00m CliffordGate.from_clifford_tableau(\u001b[38;5;28;43mself\u001b[39;49m\u001b[43m.\u001b[49m\u001b[43mclifford_tableau\u001b[49m\u001b[43m.\u001b[49m\u001b[43minverse\u001b[49m\u001b[43m(\u001b[49m\u001b[43m)\u001b[49m)\n\u001b[32m    410\u001b[39m \u001b[38;5;28;01mif\u001b[39;00m exponent == \u001b[32m0\u001b[39m:\n\u001b[32m    411\u001b[39m     \u001b[38;5;28;01mreturn\u001b[39;00m CliffordGate.from_clifford_tableau(\n\u001b[32m    412\u001b[39m         qis.CliffordTableau(num_qubits=\u001b[38;5;28mself\u001b[39m._num_qubits_())\n\u001b[32m    413\u001b[39m     )\n",
      "\u001b[36mFile \u001b[39m\u001b[32m~/opt/anaconda3/envs/QEM_11/lib/python3.11/site-packages/cirq/qis/clifford_tableau.py:439\u001b[39m, in \u001b[36mCliffordTableau.inverse\u001b[39m\u001b[34m(self)\u001b[39m\n\u001b[32m    433\u001b[39m ret_table.zs[\u001b[38;5;28mself\u001b[39m.n :] = \u001b[38;5;28mself\u001b[39m.xs[: \u001b[38;5;28mself\u001b[39m.n].T\n\u001b[32m    435\u001b[39m \u001b[38;5;66;03m# Update the sign -- rs.\u001b[39;00m\n\u001b[32m    436\u001b[39m \u001b[38;5;66;03m# The idea is noting the sign of tabluea `a` contributes to the composed tableau\u001b[39;00m\n\u001b[32m    437\u001b[39m \u001b[38;5;66;03m# `a.then(b)` directly. (While the sign in `b` need take very complicated transformation.)\u001b[39;00m\n\u001b[32m    438\u001b[39m \u001b[38;5;66;03m# Refer above `then` function implementation for more details.\u001b[39;00m\n\u001b[32m--> \u001b[39m\u001b[32m439\u001b[39m ret_table.rs = \u001b[43mret_table\u001b[49m\u001b[43m.\u001b[49m\u001b[43mthen\u001b[49m\u001b[43m(\u001b[49m\u001b[38;5;28;43mself\u001b[39;49m\u001b[43m)\u001b[49m.rs\n\u001b[32m    440\u001b[39m \u001b[38;5;28;01mreturn\u001b[39;00m ret_table\n",
      "\u001b[36mFile \u001b[39m\u001b[32m~/opt/anaconda3/envs/QEM_11/lib/python3.11/site-packages/cirq/qis/clifford_tableau.py:411\u001b[39m, in \u001b[36mCliffordTableau.then\u001b[39m\u001b[34m(self, second)\u001b[39m\n\u001b[32m    405\u001b[39m m_12 = np.mod(m1 @ m2, \u001b[32m2\u001b[39m)\n\u001b[32m    406\u001b[39m p_12 = np.mod(p1 + m1 @ p2, \u001b[32m2\u001b[39m)\n\u001b[32m    407\u001b[39m s_12 = (\n\u001b[32m    408\u001b[39m     s1\n\u001b[32m    409\u001b[39m     + m1 @ s2\n\u001b[32m    410\u001b[39m     + p1 * (m1 @ p2)\n\u001b[32m--> \u001b[39m\u001b[32m411\u001b[39m     + np.diag(m1 @ \u001b[43mnp\u001b[49m\u001b[43m.\u001b[49m\u001b[43mtril\u001b[49m\u001b[43m(\u001b[49m\u001b[43mnp\u001b[49m\u001b[43m.\u001b[49m\u001b[43mouter\u001b[49m\u001b[43m(\u001b[49m\u001b[43mp2\u001b[49m\u001b[43m,\u001b[49m\u001b[43m \u001b[49m\u001b[43mp2\u001b[49m\u001b[43m.\u001b[49m\u001b[43mT\u001b[49m\u001b[43m)\u001b[49m\u001b[43m \u001b[49m\u001b[43m+\u001b[49m\u001b[43m \u001b[49m\u001b[43mm2\u001b[49m\u001b[43m \u001b[49m\u001b[43m@\u001b[49m\u001b[43m \u001b[49m\u001b[43mlmbda\u001b[49m\u001b[43m \u001b[49m\u001b[43m@\u001b[49m\u001b[43m \u001b[49m\u001b[43mm2\u001b[49m\u001b[43m.\u001b[49m\u001b[43mT\u001b[49m\u001b[43m,\u001b[49m\u001b[43m \u001b[49m\u001b[43m-\u001b[49m\u001b[32;43m1\u001b[39;49m\u001b[43m)\u001b[49m @ m1.T)\n\u001b[32m    412\u001b[39m )\n\u001b[32m    413\u001b[39m num_ys12 = np.sum(m_12[:, : \u001b[38;5;28mself\u001b[39m.n] * m_12[:, \u001b[38;5;28mself\u001b[39m.n :], axis=\u001b[32m1\u001b[39m)\n\u001b[32m    414\u001b[39m merged_sign = np.mod(p_12 + \u001b[32m2\u001b[39m * s_12 - num_ys12, \u001b[32m4\u001b[39m) // \u001b[32m2\u001b[39m\n",
      "\u001b[36mFile \u001b[39m\u001b[32m~/opt/anaconda3/envs/QEM_11/lib/python3.11/site-packages/numpy/lib/twodim_base.py:480\u001b[39m, in \u001b[36mtril\u001b[39m\u001b[34m(m, k)\u001b[39m\n\u001b[32m    432\u001b[39m \u001b[38;5;250m\u001b[39m\u001b[33;03m\"\"\"\u001b[39;00m\n\u001b[32m    433\u001b[39m \u001b[33;03mLower triangle of an array.\u001b[39;00m\n\u001b[32m    434\u001b[39m \n\u001b[32m   (...)\u001b[39m\u001b[32m    477\u001b[39m \n\u001b[32m    478\u001b[39m \u001b[33;03m\"\"\"\u001b[39;00m\n\u001b[32m    479\u001b[39m m = asanyarray(m)\n\u001b[32m--> \u001b[39m\u001b[32m480\u001b[39m mask = \u001b[43mtri\u001b[49m\u001b[43m(\u001b[49m\u001b[43m*\u001b[49m\u001b[43mm\u001b[49m\u001b[43m.\u001b[49m\u001b[43mshape\u001b[49m\u001b[43m[\u001b[49m\u001b[43m-\u001b[49m\u001b[32;43m2\u001b[39;49m\u001b[43m:\u001b[49m\u001b[43m]\u001b[49m\u001b[43m,\u001b[49m\u001b[43m \u001b[49m\u001b[43mk\u001b[49m\u001b[43m=\u001b[49m\u001b[43mk\u001b[49m\u001b[43m,\u001b[49m\u001b[43m \u001b[49m\u001b[43mdtype\u001b[49m\u001b[43m=\u001b[49m\u001b[38;5;28;43mbool\u001b[39;49m\u001b[43m)\u001b[49m\n\u001b[32m    482\u001b[39m \u001b[38;5;28;01mreturn\u001b[39;00m where(mask, m, zeros(\u001b[32m1\u001b[39m, m.dtype))\n",
      "\u001b[36mFile \u001b[39m\u001b[32m~/opt/anaconda3/envs/QEM_11/lib/python3.11/site-packages/numpy/lib/twodim_base.py:414\u001b[39m, in \u001b[36mtri\u001b[39m\u001b[34m(N, M, k, dtype, like)\u001b[39m\n\u001b[32m    411\u001b[39m \u001b[38;5;28;01mif\u001b[39;00m M \u001b[38;5;129;01mis\u001b[39;00m \u001b[38;5;28;01mNone\u001b[39;00m:\n\u001b[32m    412\u001b[39m     M = N\n\u001b[32m--> \u001b[39m\u001b[32m414\u001b[39m m = \u001b[43mgreater_equal\u001b[49m\u001b[43m.\u001b[49m\u001b[43mouter\u001b[49m\u001b[43m(\u001b[49m\u001b[43marange\u001b[49m\u001b[43m(\u001b[49m\u001b[43mN\u001b[49m\u001b[43m,\u001b[49m\u001b[43m \u001b[49m\u001b[43mdtype\u001b[49m\u001b[43m=\u001b[49m\u001b[43m_min_int\u001b[49m\u001b[43m(\u001b[49m\u001b[32;43m0\u001b[39;49m\u001b[43m,\u001b[49m\u001b[43m \u001b[49m\u001b[43mN\u001b[49m\u001b[43m)\u001b[49m\u001b[43m)\u001b[49m\u001b[43m,\u001b[49m\n\u001b[32m    415\u001b[39m \u001b[43m                        \u001b[49m\u001b[43marange\u001b[49m\u001b[43m(\u001b[49m\u001b[43m-\u001b[49m\u001b[43mk\u001b[49m\u001b[43m,\u001b[49m\u001b[43m \u001b[49m\u001b[43mM\u001b[49m\u001b[43m-\u001b[49m\u001b[43mk\u001b[49m\u001b[43m,\u001b[49m\u001b[43m \u001b[49m\u001b[43mdtype\u001b[49m\u001b[43m=\u001b[49m\u001b[43m_min_int\u001b[49m\u001b[43m(\u001b[49m\u001b[43m-\u001b[49m\u001b[43mk\u001b[49m\u001b[43m,\u001b[49m\u001b[43m \u001b[49m\u001b[43mM\u001b[49m\u001b[43m \u001b[49m\u001b[43m-\u001b[49m\u001b[43m \u001b[49m\u001b[43mk\u001b[49m\u001b[43m)\u001b[49m\u001b[43m)\u001b[49m\u001b[43m)\u001b[49m\n\u001b[32m    417\u001b[39m \u001b[38;5;66;03m# Avoid making a copy if the requested type is already bool\u001b[39;00m\n\u001b[32m    418\u001b[39m m = m.astype(dtype, copy=\u001b[38;5;28;01mFalse\u001b[39;00m)\n",
      "\u001b[31mTypeError\u001b[39m: isinstance() arg 2 must be a type, a tuple of types, or a union"
     ]
    }
   ],
   "source": [
    "import numpy as np\n",
    "np.matrix = np.array  # dangerous hack, but idk how else to resolve the error in \"(noisy_value,) = execute(...)\"\n",
    "\n",
    "cnot_counts, oneq_counts = [], []\n",
    "true_values, noisy_values = [], []\n",
    "zne_values = []\n",
    "#pec_values = []\n",
    "\n",
    "noise_scaled_expectation_values = []\n",
    "\n",
    "for depth in depths:\n",
    "    print(\"Status: On depth\", depth, end=\"\\n\\n\")\n",
    "\n",
    "    cnot_depth_counts, oneq_depth_counts = [], []\n",
    "    true_depth_values, noisy_depth_values = [], []\n",
    "    zne_depth_values = []\n",
    "    #pec_depth_values = []\n",
    "\n",
    "    noise_scaled_expectation_depth_values = []\n",
    "\n",
    "    for trial in range(trials):\n",
    "        # Local seed is calculated in this way to ensure that we don't get repeat values in loop.\n",
    "        local_seed = 10**6 * depth + 10**3 * seed + trial\n",
    "\n",
    "        circuit, correct_bitstring = get_circuit(depth, local_seed)\n",
    "\n",
    "        (true_value,) = execute(\n",
    "            circuit,\n",
    "            ideal_backend,\n",
    "            shots,\n",
    "            correct_bitstring,\n",
    "            verbose=verbose,\n",
    "            is_noisy=False,\n",
    "        )\n",
    "        (noisy_value,) = execute(\n",
    "            circuit,\n",
    "            noisy_backend,\n",
    "            shots,\n",
    "            correct_bitstring,\n",
    "            verbose=verbose,\n",
    "            is_noisy=True,\n",
    "        )\n",
    "\n",
    "        if mitigation_type == \"zne\":\n",
    "            zne_executor = functools.partial(\n",
    "                execute,\n",
    "                backend=noisy_backend,\n",
    "                shots=shots // len(scale_factors),\n",
    "                correct_bitstring=correct_bitstring,\n",
    "                verbose=verbose,\n",
    "            )\n",
    "            richardson_factory = zne.inference.RichardsonFactory(\n",
    "                scale_factors=scale_factors\n",
    "            )\n",
    "            zne_value = zne.execute_with_zne(\n",
    "                circuit,\n",
    "                zne_executor,\n",
    "                scale_noise=fold_method,\n",
    "                factory=richardson_factory,\n",
    "            )\n",
    "            zne_depth_values.append(zne_value)\n",
    "            noise_scaled_expectation_depth_values.extend(\n",
    "                richardson_factory.get_expectation_values()\n",
    "            )\n",
    "\n",
    "        #elif mitigation_type == \"pec\":\n",
    "        #    pec_executor = functools.partial(\n",
    "        #        execute,\n",
    "        #        backend=noisy_backend,\n",
    "        #        shots=shots // num_samples,\n",
    "        #        correct_bitstring=correct_bitstring,\n",
    "        #        verbose=verbose,\n",
    "        #    )\n",
    "        #    pec_value = pec.execute_with_pec(\n",
    "        #        circuit,\n",
    "        #        pec_executor,\n",
    "        #        representations=get_representations(computer),\n",
    "        #        num_samples=num_samples,\n",
    "        #        random_state=local_seed,\n",
    "        #    )\n",
    "        #    pec_depth_values.append(pec_value)\n",
    "\n",
    "        cnot_depth_counts.append(get_num_cnot_count(circuit))\n",
    "        oneq_depth_counts.append(get_oneq_count(circuit))\n",
    "\n",
    "        true_depth_values.append(true_value)\n",
    "        noisy_depth_values.append(noisy_value)\n",
    "\n",
    "    cnot_counts.append(cnot_depth_counts)\n",
    "    oneq_counts.append(oneq_depth_counts)\n",
    "\n",
    "    true_values.append(true_depth_values)\n",
    "    noisy_values.append(noisy_depth_values)\n",
    "\n",
    "    noise_scaled_expectation_values.append(noise_scaled_expectation_depth_values)\n",
    "\n",
    "    if mitigation_type == \"zne\":\n",
    "        zne_values.append(zne_depth_values)\n",
    "    #elif mitigation_type == \"pec\":\n",
    "    #    pec_values.append(pec_depth_values)"
   ]
  },
  {
   "cell_type": "markdown",
   "id": "2069092a",
   "metadata": {},
   "source": [
    "## Plot results\n"
   ]
  },
  {
   "cell_type": "code",
   "execution_count": 17,
   "id": "a02046ca",
   "metadata": {},
   "outputs": [
    {
     "ename": "AxisError",
     "evalue": "axis 1 is out of bounds for array of dimension 1",
     "output_type": "error",
     "traceback": [
      "\u001b[0;31m---------------------------------------------------------------------------\u001b[0m",
      "\u001b[0;31mAxisError\u001b[0m                                 Traceback (most recent call last)",
      "Cell \u001b[0;32mIn[17], line 1\u001b[0m\n\u001b[0;32m----> 1\u001b[0m avg_true_values \u001b[38;5;241m=\u001b[39m \u001b[43mnp\u001b[49m\u001b[38;5;241;43m.\u001b[39;49m\u001b[43maverage\u001b[49m\u001b[43m(\u001b[49m\u001b[43mtrue_values\u001b[49m\u001b[43m,\u001b[49m\u001b[43m \u001b[49m\u001b[43maxis\u001b[49m\u001b[38;5;241;43m=\u001b[39;49m\u001b[38;5;241;43m1\u001b[39;49m\u001b[43m)\u001b[49m\n\u001b[1;32m      2\u001b[0m avg_noisy_values \u001b[38;5;241m=\u001b[39m np\u001b[38;5;241m.\u001b[39maverage(noisy_values, axis\u001b[38;5;241m=\u001b[39m\u001b[38;5;241m1\u001b[39m)\n\u001b[1;32m      4\u001b[0m std_true_values \u001b[38;5;241m=\u001b[39m np\u001b[38;5;241m.\u001b[39mstd(true_values, axis\u001b[38;5;241m=\u001b[39m\u001b[38;5;241m1\u001b[39m, ddof\u001b[38;5;241m=\u001b[39m\u001b[38;5;241m1\u001b[39m)\n",
      "File \u001b[0;32m~/opt/anaconda3/envs/physicshw/lib/python3.9/site-packages/numpy/lib/function_base.py:520\u001b[0m, in \u001b[0;36maverage\u001b[0;34m(a, axis, weights, returned, keepdims)\u001b[0m\n\u001b[1;32m    517\u001b[0m     keepdims_kw \u001b[38;5;241m=\u001b[39m {\u001b[38;5;124m'\u001b[39m\u001b[38;5;124mkeepdims\u001b[39m\u001b[38;5;124m'\u001b[39m: keepdims}\n\u001b[1;32m    519\u001b[0m \u001b[38;5;28;01mif\u001b[39;00m weights \u001b[38;5;129;01mis\u001b[39;00m \u001b[38;5;28;01mNone\u001b[39;00m:\n\u001b[0;32m--> 520\u001b[0m     avg \u001b[38;5;241m=\u001b[39m \u001b[43ma\u001b[49m\u001b[38;5;241;43m.\u001b[39;49m\u001b[43mmean\u001b[49m\u001b[43m(\u001b[49m\u001b[43maxis\u001b[49m\u001b[43m,\u001b[49m\u001b[43m \u001b[49m\u001b[38;5;241;43m*\u001b[39;49m\u001b[38;5;241;43m*\u001b[39;49m\u001b[43mkeepdims_kw\u001b[49m\u001b[43m)\u001b[49m\n\u001b[1;32m    521\u001b[0m     avg_as_array \u001b[38;5;241m=\u001b[39m np\u001b[38;5;241m.\u001b[39masanyarray(avg)\n\u001b[1;32m    522\u001b[0m     scl \u001b[38;5;241m=\u001b[39m avg_as_array\u001b[38;5;241m.\u001b[39mdtype\u001b[38;5;241m.\u001b[39mtype(a\u001b[38;5;241m.\u001b[39msize\u001b[38;5;241m/\u001b[39mavg_as_array\u001b[38;5;241m.\u001b[39msize)\n",
      "File \u001b[0;32m~/opt/anaconda3/envs/physicshw/lib/python3.9/site-packages/numpy/core/_methods.py:106\u001b[0m, in \u001b[0;36m_mean\u001b[0;34m(a, axis, dtype, out, keepdims, where)\u001b[0m\n\u001b[1;32m    102\u001b[0m arr \u001b[38;5;241m=\u001b[39m asanyarray(a)\n\u001b[1;32m    104\u001b[0m is_float16_result \u001b[38;5;241m=\u001b[39m \u001b[38;5;28;01mFalse\u001b[39;00m\n\u001b[0;32m--> 106\u001b[0m rcount \u001b[38;5;241m=\u001b[39m \u001b[43m_count_reduce_items\u001b[49m\u001b[43m(\u001b[49m\u001b[43marr\u001b[49m\u001b[43m,\u001b[49m\u001b[43m \u001b[49m\u001b[43maxis\u001b[49m\u001b[43m,\u001b[49m\u001b[43m \u001b[49m\u001b[43mkeepdims\u001b[49m\u001b[38;5;241;43m=\u001b[39;49m\u001b[43mkeepdims\u001b[49m\u001b[43m,\u001b[49m\u001b[43m \u001b[49m\u001b[43mwhere\u001b[49m\u001b[38;5;241;43m=\u001b[39;49m\u001b[43mwhere\u001b[49m\u001b[43m)\u001b[49m\n\u001b[1;32m    107\u001b[0m \u001b[38;5;28;01mif\u001b[39;00m rcount \u001b[38;5;241m==\u001b[39m \u001b[38;5;241m0\u001b[39m \u001b[38;5;28;01mif\u001b[39;00m where \u001b[38;5;129;01mis\u001b[39;00m \u001b[38;5;28;01mTrue\u001b[39;00m \u001b[38;5;28;01melse\u001b[39;00m umr_any(rcount \u001b[38;5;241m==\u001b[39m \u001b[38;5;241m0\u001b[39m, axis\u001b[38;5;241m=\u001b[39m\u001b[38;5;28;01mNone\u001b[39;00m):\n\u001b[1;32m    108\u001b[0m     warnings\u001b[38;5;241m.\u001b[39mwarn(\u001b[38;5;124m\"\u001b[39m\u001b[38;5;124mMean of empty slice.\u001b[39m\u001b[38;5;124m\"\u001b[39m, \u001b[38;5;167;01mRuntimeWarning\u001b[39;00m, stacklevel\u001b[38;5;241m=\u001b[39m\u001b[38;5;241m2\u001b[39m)\n",
      "File \u001b[0;32m~/opt/anaconda3/envs/physicshw/lib/python3.9/site-packages/numpy/core/_methods.py:77\u001b[0m, in \u001b[0;36m_count_reduce_items\u001b[0;34m(arr, axis, keepdims, where)\u001b[0m\n\u001b[1;32m     75\u001b[0m     items \u001b[38;5;241m=\u001b[39m \u001b[38;5;241m1\u001b[39m\n\u001b[1;32m     76\u001b[0m     \u001b[38;5;28;01mfor\u001b[39;00m ax \u001b[38;5;129;01min\u001b[39;00m axis:\n\u001b[0;32m---> 77\u001b[0m         items \u001b[38;5;241m*\u001b[39m\u001b[38;5;241m=\u001b[39m arr\u001b[38;5;241m.\u001b[39mshape[\u001b[43mmu\u001b[49m\u001b[38;5;241;43m.\u001b[39;49m\u001b[43mnormalize_axis_index\u001b[49m\u001b[43m(\u001b[49m\u001b[43max\u001b[49m\u001b[43m,\u001b[49m\u001b[43m \u001b[49m\u001b[43marr\u001b[49m\u001b[38;5;241;43m.\u001b[39;49m\u001b[43mndim\u001b[49m\u001b[43m)\u001b[49m]\n\u001b[1;32m     78\u001b[0m     items \u001b[38;5;241m=\u001b[39m nt\u001b[38;5;241m.\u001b[39mintp(items)\n\u001b[1;32m     79\u001b[0m \u001b[38;5;28;01melse\u001b[39;00m:\n\u001b[1;32m     80\u001b[0m     \u001b[38;5;66;03m# TODO: Optimize case when `where` is broadcast along a non-reduction\u001b[39;00m\n\u001b[1;32m     81\u001b[0m     \u001b[38;5;66;03m# axis and full sum is more excessive than needed.\u001b[39;00m\n\u001b[1;32m     82\u001b[0m \n\u001b[1;32m     83\u001b[0m     \u001b[38;5;66;03m# guarded to protect circular imports\u001b[39;00m\n",
      "\u001b[0;31mAxisError\u001b[0m: axis 1 is out of bounds for array of dimension 1"
     ]
    }
   ],
   "source": [
    "avg_true_values = np.average(true_values, axis=1)\n",
    "avg_noisy_values = np.average(noisy_values, axis=1)\n",
    "\n",
    "std_true_values = np.std(true_values, axis=1, ddof=1)\n",
    "std_noisy_values = np.std(noisy_values, axis=1, ddof=1)\n",
    "\n",
    "if mitigation_type == \"zne\":\n",
    "    avg_zne_values = np.average(zne_values, axis=1)\n",
    "    std_zne_values = np.std(zne_values, axis=1, ddof=1)\n",
    "#elif mitigation_type == \"pec\":\n",
    "#    avg_pec_values = np.average(pec_values, axis=1)\n",
    "#    std_pec_values = np.std(pec_values, axis=1, ddof=1)"
   ]
  },
  {
   "cell_type": "code",
   "execution_count": 15,
   "id": "0022d819",
   "metadata": {},
   "outputs": [
    {
     "ename": "NameError",
     "evalue": "name 'avg_true_values' is not defined",
     "output_type": "error",
     "traceback": [
      "\u001b[0;31m---------------------------------------------------------------------------\u001b[0m",
      "\u001b[0;31mNameError\u001b[0m                                 Traceback (most recent call last)",
      "Cell \u001b[0;32mIn[15], line 5\u001b[0m\n\u001b[1;32m      1\u001b[0m plt\u001b[38;5;241m.\u001b[39mfigure(figsize\u001b[38;5;241m=\u001b[39m(\u001b[38;5;241m9\u001b[39m, \u001b[38;5;241m5\u001b[39m))\n\u001b[1;32m      3\u001b[0m kwargs \u001b[38;5;241m=\u001b[39m {\u001b[38;5;124m\"\u001b[39m\u001b[38;5;124mcapsize\u001b[39m\u001b[38;5;124m\"\u001b[39m: \u001b[38;5;241m10\u001b[39m, \u001b[38;5;124m\"\u001b[39m\u001b[38;5;124mlw\u001b[39m\u001b[38;5;124m\"\u001b[39m: \u001b[38;5;241m2\u001b[39m}\n\u001b[0;32m----> 5\u001b[0m plt\u001b[38;5;241m.\u001b[39mplot(depths, \u001b[43mavg_true_values\u001b[49m, label\u001b[38;5;241m=\u001b[39m\u001b[38;5;124m\"\u001b[39m\u001b[38;5;124mTrue\u001b[39m\u001b[38;5;124m\"\u001b[39m, lw\u001b[38;5;241m=\u001b[39m\u001b[38;5;241m2\u001b[39m)\n\u001b[1;32m      6\u001b[0m plt\u001b[38;5;241m.\u001b[39merrorbar(depths, avg_noisy_values, yerr\u001b[38;5;241m=\u001b[39mstd_noisy_values, label\u001b[38;5;241m=\u001b[39m\u001b[38;5;124m\"\u001b[39m\u001b[38;5;124mRaw\u001b[39m\u001b[38;5;124m\"\u001b[39m, \u001b[38;5;241m*\u001b[39m\u001b[38;5;241m*\u001b[39mkwargs)\n\u001b[1;32m      8\u001b[0m \u001b[38;5;28;01mif\u001b[39;00m mitigation_type \u001b[38;5;241m==\u001b[39m \u001b[38;5;124m\"\u001b[39m\u001b[38;5;124mzne\u001b[39m\u001b[38;5;124m\"\u001b[39m:\n",
      "\u001b[0;31mNameError\u001b[0m: name 'avg_true_values' is not defined"
     ]
    },
    {
     "data": {
      "text/plain": [
       "<Figure size 900x500 with 0 Axes>"
      ]
     },
     "metadata": {},
     "output_type": "display_data"
    }
   ],
   "source": [
    "plt.figure(figsize=(9, 5))\n",
    "\n",
    "kwargs = {\"capsize\": 10, \"lw\": 2}\n",
    "\n",
    "plt.plot(depths, avg_true_values, label=\"True\", lw=2)\n",
    "plt.errorbar(depths, avg_noisy_values, yerr=std_noisy_values, label=\"Raw\", **kwargs)\n",
    "\n",
    "if mitigation_type == \"zne\":\n",
    "    plt.errorbar(depths, avg_zne_values, yerr=std_zne_values, label=\"ZNE\", **kwargs)\n",
    "#elif mitigation_type == \"pec\":\n",
    "#    plt.errorbar(depths, avg_pec_values, yerr=std_pec_values, label=\"PEC\", **kwargs)\n",
    "\n",
    "plt.title(\n",
    "    f\"\"\"{hardware_type} with {circuit_type} circuit using {mitigation_type.upper()} {\"on simulator\" if use_noisy_simulator else \"\"} \\nqubits {qubits}, {trials} trials with {max_depth} depth\"\"\"\n",
    ")\n",
    "plt.xlabel(\"Depth\")\n",
    "plt.ylabel(\"Expectation value\")\n",
    "plt.savefig(f\"{hardware_type}_{mitigation_type}_{circuit_type}.pdf\")\n",
    "plt.legend();"
   ]
  },
  {
   "cell_type": "markdown",
   "id": "b0b56a75",
   "metadata": {},
   "source": [
    "## Save data\n"
   ]
  },
  {
   "cell_type": "code",
   "execution_count": null,
   "id": "41ee8f4d",
   "metadata": {},
   "outputs": [],
   "source": [
    "if save_data:\n",
    "    dir_name = f\"{hardware_type}_{mitigation_type}_{circuit_type}_nqubits_{len(qubits)}_mindepth_{min_depth}_maxdepth_{max_depth}_shots_{shots}_trials_{trials}\"\n",
    "    time_key = \"_\" + \"_\".join(time.asctime().split())\n",
    "\n",
    "    try:\n",
    "        os.mkdir(dir_name)\n",
    "    except FileExistsError:\n",
    "        pass\n",
    "\n",
    "    np.savetxt(\n",
    "        os.path.join(dir_name, \"noise_scaled_expectation_values\" + time_key + \".txt\"),\n",
    "        noise_scaled_expectation_values,\n",
    "    )\n",
    "    np.savetxt(os.path.join(dir_name, \"cnot_counts\" + time_key + \".txt\"), cnot_counts)\n",
    "    np.savetxt(os.path.join(dir_name, \"oneq_counts\" + time_key + \".txt\"), oneq_counts)\n",
    "    np.savetxt(os.path.join(dir_name, \"true_values\" + time_key + \".txt\"), true_values)\n",
    "    np.savetxt(os.path.join(dir_name, \"noisy_values\" + time_key + \".txt\"), noisy_values)\n",
    "    if mitigation_type == \"zne\":\n",
    "        np.savetxt(os.path.join(dir_name, \"zne_values\" + time_key + \".txt\"), zne_values)\n",
    "    #elif mitigation_type == \"pec\":\n",
    "    #    np.savetxt(os.path.join(dir_name, \"pec_values\" + time_key + \".txt\"), pec_values)\n",
    "\n",
    "    print(\"Data saved succesfully in\", dir_name)"
   ]
  }
 ],
 "metadata": {
  "jupytext": {
   "text_representation": {
    "extension": ".myst",
    "format_name": "myst",
    "format_version": 0.13,
    "jupytext_version": "1.11.1"
   }
  },
  "kernelspec": {
   "display_name": "Python 3 (ipykernel)",
   "language": "python",
   "name": "python3"
  },
  "language_info": {
   "codemirror_mode": {
    "name": "ipython",
    "version": 3
   },
   "file_extension": ".py",
   "mimetype": "text/x-python",
   "name": "python",
   "nbconvert_exporter": "python",
   "pygments_lexer": "ipython3",
   "version": "3.11.12"
  }
 },
 "nbformat": 4,
 "nbformat_minor": 5
}
