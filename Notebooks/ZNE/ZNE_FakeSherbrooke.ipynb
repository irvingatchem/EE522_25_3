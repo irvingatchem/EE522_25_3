{
 "cells": [
  {
   "cell_type": "markdown",
   "id": "a3c63782",
   "metadata": {},
   "source": [
    "# Testing ZNE on noisy quantum computers\n"
   ]
  },
  {
   "cell_type": "markdown",
   "id": "ecb501a4",
   "metadata": {},
   "source": [
    "**Description**\n",
    "\n",
    "Runs the Zero Noise Extrapolation (ZNE) technique on the FakeSherbrooke simulator, with mirror circuits. Built off sample code from `Mitiq`, and can be easily modified for other backends and other circuits. Runs on real hardware will be reserved for Roy's master notebook, which will have both ZNE and Probabilistic Error Correction (PEC). \n",
    "\n",
    "**Options**\n",
    "* Number of qubits: 1 to 21 for now\n",
    "* Max scale factor: up to 9\n",
    "* Max depth: up to whenever they converge \n",
    "* Folding type: global vs. the two types of local folding\n",
    "* Type of circuit: mirror, long CNOT, and a fun bonus one \n"
   ]
  },
  {
   "cell_type": "markdown",
   "id": "a3ba39ff",
   "metadata": {},
   "source": [
    "#### Things to note:"
   ]
  },
  {
   "cell_type": "markdown",
   "id": "a00a9f98",
   "metadata": {},
   "source": [
    "* If `scale_factor` is not an odd integer and if the input circuit is very short, there can be a large error in the actual scaling of the number of gates. For this reason, when dealing with very short circuits, we suggest to use odd integer scale factors\n",
    "* Some `Cirq` funcitonality occassionally breaks with newer versions of other packages, for some reason tuning everything into a function seems to fix most of the issues? "
   ]
  },
  {
   "cell_type": "markdown",
   "id": "fd54f380",
   "metadata": {},
   "source": [
    "## Setup\n"
   ]
  },
  {
   "cell_type": "code",
   "execution_count": null,
   "id": "df7a901e",
   "metadata": {},
   "outputs": [],
   "source": [
    "import functools\n",
    "import os\n",
    "import time\n",
    "from typing import List\n",
    "\n",
    "import matplotlib.pyplot as plt\n",
    "\n",
    "plt.rcParams.update({\"font.family\": \"serif\", \"font.size\": 15})\n",
    "%matplotlib inline\n",
    "\n",
    "import cirq\n",
    "import networkx as nx\n",
    "import numpy as np\n",
    "import qiskit\n",
    "import qiskit_aer\n",
    "from qiskit_ibm_runtime.fake_provider import FakeLimaV2, FakeKolkataV2, FakeSherbrooke \n",
    "from qiskit.providers.fake_provider import GenericBackendV2\n",
    "from mitiq import benchmarks, pec, zne"
   ]
  },
  {
   "cell_type": "markdown",
   "id": "6b69061a",
   "metadata": {},
   "source": [
    "## Problem definition\n"
   ]
  },
  {
   "cell_type": "markdown",
   "id": "3fcecb8a",
   "metadata": {},
   "source": [
    "### Scaling Parameters\n",
    "These parameters largely function as controls for the experiment. If desired, the `max_scale_factor` can be increased to 9. Higher values don't change much, as the noise is quite large at that point and the additional data points no longer provide better fitting to the zero noise limit."
   ]
  },
  {
   "cell_type": "code",
   "execution_count": null,
   "id": "d4c20c6a",
   "metadata": {},
   "outputs": [],
   "source": [
    "# Option to use a noisy simulator instead of hardware backend.\n",
    "use_noisy_simulator: bool = True\n",
    "\n",
    "# Minimum depth circuit to use.\n",
    "min_depth: int = 1\n",
    "# Random seed for circuit generation.\n",
    "seed: int = 1\n",
    "\n",
    "# Minimum noise scale factor.\n",
    "min_scale_factor: int = 1\n",
    "# Maximum noise scale factor.\n",
    "max_scale_factor: int = 3\n",
    "\n",
    "# Step between noise scale factors.\n",
    "step_scale_factor: int = 1\n",
    "\n",
    "# Total number of shots to use.\n",
    "# For ZNE, the shots per circuit is shots / len(scale_factors).\n",
    "shots: int = 10_000\n",
    "\n",
    "# Display verbose output.\n",
    "verbose: bool = True\n",
    "# Give queue updates every this many seconds when running on hardware device.\n",
    "verbose_update_time: int = 30\n",
    "\n",
    "# Save data (cnot_counts, oneq_counts, true_values, noisy_values, zne_values, etc.).\n",
    "save_data: bool = True\n"
   ]
  },
  {
   "cell_type": "markdown",
   "id": "0f6f4f4d",
   "metadata": {},
   "source": [
    "### Circuit parameters\n",
    "Here, changes are made. Qubit number is iterated over from 2 to 30 (an ideal upper bound, we'll see if we get there), with circuit depth determined to be the approximate point where one expects the mitigated expectation value to become as erroneous as the unmitigated expectation value."
   ]
  },
  {
   "cell_type": "code",
   "execution_count": null,
   "id": "14be58ab",
   "metadata": {},
   "outputs": [],
   "source": [
    "# Benchmark circuit type. Supported types are \"rb\" and \"mirror\".\n",
    "# RB circuits are only suppported for 1 and 2 qubit circuits.\n",
    "circuit_type: str = \"mirror\"\n",
    "\n",
    "# Qubits to use on the experiment.\n",
    "num_qubits = 2\n",
    "qubits = [j for j in range(num_qubits)]\n",
    "\n",
    "# Maximum depth circuit to use.\n",
    "max_depth: int = 160\n",
    "\n",
    "# Step to create a list of depths to run at.\n",
    "step_depth: int = 2\n",
    "\n",
    "# Average results over this many trials (circuit instances) at each depth.\n",
    "trials: int = 4\n",
    "\n",
    "# Noiseless simulation (used for calculating the true correct bitstrings)\n",
    "ideal_backend = qiskit_aer.AerSimulator()\n",
    "\n",
    "# Noisy simulation, without the additional hardware-specific noise\n",
    "noisy_backend = FakeSherbrooke()"
   ]
  },
  {
   "cell_type": "markdown",
   "id": "b18cb5d0",
   "metadata": {},
   "source": [
    "### Hardware parameters\n"
   ]
  },
  {
   "cell_type": "code",
   "execution_count": null,
   "id": "11f4fe0e",
   "metadata": {},
   "outputs": [],
   "source": [
    "# Hardware backend device type. Supported types are currently \"ibmq\" but more could be added.\n",
    "hardware_type: str = \"FakeSherbrooke\"\n",
    "\n",
    "backend = {\n",
    "    \"ibmq\": \"ibm_sherbrooke\",\n",
    "}.get(hardware_type)"
   ]
  },
  {
   "cell_type": "markdown",
   "id": "b1714266",
   "metadata": {},
   "source": [
    "### IBM qubit settings\n",
    "Previous work used `ibm_lima` and `ibm_kolkata` devices, which have been sunsetted. `ibm_sherbrooke` is one of two devices available to us, which I will use for the directed graph necessary for our benchmarking circuits. For a generic backend, it's likely this doesn't do anything, but it is a necessary step for running on `FakeSherbrooke` and real `ibm_sherbrooke`."
   ]
  },
  {
   "cell_type": "code",
   "execution_count": null,
   "id": "49056b87",
   "metadata": {},
   "outputs": [],
   "source": [
    "def get_phys_qubits(n_qubits): # Borrowed from Rebecca's notebook\n",
    "    # Physical qubits with a chain-like connectivity.\n",
    "    ibm_lima_ordering = [0, 1, 3, 4, 2] # Up to 5 qubits\n",
    "    ibm_kolkata_ordering = [0, 1, 4, 7, 10, 12, 15, 18, 21, 23, 24, 25, 22, 19, 16, 14, 11, 8, 5, 3, 2] # Up to 21 qubits\n",
    "    ibm_sherbrooke_ordering = [0, 1, 2, 3, 4, 5, 6, 7, 8, 9, 10, 11, 12, 17, 30, 29, 28, 27, 26, 25, 24, \n",
    "                               23, 22, 21, 20, 33, 39, 40, 41, 42, 43, 44, 45, 46, 47, 48, 49, 55, 68, \n",
    "                               67, 66, 65, 64, 63, 62, 61, 60, 59, 58, 71, 77, 78, 79, 80, 81, 82, 83, \n",
    "                               84, 85, 86, 87, 93, 106, 105, 104, 103, 102, 101, 100, 99, 98, 97, 96, \n",
    "                               109, 114, 115, 116, 117, 118, 119, 120, 121, 122, 123, 124, 125, 126] # Up to 87 qubits\n",
    "    \n",
    "    #if n_qubits <= 5:\n",
    "        # Assume ibmq-lima device. Take n adjacent physical qubits.\n",
    "        #physical_ibm_qubits = ibm_lima_ordering[: n_qubits]\n",
    "    #elif n_qubits <= len(ibm_kolkata_ordering) and n_qubits > 5:\n",
    "        # Assume ibmq-kolkata device. Take n adjacent physical qubits.\n",
    "        #physical_ibm_qubits = ibm_kolkata_ordering[: n_qubits]\n",
    "    #else:\n",
    "        #raise ValueError(f\"Number of qubits {n_qubits} too large.\")\n",
    "    physical_ibm_qubits = ibm_sherbrooke_ordering[: n_qubits]\n",
    "    \n",
    "    return physical_ibm_qubits"
   ]
  },
  {
   "cell_type": "markdown",
   "id": "8a3d009f",
   "metadata": {},
   "source": [
    "### Error mitigation options\n"
   ]
  },
  {
   "cell_type": "code",
   "execution_count": null,
   "id": "1621afb0",
   "metadata": {},
   "outputs": [],
   "source": [
    "# Error mitigation type. Supported typed are \"zne\" and \"pec\".\n",
    "mitigation_type: str = \"zne\"\n",
    "\n",
    "fold_method = zne.scaling.fold_global # Global folding\n",
    "# Other options are fold_gates_at_random() and fold_all() for local folding\n",
    "\n",
    "depths = list(range(min_depth, max_depth + 1, step_depth))\n",
    "\n",
    "scale_factors = tuple(range(min_scale_factor, max_scale_factor + 1, step_scale_factor))\n",
    "\n",
    "print(f\"Depths: {depths}\")\n",
    "print(f\"Scale factors: {scale_factors}\")"
   ]
  },
  {
   "cell_type": "markdown",
   "id": "16b463da",
   "metadata": {},
   "source": [
    "### Hardware architecture\n",
    "\n",
    "If the user selects the option to run on an actual hardware offering, define the architectural layout of the quantum device. Otherwise, invoke the appropriate simulator.\n"
   ]
  },
  {
   "cell_type": "code",
   "execution_count": null,
   "id": "46c7061b",
   "metadata": {},
   "outputs": [],
   "source": [
    "def get_computer(n_qubits):\n",
    "    # Make connectivity graph \n",
    "    computer = nx.Graph()\n",
    "\n",
    "    qubits = [j for j in range(n_qubits)]\n",
    "\n",
    "    # Split qubits into 2-qubit pairs (assuming a chain connectivity).\n",
    "    rb_pattern = [[qa, qb] for qa, qb in zip(qubits[0:-1:2], qubits[1::2])]\n",
    "    if n_qubits % 2 == 1:\n",
    "        # For an odd number of qubits, append final individual qubit to the RB pattern.\n",
    "        rb_pattern.append([qubits[-1]])\n",
    "    # print(\"Qubit indeces:\", qubits)\n",
    "    # print(\"RB pattern:\", rb_pattern)\n",
    "\n",
    "    # Assume chain-like connectivity\n",
    "    computer.add_edges_from([(qa, qb) for qa, qb in zip(qubits[:-1], qubits[1:])])\n",
    "\n",
    "    # Add reversed edges to computer graph.\n",
    "    # This is important to represent CNOT gates with target and control reversed.\n",
    "    computer = nx.to_directed(computer)\n",
    "    return computer"
   ]
  },
  {
   "cell_type": "code",
   "execution_count": null,
   "id": "06555e10",
   "metadata": {},
   "outputs": [],
   "source": [
    "def get_circuit(circuit_type:str, n_qubits:int, depth: int, seed: int) -> tuple[qiskit.QuantumCircuit, str]:\n",
    "    \"\"\"Create circuit.\"\"\"\n",
    "    \n",
    "    if circuit_type == \"rb\":\n",
    "        circuit = benchmarks.generate_rb_circuits(\n",
    "            n_qubits=2, \n",
    "            num_cliffords=depth, \n",
    "            seed=seed, \n",
    "            return_type=\"qiskit\"\n",
    "            )[0]\n",
    "        return circuit, \"00\"\n",
    "\n",
    "    elif circuit_type == \"mirror\":\n",
    "        # Make connectivity graph \n",
    "        computer = get_computer(n_qubits)\n",
    "        circuit, correct_bitstring = benchmarks.generate_mirror_circuit(\n",
    "                nlayers=depth,\n",
    "                two_qubit_gate_prob=1.0,\n",
    "                connectivity_graph=computer,\n",
    "                two_qubit_gate_name=\"CNOT\",\n",
    "                seed=seed,\n",
    "                return_type=\"qiskit\",\n",
    "            )\n",
    "        # Reversed because Qiskit is wrong endian.\n",
    "        return circuit, \"\".join(map(str, correct_bitstring[::-1]))\n",
    "    \n",
    "    else:\n",
    "        print(\"what\")\n",
    "        return\n"
   ]
  },
  {
   "cell_type": "markdown",
   "id": "e3fa4840",
   "metadata": {},
   "source": [
    "### Benchmark circuit\n"
   ]
  },
  {
   "cell_type": "code",
   "execution_count": null,
   "id": "add4a2a6",
   "metadata": {},
   "outputs": [],
   "source": [
    "def named_qubit_to_line_qubit(named_qubit: str) -> cirq.LineQubit:\n",
    "    \"\"\"Extract qubit number assuming \"_\" is used as a word separator.\"\"\"\n",
    "    digits = [int(s) for s in named_qubit.name.split(\"_\") if s.isdigit()]\n",
    "    if len(digits) == 1:\n",
    "        return cirq.LineQubit(digits[0])\n",
    "    else:\n",
    "        raise RuntimeError(\"Failed to identify qubit number.\")"
   ]
  },
  {
   "cell_type": "markdown",
   "id": "ba6396c1",
   "metadata": {},
   "source": [
    "### Operation representations\n"
   ]
  },
  {
   "cell_type": "code",
   "execution_count": null,
   "id": "8b72a785",
   "metadata": {},
   "outputs": [],
   "source": [
    "def get_cnot_error(edge: tuple[int, int] = None) -> float:\n",
    "    # If we use a simulator, we can't get any error probability from any specific\n",
    "    # device so we hardcode a small \"reasonable\" CNOT error probability.\n",
    "    # if use_noisy_simulator and hardware_type != \"ibmq\":\n",
    "    #cnot_error_prob = 0.01\n",
    "\n",
    "    cnot_error_prob = noisy_backend.properties().gate_error(\"cx\", qubits=edge)\n",
    "\n",
    "    print(f\"cnot_error_prob for edge {edge}: {cnot_error_prob}\")\n",
    "    return cnot_error_prob\n",
    "\n",
    "\n",
    "def get_cnot_representation(edge: tuple[int, int]) -> pec.OperationRepresentation:\n",
    "    cnot_circuit = cirq.Circuit(\n",
    "        cirq.CNOT(\n",
    "            cirq.NamedQubit(f\"q_{str(edge[0])}\"),\n",
    "            cirq.NamedQubit(f\"q_{str(edge[1])}\"),\n",
    "        )\n",
    "    )\n",
    "\n",
    "    rep_exact_prob = 1 - np.sqrt(1 - get_cnot_error(edge))\n",
    "    return pec.represent_operation_with_local_depolarizing_noise(\n",
    "        cnot_circuit,\n",
    "        noise_level=rep_exact_prob,\n",
    "    )\n",
    "\n",
    "\n",
    "def get_representations(computer: nx.Graph) -> list[pec.OperationRepresentation]:\n",
    "    return [get_cnot_representation(edge) for edge in computer.edges]"
   ]
  },
  {
   "cell_type": "markdown",
   "id": "dccf1353",
   "metadata": {},
   "source": [
    "### CNOT count utility functions\n"
   ]
  },
  {
   "cell_type": "code",
   "execution_count": null,
   "id": "d4e6eeac",
   "metadata": {},
   "outputs": [],
   "source": [
    "def get_num_cnot_count(circuit: qiskit.QuantumCircuit) -> int:\n",
    "    \"\"\"Determine number of cnot gates in a given `Circuit` object.\"\"\"\n",
    "\n",
    "    return circuit.count_ops().get(\"cx\")\n",
    "\n",
    "\n",
    "def get_avg_cnot_count(circuits: list[qiskit.QuantumCircuit]) -> float:\n",
    "    \"\"\"Determine average number of cnot gates present in\n",
    "    list of `QuantumCircuit` objects.\"\"\"\n",
    "    return np.average([c.count_ops().get(\"cx\", 0) for c in circuits]) # Returns 0 instead of None\n",
    "\n",
    "\n",
    "def get_oneq_count(circuit: qiskit.QuantumCircuit) -> int:\n",
    "    return len(circuit) - get_num_cnot_count(circuit)"
   ]
  },
  {
   "cell_type": "markdown",
   "id": "7c5de2b9",
   "metadata": {},
   "source": [
    "### Executor\n"
   ]
  },
  {
   "cell_type": "code",
   "execution_count": null,
   "id": "656f4bd1",
   "metadata": {},
   "outputs": [],
   "source": [
    "from typing import Union\n",
    "\n",
    "def execute(\n",
    "    circuits: Union[qiskit.QuantumCircuit, list[qiskit.QuantumCircuit]],\n",
    "    backend,\n",
    "    shots: int,\n",
    "    correct_bitstring: str,\n",
    "    verbose: bool = verbose,\n",
    "    is_noisy: bool = True,\n",
    ") -> List[float]:\n",
    "    \"\"\"Executes the input circuit(s) and returns ⟨A⟩, where\n",
    "    A = |correct_bitstring⟩⟨correct_bitstring| for each circuit.\n",
    "    \"\"\"\n",
    "    if not isinstance(circuits, list):\n",
    "        circuits = [circuits]\n",
    "\n",
    "    if verbose:\n",
    "        # Calculate average number of CNOT gates per circuit.\n",
    "        print(f\"Executing {len(circuits)} circuit(s) on {backend}.\")\n",
    "        print(f\"Average cnot count in circuits: {get_avg_cnot_count(circuits)}\")\n",
    "\n",
    "    # Store all circuits to run in list to be returned.\n",
    "    to_run: list[qiskit.QuantumCircuit] = []\n",
    "\n",
    "    for circuit in circuits:\n",
    "        circuit_to_run = circuit.copy()\n",
    "        circuit_to_run.measure_all()\n",
    "        to_run.append(\n",
    "            qiskit.transpile(\n",
    "                circuit_to_run,\n",
    "                backend=backend,\n",
    "                initial_layout=get_phys_qubits(circuit.num_qubits),\n",
    "                optimization_level=0,  # Otherwise RB circuits are simplified to empty circuits.\n",
    "            )\n",
    "        )\n",
    "\n",
    "    if verbose:\n",
    "        # Calculate average number of CNOT gates per compiled circuit.\n",
    "        print(f\"Average cnot count in compiled circuits: {get_avg_cnot_count(to_run)}\")\n",
    "\n",
    "    # Run and get counts.\n",
    "    job = backend.run(\n",
    "        to_run,\n",
    "        # Reset qubits to ground state after each sample.\n",
    "        init_qubits=True,\n",
    "        shots=shots,\n",
    "    )\n",
    "    # IBMQ uses online queue for processing jobs.\n",
    "    if verbose and not use_noisy_simulator:\n",
    "        time.sleep(3)\n",
    "        while not job.in_final_state():\n",
    "            print(f\"Queue position: {job.queue_position()}\")\n",
    "            time.sleep(verbose_update_time)\n",
    "        print()\n",
    "\n",
    "    print(f\"Correct bitstring: {correct_bitstring}\")\n",
    "    if len(circuits) == 1:\n",
    "        return [job.result().get_counts().get(correct_bitstring, 0.0) / shots]\n",
    "    return [\n",
    "        count.get(correct_bitstring, 0.0) / shots for count in job.result().get_counts()\n",
    "    ]"
   ]
  },
  {
   "cell_type": "markdown",
   "id": "e6995bf8",
   "metadata": {},
   "source": [
    "## Experiment\n"
   ]
  },
  {
   "cell_type": "code",
   "execution_count": null,
   "id": "35ec7f29",
   "metadata": {
    "scrolled": true
   },
   "outputs": [],
   "source": [
    "def run_experiment(depths, trials, n_qubits, shots, circuit_type):\n",
    "    cnot_counts, oneq_counts = [], []\n",
    "    true_values, noisy_values = [], []\n",
    "    zne_values = []\n",
    "    noise_scaled_expectation_values = []\n",
    "\n",
    "    for depth in depths:\n",
    "        print(\"Status: On depth\", depth, end=\"\\n\\n\")\n",
    "\n",
    "        cnot_depth_counts, oneq_depth_counts = [], []\n",
    "        true_depth_values, noisy_depth_values = [], []\n",
    "        zne_depth_values = []\n",
    "        #pec_depth_values = []\n",
    "\n",
    "        noise_scaled_expectation_depth_values = []\n",
    "\n",
    "        for trial in range(trials):\n",
    "            # Local seed is calculated in this way to ensure that we don't get repeat values in loop.\n",
    "            local_seed = 10**6 * depth + 10**3 * seed + trial\n",
    "\n",
    "            circuit, correct_bitstring = get_circuit(circuit_type, n_qubits, depth, local_seed)\n",
    "\n",
    "            (true_value,) = execute(\n",
    "                circuit,\n",
    "                ideal_backend,\n",
    "                shots,\n",
    "                correct_bitstring,\n",
    "                verbose=verbose,\n",
    "                is_noisy=False,\n",
    "            )\n",
    "            (noisy_value,) = execute(\n",
    "                circuit,\n",
    "                noisy_backend,\n",
    "                shots,\n",
    "                correct_bitstring,\n",
    "                verbose=verbose,\n",
    "                is_noisy=True,\n",
    "            )\n",
    "\n",
    "            \n",
    "            zne_executor = functools.partial(\n",
    "                execute,\n",
    "                backend=noisy_backend,\n",
    "                shots=shots // len(scale_factors),\n",
    "                correct_bitstring=correct_bitstring,\n",
    "                verbose=verbose,\n",
    "            )\n",
    "            richardson_factory = zne.inference.RichardsonFactory(\n",
    "                scale_factors=scale_factors\n",
    "            )\n",
    "            zne_value = zne.execute_with_zne(\n",
    "                circuit,\n",
    "                zne_executor,\n",
    "                scale_noise=fold_method,\n",
    "                factory=richardson_factory,\n",
    "            )\n",
    "            zne_depth_values.append(zne_value)\n",
    "            noise_scaled_expectation_depth_values.extend(\n",
    "                richardson_factory.get_expectation_values()\n",
    "            )\n",
    "\n",
    "            cnot_depth_counts.append(get_num_cnot_count(circuit))\n",
    "            oneq_depth_counts.append(get_oneq_count(circuit))\n",
    "\n",
    "            true_depth_values.append(true_value)\n",
    "            noisy_depth_values.append(noisy_value)\n",
    "\n",
    "        cnot_counts.append(cnot_depth_counts)\n",
    "        oneq_counts.append(oneq_depth_counts)\n",
    "\n",
    "        true_values.append(true_depth_values)\n",
    "        noisy_values.append(noisy_depth_values)\n",
    "\n",
    "        noise_scaled_expectation_values.append(noise_scaled_expectation_depth_values)\n",
    "\n",
    "        zne_values.append(zne_depth_values)\n",
    "    return cnot_counts, oneq_counts, true_values, noisy_values, noise_scaled_expectation_values, zne_values"
   ]
  },
  {
   "cell_type": "markdown",
   "id": "2069092a",
   "metadata": {},
   "source": [
    "## Plot results\n"
   ]
  },
  {
   "cell_type": "code",
   "execution_count": null,
   "id": "bb72adea",
   "metadata": {
    "scrolled": true
   },
   "outputs": [],
   "source": [
    "cnot_counts, oneq_counts, true_values, noisy_values, noise_scaled_expectation_values, zne_values = run_experiment(depths = depths, trials = trials, \n",
    "                                                                                                                  n_qubits = num_qubits, shots = shots, circuit_type = circuit_type)"
   ]
  },
  {
   "cell_type": "code",
   "execution_count": null,
   "id": "a02046ca",
   "metadata": {},
   "outputs": [],
   "source": [
    "avg_true_values = np.average(true_values, axis=1)\n",
    "avg_noisy_values = np.average(noisy_values, axis=1)\n",
    "\n",
    "std_true_values = np.std(true_values, axis=1, ddof=1)\n",
    "std_noisy_values = np.std(noisy_values, axis=1, ddof=1)\n",
    "\n",
    "avg_zne_values = np.average(zne_values, axis=1)\n",
    "std_zne_values = np.std(zne_values, axis=1, ddof=1)\n"
   ]
  },
  {
   "cell_type": "code",
   "execution_count": null,
   "id": "0022d819",
   "metadata": {},
   "outputs": [],
   "source": [
    "plt.figure(figsize=(9, 5))\n",
    "\n",
    "kwargs = {\"capsize\": 10, \"lw\": 2}\n",
    "\n",
    "plt.plot(depths, avg_true_values, label=\"True\", lw=2)\n",
    "plt.errorbar(depths, avg_noisy_values, yerr=std_noisy_values, label=\"Raw\", **kwargs)\n",
    "\n",
    "if mitigation_type == \"zne\":\n",
    "    plt.errorbar(depths, avg_zne_values, yerr=std_zne_values, label=\"ZNE\", **kwargs)\n",
    "#elif mitigation_type == \"pec\":\n",
    "#    plt.errorbar(depths, avg_pec_values, yerr=std_pec_values, label=\"PEC\", **kwargs)\n",
    "\n",
    "plt.title(\n",
    "    f\"\"\"{hardware_type} with {circuit_type} circuit using {mitigation_type.upper()} {\"on simulator\" if use_noisy_simulator else \"\"} \\nqubits {qubits}, {trials} trials with {max_depth} depth\"\"\"\n",
    ")\n",
    "plt.xlabel(\"Depth\")\n",
    "plt.ylabel(\"Expectation value\")\n",
    "plt.savefig(f\"{hardware_type}_{mitigation_type}_{circuit_type}_{qubits}qubits_{max_depth}depth.png\")\n",
    "plt.legend();"
   ]
  },
  {
   "cell_type": "markdown",
   "id": "b0b56a75",
   "metadata": {},
   "source": [
    "## Save data\n"
   ]
  },
  {
   "cell_type": "code",
   "execution_count": null,
   "id": "41ee8f4d",
   "metadata": {},
   "outputs": [],
   "source": [
    "if save_data:\n",
    "    dir_name = f\"{hardware_type}_{mitigation_type}_{circuit_type}_nqubits_{len(qubits)}_mindepth_{min_depth}_maxdepth_{max_depth}_shots_{shots}_trials_{trials}\"\n",
    "    #time_key = \"_\" + \"_\".join(time.asctime().split())\n",
    "\n",
    "    try:\n",
    "        os.mkdir(dir_name)\n",
    "    except FileExistsError:\n",
    "        pass\n",
    "\n",
    "    np.savetxt(\n",
    "        os.path.join(dir_name, \"noise_scaled_expectation_values\" + \".txt\"),\n",
    "        noise_scaled_expectation_values,\n",
    "    )\n",
    "    np.savetxt(os.path.join(dir_name, \"cnot_counts\" + \".txt\"), cnot_counts)\n",
    "    np.savetxt(os.path.join(dir_name, \"oneq_counts\" + \".txt\"), oneq_counts)\n",
    "    np.savetxt(os.path.join(dir_name, \"true_values\" + \".txt\"), true_values)\n",
    "    np.savetxt(os.path.join(dir_name, \"noisy_values\" + \".txt\"), noisy_values)\n",
    "    if mitigation_type == \"zne\":\n",
    "        np.savetxt(os.path.join(dir_name, \"zne_values\" + \".txt\"), zne_values)\n",
    "    #elif mitigation_type == \"pec\":\n",
    "    #    np.savetxt(os.path.join(dir_name, \"pec_values\" + time_key + \".txt\"), pec_values)\n",
    "\n",
    "    print(\"Data saved succesfully in\", dir_name)"
   ]
  },
  {
   "cell_type": "code",
   "execution_count": null,
   "id": "55f11eff-c0fe-4ff7-8a7b-a330dec2ff91",
   "metadata": {},
   "outputs": [],
   "source": []
  }
 ],
 "metadata": {
  "jupytext": {
   "text_representation": {
    "extension": ".myst",
    "format_name": "myst",
    "format_version": 0.13,
    "jupytext_version": "1.11.1"
   }
  },
  "kernelspec": {
   "display_name": "base",
   "language": "python",
   "name": "python3"
  },
  "language_info": {
   "codemirror_mode": {
    "name": "ipython",
    "version": 3
   },
   "file_extension": ".py",
   "mimetype": "text/x-python",
   "name": "python",
   "nbconvert_exporter": "python",
   "pygments_lexer": "ipython3",
   "version": "3.12.7"
  }
 },
 "nbformat": 4,
 "nbformat_minor": 5
}
