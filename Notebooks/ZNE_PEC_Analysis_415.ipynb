{
 "cells": [
  {
   "cell_type": "markdown",
   "id": "260de28d",
   "metadata": {},
   "source": [
    "# Testing PEC and ZNE on noisy quantum computers"
   ]
  },
  {
   "cell_type": "markdown",
   "id": "4e40a518",
   "metadata": {},
   "source": [
    "**Description**\n",
    "\n",
    "Runs various error mitigation techniques (ZNE and PEC) on a noisy simulator using GHZ benchmark circuits."
   ]
  },
  {
   "cell_type": "code",
   "execution_count": null,
   "id": "c5bef853",
   "metadata": {},
   "outputs": [],
   "source": [
    "\n",
    "import numpy as np\n",
    "import pandas as pd\n",
    "import matplotlib.pyplot as plt\n",
    "import networkx as nx\n",
    "import cirq\n",
    "\n",
    "from qiskit import QuantumCircuit, transpile\n",
    "from qiskit_aer import AerSimulator\n",
    "from qiskit_ibm_runtime.fake_provider import FakeJakartaV2 as FakeJakarta\n",
    "\n",
    "from mitiq import zne, pec\n",
    "from mitiq.zne.scaling import fold_global, fold_all, fold_gates_at_random\n",
    "from mitiq.zne.inference import RichardsonFactory, LinearFactory, PolyFactory\n",
    "from mitiq.pec import execute_with_pec, OperationRepresentation\n"
   ]
  },
  {
   "cell_type": "code",
   "execution_count": null,
   "id": "da118bb6",
   "metadata": {},
   "outputs": [],
   "source": []
  },
  {
   "cell_type": "markdown",
   "id": "e227de4a",
   "metadata": {},
   "source": [
    "## Setup"
   ]
  },
  {
   "cell_type": "markdown",
   "id": "46438dbd",
   "metadata": {},
   "source": [
    "## Parameters"
   ]
  },
  {
   "cell_type": "code",
   "execution_count": 3,
   "id": "413d039a",
   "metadata": {},
   "outputs": [],
   "source": [
    "shots = 10000\n",
    "depths = [1, 2, 3]\n",
    "scale_sets = [[1.0, 2.0], [1.0, 2.0, 3.0], [1.0, 1.5, 2.0, 2.5, 3.0]]\n",
    "folding_methods = [fold_global, fold_all, fold_gates_at_random]\n",
    "factory_constructors = [\n",
    "    lambda s: RichardsonFactory(scale_factors=s),\n",
    "    lambda s: LinearFactory(scale_factors=[s[0], s[-1]]),\n",
    "    lambda s: PolyFactory(scale_factors=s, order=min(2, len(s)-1))\n",
    "]\n",
    "pec_samples = [500, 1000]\n",
    "noisy_backend = FakeJakarta()\n",
    "ideal_backend = AerSimulator()"
   ]
  },
  {
   "cell_type": "markdown",
   "id": "c6354f0a",
   "metadata": {},
   "source": [
    "## GHZ Circuit Generator"
   ]
  },
  {
   "cell_type": "code",
   "execution_count": 4,
   "id": "c0ca9ac6",
   "metadata": {},
   "outputs": [],
   "source": [
    "def generate_ghz_with_depth(n_qubits, depth):\n",
    "    circuit = QuantumCircuit(n_qubits)\n",
    "    circuit.h(0)\n",
    "    for d in range(depth):\n",
    "        for i in range(n_qubits - 1):\n",
    "            circuit.cx(i, i + 1)\n",
    "    return circuit"
   ]
  },
  {
   "cell_type": "markdown",
   "id": "c968da8b",
   "metadata": {},
   "source": [
    "## Executor"
   ]
  },
  {
   "cell_type": "code",
   "execution_count": 5,
   "id": "c5949ca0",
   "metadata": {},
   "outputs": [],
   "source": [
    "def execute_noisy_expectation(circuit, backend=noisy_backend, shots=shots):\n",
    "    # Append measurement gates\n",
    "    circuit_to_run = circuit.copy()\n",
    "    circuit_to_run.measure_all()\n",
    "    compiled = transpile(circuit_to_run, backend)\n",
    "    result = backend.run(compiled, shots=shots).result()\n",
    "    counts = result.get_counts(circuit_to_run)\n",
    "    #noisy_expectation_value = (noisy_counts[n_qubits * \"0\"] + noisy_counts[n_qubits * \"1\"])/ shots\n",
    "\n",
    "    all_zero = '0' * circuit_to_run.num_qubits\n",
    "    all_one = '1' * circuit_to_run.num_qubits\n",
    "    return (counts.get(all_zero, 0) + counts.get(all_one, 0)) / shots"
   ]
  },
  {
   "cell_type": "code",
   "execution_count": null,
   "id": "6b4701ee",
   "metadata": {},
   "outputs": [],
   "source": [
    "def execute_ideal_backend(circuit):\n",
    "    ideal_backend = AerSimulator()\n",
    "\n",
    "    # Append measurement gates\n",
    "    circuit_to_run = circuit.copy()\n",
    "    circuit_to_run.measure_all()\n",
    "\n",
    "    #######################################\n",
    "\n",
    "    # TODO: Run circuit_to_run on the ideal backend and get the ideal counts\n",
    "    ideal_result = ideal_backend.run(circuit_to_run, shots=shots).result()\n",
    "    ideal_counts = ideal_result.get_counts(circuit_to_run)\n",
    "\n",
    "    #######################################\n",
    "\n",
    "\n",
    "   # plot_histogram(ideal_counts, title='Counts for an ideal GHZ state')\n",
    "    return ideal_result,ideal_counts"
   ]
  },
  {
   "cell_type": "code",
   "execution_count": 10,
   "id": "c54e6f39",
   "metadata": {},
   "outputs": [],
   "source": [
    "# Run the simulation on the noisy backend\n",
    "def execute_noisy_expectation_plt(circuit_to_run,shots,n_qubits):\n",
    "#######################################\n",
    "\n",
    "    # TODO: Run circuit_to_run on the noisy backend and get the noisy counts\n",
    "   # noisy_result = noisy_backend.run(circuit_to_run, shots=shots).result()\n",
    "    #noisy_counts = noisy_result.get_counts(circuit_to_run)\n",
    "    #print(\"Executing a circuit of depth:\", compiled_circuit.depth())\n",
    "    ######################################\n",
    "    \n",
    "    # TODO: cope and paste the instructions that we previously used to obtain noisy <A>.\n",
    "    noisy_result = noisy_backend.run(circuit_to_run, shots=shots).result()\n",
    "    noisy_counts = noisy_result.get_counts(circuit_to_run)\n",
    "    noisy_expectation_value = (noisy_counts[n_qubits * \"0\"] + noisy_counts[n_qubits * \"1\"])/ shots\n",
    "    #######################################\n",
    "    #plot_histogram(noisy_counts, title='Counts for a noisy GHZ state', figsize=(15, 5))\n",
    "    return noisy_counts,noisy_result"
   ]
  },
  {
   "cell_type": "code",
   "execution_count": 11,
   "id": "f71fa4a3",
   "metadata": {},
   "outputs": [],
   "source": [
    "def compareid_noisy(ideal_counts, noisy_counts, n_qubits,shots):\n",
    "    ideal_expectation_value = (ideal_counts[n_qubits * \"0\"]+ ideal_counts[n_qubits * \"1\"])/ shots # TODO: get <A> from ideal_counts\n",
    "    print(f\"The ideal expectation value is <A> = {ideal_expectation_value}\")\n",
    "\n",
    "    noisy_expectation_value = (noisy_counts[n_qubits * \"0\"] + noisy_counts[n_qubits * \"1\"])/ shots # TODO: get <A> from noisy_counts\n",
    "    print(f\"The noisy expectation value is <A> = {noisy_expectation_value}\")"
   ]
  },
  {
   "cell_type": "code",
   "execution_count": 12,
   "id": "38861e04",
   "metadata": {},
   "outputs": [],
   "source": [
    "def execute(compiled_circuit,n_qubits,circuit_to_run):\n",
    "    \"\"\"Executes the input circuits and returns the expectation value of A=|00..0><00..0| + |11..1><11..1|.\"\"\"\n",
    "    print(\"Executing a circuit of depth:\", compiled_circuit.depth())\n",
    "    ######################################\n",
    "    \n",
    "    # TODO: cope and paste the instructions that we previously used to obtain noisy <A>.\n",
    "    noisy_result = noisy_backend.run(circuit_to_run, shots=shots).result()\n",
    "    noisy_counts = noisy_result.get_counts(circuit_to_run)\n",
    "    noisy_expectation_value = (noisy_counts[n_qubits * \"0\"] + noisy_counts[n_qubits * \"1\"])/ shots\n",
    "\n",
    "    #######################################\n",
    "\n",
    "    return noisy_expectation_value"
   ]
  },
  {
   "cell_type": "code",
   "execution_count": null,
   "id": "0f179595",
   "metadata": {},
   "outputs": [],
   "source": [
    "#print(f\"The noisy expectation value is <A> = {execute(compiled_circuit)}\")"
   ]
  },
  {
   "cell_type": "code",
   "execution_count": 14,
   "id": "e102e1de",
   "metadata": {},
   "outputs": [],
   "source": [
    "from mitiq import zne\n",
    "\n",
    "#zne_value = zne.execute_with_zne(\n",
    " #   circuit= compiled_circuit, # TODO... docs: https://mitiq.readthedocs.io/en/stable/apidoc.html#module-mitiq.zne.zne\n",
    "  #  executor= execute # TODO...\n",
    "#)\n",
    "                                \n",
    "#print(f\"The error mitigated expectation value is <A> = {zne_value}\")"
   ]
  },
  {
   "cell_type": "code",
   "execution_count": null,
   "id": "a1b384c1",
   "metadata": {},
   "outputs": [],
   "source": []
  },
  {
   "cell_type": "code",
   "execution_count": null,
   "id": "b155c294",
   "metadata": {},
   "outputs": [],
   "source": []
  },
  {
   "cell_type": "code",
   "execution_count": 15,
   "id": "0e671ae1",
   "metadata": {},
   "outputs": [],
   "source": [
    "noisy_backend = FakeJakarta() # QPU emulator\n",
    "\n",
    "# Compile the circuit into the native gates of the backend\n",
    "#compiled_circuit = transpile(circuit_to_run, noisy_backend)"
   ]
  },
  {
   "cell_type": "code",
   "execution_count": 16,
   "id": "5b0b99e2",
   "metadata": {},
   "outputs": [],
   "source": [
    "def execute_noisy_expectation(circuit_to_run, backend=noisy_backend, shots=shots):\n",
    "    compiled_circuit=circuit_to_run\n",
    "    \"\"\"Executes the input circuits and returns the expectation value of A=|00..0><00..0| + |11..1><11..1|.\"\"\"\n",
    "    print(\"Executing a circuit of depth:\", compiled_circuit.depth())\n",
    "    ######################################\n",
    "    \n",
    "    # TODO: cope and paste the instructions that we previously used to obtain noisy <A>.\n",
    "    noisy_result = noisy_backend.run(circuit_to_run, shots=shots).result()\n",
    "    noisy_counts = noisy_result.get_counts(circuit_to_run)\n",
    "    noisy_expectation_value = (noisy_counts[n_qubits * \"0\"] + noisy_counts[n_qubits * \"1\"])/ shots\n",
    "\n",
    "    #######################################\n",
    "\n",
    "    return noisy_expectation_value"
   ]
  },
  {
   "cell_type": "markdown",
   "id": "b3db90e5",
   "metadata": {},
   "source": [
    "## Run ZNE Experiment"
   ]
  },
  {
   "cell_type": "code",
   "execution_count": null,
   "id": "892dd656",
   "metadata": {},
   "outputs": [],
   "source": [
    "results = []\n",
    "'''for depth in depths:\n",
    "    circuit = generate_ghz_with_depth(5, depth)\n",
    "    transpiled = transpile(circuit, backend=noisy_backend)\n",
    "    for scale_factors in scale_sets:\n",
    "        for fold in folding_methods:\n",
    "            for factory_fn in factory_constructors:\n",
    "                factory = factory_fn(scale_factors)\n",
    "                folded_circs = [fold(transpiled, s) for s in scale_factors]\n",
    "                evals = [execute_noisy_expectation(c) for c in folded_circs]\n",
    "                for s, val in zip(scale_factors, evals):\n",
    "                    factory.push({'scale_factor': s}, val)\n",
    "                try:\n",
    "                    zne_val = factory.reduce()\n",
    "                    results.append({\n",
    "                        'method': 'ZNE',\n",
    "                        'depth': depth,\n",
    "                        'folding': fold.__name__,\n",
    "                        'factory': type(factory).__name__,\n",
    "                        'scale_factors': str(scale_factors),\n",
    "                        'mitigated_value': zne_val\n",
    "                    })\n",
    "                except Exception as e:\n",
    "                    print(f'ZNE failed at depth {depth}:', e)'''"
   ]
  },
  {
   "cell_type": "code",
   "execution_count": null,
   "id": "fb07f4e7",
   "metadata": {},
   "outputs": [],
   "source": [
    "# Run the simulation on the noisy backend\n",
    "from qiskit.visualization import plot_histogram\n",
    "\n",
    "def execute_noisy_expectation_plt(circuit_to_run,shots,n_qubits):\n",
    "#######################################\n",
    "\n",
    "   \n",
    "    ######################################\n",
    "    \n",
    "    # TODO: cope and paste the instructions that we previously used to obtain noisy <A>.\n",
    "    noisy_result = noisy_backend.run(circuit_to_run, shots=shots).result()\n",
    "    noisy_counts = noisy_result.get_counts(circuit_to_run)\n",
    "    noisy_expectation_value = (noisy_counts[n_qubits * \"0\"] + noisy_counts[n_qubits * \"1\"])/ shots\n",
    "    #######################################\n",
    "    plot_histogram(noisy_counts, title='Counts for a noisy GHZ state', figsize=(15, 5))\n",
    "    return [noisy_counts,noisy_result,circuit_to_run.depth()]"
   ]
  },
  {
   "cell_type": "code",
   "execution_count": null,
   "id": "7a58999d",
   "metadata": {},
   "outputs": [
    {
     "name": "stdout",
     "output_type": "stream",
     "text": [
      "✓ Success: 3q, fold=fold_global, factory=RichardsonFactory, ⟨A⟩ = 0.9456\n",
      "✓ Success: 3q, fold=fold_global, factory=LinearFactory, ⟨A⟩ = 0.9486\n",
      "✓ Success: 3q, fold=fold_global, factory=PolyFactory, ⟨A⟩ = 0.9459\n",
      "✓ Success: 3q, fold=fold_all, factory=RichardsonFactory, ⟨A⟩ = 0.9342\n",
      "✓ Success: 3q, fold=fold_all, factory=LinearFactory, ⟨A⟩ = 0.9388\n",
      "✓ Success: 3q, fold=fold_all, factory=PolyFactory, ⟨A⟩ = 0.9382\n",
      "✓ Success: 3q, fold=fold_gates_at_random, factory=RichardsonFactory, ⟨A⟩ = 0.9355\n",
      "✓ Success: 3q, fold=fold_gates_at_random, factory=LinearFactory, ⟨A⟩ = 0.9411\n",
      "✓ Success: 3q, fold=fold_gates_at_random, factory=PolyFactory, ⟨A⟩ = 0.9452\n",
      "✓ Success: 3q, fold=fold_global, factory=RichardsonFactory, ⟨A⟩ = 0.9616\n",
      "✓ Success: 3q, fold=fold_global, factory=LinearFactory, ⟨A⟩ = 0.9426\n",
      "✓ Success: 3q, fold=fold_global, factory=PolyFactory, ⟨A⟩ = 0.9551\n",
      "✓ Success: 3q, fold=fold_all, factory=RichardsonFactory, ⟨A⟩ = 0.9298\n",
      "✓ Success: 3q, fold=fold_all, factory=LinearFactory, ⟨A⟩ = 0.9420\n",
      "✓ Success: 3q, fold=fold_all, factory=PolyFactory, ⟨A⟩ = 0.9253\n",
      "✓ Success: 3q, fold=fold_gates_at_random, factory=RichardsonFactory, ⟨A⟩ = 0.9590\n",
      "✓ Success: 3q, fold=fold_gates_at_random, factory=LinearFactory, ⟨A⟩ = 0.9404\n",
      "✓ Success: 3q, fold=fold_gates_at_random, factory=PolyFactory, ⟨A⟩ = 0.9305\n",
      "✓ Success: 3q, fold=fold_global, factory=RichardsonFactory, ⟨A⟩ = 1.0379\n",
      "✓ Success: 3q, fold=fold_global, factory=LinearFactory, ⟨A⟩ = 0.9402\n",
      "✓ Success: 3q, fold=fold_global, factory=PolyFactory, ⟨A⟩ = 0.9578\n",
      "✓ Success: 3q, fold=fold_all, factory=RichardsonFactory, ⟨A⟩ = 1.0090\n",
      "✓ Success: 3q, fold=fold_all, factory=LinearFactory, ⟨A⟩ = 0.9399\n",
      "✓ Success: 3q, fold=fold_all, factory=PolyFactory, ⟨A⟩ = 0.9327\n",
      "✓ Success: 3q, fold=fold_gates_at_random, factory=RichardsonFactory, ⟨A⟩ = 1.1409\n",
      "✓ Success: 3q, fold=fold_gates_at_random, factory=LinearFactory, ⟨A⟩ = 0.9429\n",
      "✓ Success: 3q, fold=fold_gates_at_random, factory=PolyFactory, ⟨A⟩ = 0.9301\n",
      "✓ Success: 5q, fold=fold_global, factory=RichardsonFactory, ⟨A⟩ = 0.8597\n",
      "✓ Success: 5q, fold=fold_global, factory=LinearFactory, ⟨A⟩ = 0.8674\n",
      "✓ Success: 5q, fold=fold_global, factory=PolyFactory, ⟨A⟩ = 0.8607\n",
      "✓ Success: 5q, fold=fold_all, factory=RichardsonFactory, ⟨A⟩ = 0.8528\n",
      "✓ Success: 5q, fold=fold_all, factory=LinearFactory, ⟨A⟩ = 0.8483\n",
      "✓ Success: 5q, fold=fold_all, factory=PolyFactory, ⟨A⟩ = 0.8481\n",
      "✓ Success: 5q, fold=fold_gates_at_random, factory=RichardsonFactory, ⟨A⟩ = 0.8535\n",
      "✓ Success: 5q, fold=fold_gates_at_random, factory=LinearFactory, ⟨A⟩ = 0.8607\n",
      "✓ Success: 5q, fold=fold_gates_at_random, factory=PolyFactory, ⟨A⟩ = 0.8554\n",
      "✓ Success: 5q, fold=fold_global, factory=RichardsonFactory, ⟨A⟩ = 0.8814\n",
      "✓ Success: 5q, fold=fold_global, factory=LinearFactory, ⟨A⟩ = 0.8553\n",
      "✓ Success: 5q, fold=fold_global, factory=PolyFactory, ⟨A⟩ = 0.8721\n",
      "✓ Success: 5q, fold=fold_all, factory=RichardsonFactory, ⟨A⟩ = 0.8403\n",
      "✓ Success: 5q, fold=fold_all, factory=LinearFactory, ⟨A⟩ = 0.8578\n",
      "✓ Success: 5q, fold=fold_all, factory=PolyFactory, ⟨A⟩ = 0.8361\n",
      "✓ Success: 5q, fold=fold_gates_at_random, factory=RichardsonFactory, ⟨A⟩ = 0.8524\n",
      "✓ Success: 5q, fold=fold_gates_at_random, factory=LinearFactory, ⟨A⟩ = 0.8571\n",
      "✓ Success: 5q, fold=fold_gates_at_random, factory=PolyFactory, ⟨A⟩ = 0.8430\n",
      "✓ Success: 5q, fold=fold_global, factory=RichardsonFactory, ⟨A⟩ = 0.7469\n",
      "✓ Success: 5q, fold=fold_global, factory=LinearFactory, ⟨A⟩ = 0.8544\n",
      "✓ Success: 5q, fold=fold_global, factory=PolyFactory, ⟨A⟩ = 0.8752\n",
      "✓ Success: 5q, fold=fold_all, factory=RichardsonFactory, ⟨A⟩ = 1.2501\n",
      "✓ Success: 5q, fold=fold_all, factory=LinearFactory, ⟨A⟩ = 0.8570\n",
      "✓ Success: 5q, fold=fold_all, factory=PolyFactory, ⟨A⟩ = 0.8348\n",
      "✓ Success: 5q, fold=fold_gates_at_random, factory=RichardsonFactory, ⟨A⟩ = 0.4705\n",
      "✓ Success: 5q, fold=fold_gates_at_random, factory=LinearFactory, ⟨A⟩ = 0.8543\n",
      "✓ Success: 5q, fold=fold_gates_at_random, factory=PolyFactory, ⟨A⟩ = 0.8695\n",
      "  method  n_qubits      folding            factory scale_factors  \\\n",
      "0    ZNE         3  fold_global  RichardsonFactory    [1.0, 2.0]   \n",
      "1    ZNE         3  fold_global      LinearFactory    [1.0, 2.0]   \n",
      "2    ZNE         3  fold_global        PolyFactory    [1.0, 2.0]   \n",
      "3    ZNE         3     fold_all  RichardsonFactory    [1.0, 2.0]   \n",
      "4    ZNE         3     fold_all      LinearFactory    [1.0, 2.0]   \n",
      "\n",
      "   mitigated_value  \n",
      "0          0.94563  \n",
      "1          0.94859  \n",
      "2          0.94588  \n",
      "3          0.93416  \n",
      "4          0.93876  \n"
     ]
    }
   ],
   "source": [
    "from functools import partial\n",
    "from qiskit.visualization import plot_histogram\n",
    "\n",
    "# Noisy execution function with plotting\n",
    "def execute_noisy_expectation_plt(circuit_to_run, shots, n_qubits):\n",
    "    noisy_result = noisy_backend.run(circuit_to_run, shots=shots).result()\n",
    "    noisy_counts = noisy_result.get_counts(circuit_to_run)\n",
    "    noisy_expectation_value = (noisy_counts.get(n_qubits * \"0\", 0) + \n",
    "                               noisy_counts.get(n_qubits * \"1\", 0)) / shots\n",
    "    plot_histogram(noisy_counts, title='Counts for a noisy GHZ state', figsize=(15, 5))\n",
    "    return noisy_expectation_value\n",
    "\n",
    "# Define ZNE loop\n",
    "from mitiq.benchmarks import generate_ghz_circuit\n",
    "from mitiq.zne import execute_with_zne\n",
    "from mitiq.zne.scaling import fold_global, fold_all, fold_gates_at_random\n",
    "from mitiq.zne.inference import RichardsonFactory, LinearFactory, PolyFactory\n",
    "import pandas as pd\n",
    "from qiskit import transpile\n",
    "\n",
    "qubit_counts = [3, 5]\n",
    "scale_sets = [\n",
    "    [1.0, 2.0],\n",
    "    [1.0, 2.0, 3.0],\n",
    "    [1.0, 1.5, 2.0, 2.5, 3.0]\n",
    "]\n",
    "folding_methods = [fold_global, fold_all, fold_gates_at_random]\n",
    "factory_constructors = [\n",
    "    lambda s: RichardsonFactory(scale_factors=s),\n",
    "    lambda s: LinearFactory(scale_factors=[s[0], s[-1]]),\n",
    "    lambda s: PolyFactory(scale_factors=s, order=min(2, len(s)-1))\n",
    "]\n",
    "\n",
    "shots = 10**5\n",
    "results = []\n",
    "\n",
    "for n_qubits in qubit_counts:\n",
    "    circuit = generate_ghz_circuit(n_qubits=n_qubits, return_type=\"qiskit\")\n",
    "    circuit_to_run = circuit.copy()\n",
    "    circuit_to_run.measure_all()\n",
    "    compiled_circuit = transpile(circuit_to_run, backend=noisy_backend)\n",
    "\n",
    "    # Wrap the executor with fixed shots and n_qubits\n",
    "    executor_wrapped = partial(execute_noisy_expectation_plt, shots=shots, n_qubits=n_qubits)\n",
    "\n",
    "    for scale_factors in scale_sets:\n",
    "        for fold_func in folding_methods:\n",
    "            for factory_fn in factory_constructors:\n",
    "                factory = factory_fn(scale_factors)\n",
    "                try:\n",
    "                    mitigated_val = execute_with_zne(\n",
    "                        circuit=compiled_circuit,\n",
    "                        executor=executor_wrapped,\n",
    "                        factory=factory,\n",
    "                        scale_noise=fold_func\n",
    "                    )\n",
    "\n",
    "                    results.append({\n",
    "                        'method': 'ZNE',\n",
    "                        'n_qubits': n_qubits,\n",
    "                        'folding': fold_func.__name__,\n",
    "                        'factory': type(factory).__name__,\n",
    "                        'scale_factors': scale_factors,\n",
    "                        'mitigated_value': mitigated_val\n",
    "                    })\n",
    "\n",
    "                    print(f\"✓ Success: {n_qubits}q, fold={fold_func.__name__}, \"\n",
    "                          f\"factory={type(factory).__name__}, ⟨A⟩ = {mitigated_val:.4f}\")\n",
    "                except Exception as e:\n",
    "                    print(f\"✗ Failed: {n_qubits}q, fold={fold_func.__name__}, \"\n",
    "                          f\"factory={type(factory).__name__} → {e}\")\n",
    "\n",
    "df_results = pd.DataFrame(results)\n",
    "print(df_results.head())\n"
   ]
  },
  {
   "cell_type": "code",
   "execution_count": 23,
   "id": "8068b9cf",
   "metadata": {},
   "outputs": [
    {
     "name": "stdout",
     "output_type": "stream",
     "text": [
      "Best ZNE result for each qubit count:\n",
      "  method  n_qubits               folding            factory  \\\n",
      "0    ZNE         3  fold_gates_at_random  RichardsonFactory   \n",
      "1    ZNE         5              fold_all  RichardsonFactory   \n",
      "\n",
      "               scale_factors  mitigated_value  \n",
      "0  [1.0, 1.5, 2.0, 2.5, 3.0]          1.14094  \n",
      "1  [1.0, 1.5, 2.0, 2.5, 3.0]          1.25011  \n"
     ]
    },
    {
     "data": {
      "image/png": "[encoded data removed]",
      "text/plain": [
       "<Figure size 800x500 with 1 Axes>"
      ]
     },
     "metadata": {},
     "output_type": "display_data"
    }
   ],
   "source": [
    "import pandas as pd\n",
    "\n",
    "# Assuming df_results is already defined from your earlier ZNE experiment loop\n",
    "# If not, load or define df_results before running this\n",
    "\n",
    "# Group by qubit count and find row with max mitigated value per group\n",
    "best_per_qubit = df_results.loc[df_results.groupby('n_qubits')['mitigated_value'].idxmax()]\n",
    "\n",
    "# Optionally reset index if you want a cleaner DataFrame\n",
    "best_per_qubit = best_per_qubit.reset_index(drop=True)\n",
    "\n",
    "# Display the best result per qubit count\n",
    "print(\"Best ZNE result for each qubit count:\")\n",
    "print(best_per_qubit)\n",
    "\n",
    "# Optional: Save to CSV\n",
    "best_per_qubit.to_csv(\"best_zne_per_qubit.csv\", index=False)\n",
    "\n",
    "# Optional: Plotting if you want a quick view\n",
    "import matplotlib.pyplot as plt\n",
    "\n",
    "plt.figure(figsize=(8, 5))\n",
    "plt.bar(best_per_qubit['n_qubits'].astype(str), best_per_qubit['mitigated_value'])\n",
    "plt.xlabel(\"Qubit Count\")\n",
    "plt.ylabel(\"Best Mitigated ⟨A⟩ Value\")\n",
    "plt.title(\"Best ZNE Result per Qubit Count\")\n",
    "plt.grid(True)\n",
    "plt.show()\n"
   ]
  },
  {
   "cell_type": "code",
   "execution_count": 21,
   "id": "3d77fb59",
   "metadata": {},
   "outputs": [
    {
     "name": "stdout",
     "output_type": "stream",
     "text": [
      "Ideal ⟨A⟩ for 5 qubits: 1.0000\n"
     ]
    },
    {
     "data": {
      "image/png": "[encoded data removed]",
      "text/plain": [
       "<Figure size 1200x400 with 1 Axes>"
      ]
     },
     "execution_count": 21,
     "metadata": {},
     "output_type": "execute_result"
    }
   ],
   "source": [
    "# Create ideal backend simulator\n",
    "from qiskit_aer import AerSimulator\n",
    "\n",
    "ideal_backend = AerSimulator()\n",
    "\n",
    "# Ideal measurement\n",
    "ideal_circuit = circuit.copy()\n",
    "ideal_circuit.measure_all()\n",
    "\n",
    "ideal_result = ideal_backend.run(ideal_circuit, shots=shots).result()\n",
    "ideal_counts = ideal_result.get_counts(ideal_circuit)\n",
    "\n",
    "ideal_expectation_value = (ideal_counts.get(\"0\" * n_qubits, 0) + \n",
    "                           ideal_counts.get(\"1\" * n_qubits, 0)) / shots\n",
    "\n",
    "print(f\"Ideal ⟨A⟩ for {n_qubits} qubits: {ideal_expectation_value:.4f}\")\n",
    "plot_histogram(ideal_counts, title=f\"Ideal GHZ State ({n_qubits} qubits)\", figsize=(12, 4))\n"
   ]
  },
  {
   "cell_type": "code",
   "execution_count": 22,
   "id": "64a58961",
   "metadata": {},
   "outputs": [
    {
     "data": {
      "text/html": [
       "<div>\n",
       "<style scoped>\n",
       "    .dataframe tbody tr th:only-of-type {\n",
       "        vertical-align: middle;\n",
       "    }\n",
       "\n",
       "    .dataframe tbody tr th {\n",
       "        vertical-align: top;\n",
       "    }\n",
       "\n",
       "    .dataframe thead th {\n",
       "        text-align: right;\n",
       "    }\n",
       "</style>\n",
       "<table border=\"1\" class=\"dataframe\">\n",
       "  <thead>\n",
       "    <tr style=\"text-align: right;\">\n",
       "      <th></th>\n",
       "      <th>method</th>\n",
       "      <th>n_qubits</th>\n",
       "      <th>folding</th>\n",
       "      <th>factory</th>\n",
       "      <th>scale_factors</th>\n",
       "      <th>mitigated_value</th>\n",
       "    </tr>\n",
       "  </thead>\n",
       "  <tbody>\n",
       "    <tr>\n",
       "      <th>0</th>\n",
       "      <td>ZNE</td>\n",
       "      <td>3</td>\n",
       "      <td>fold_global</td>\n",
       "      <td>RichardsonFactory</td>\n",
       "      <td>[1.0, 2.0]</td>\n",
       "      <td>0.94563</td>\n",
       "    </tr>\n",
       "    <tr>\n",
       "      <th>1</th>\n",
       "      <td>ZNE</td>\n",
       "      <td>3</td>\n",
       "      <td>fold_global</td>\n",
       "      <td>LinearFactory</td>\n",
       "      <td>[1.0, 2.0]</td>\n",
       "      <td>0.94859</td>\n",
       "    </tr>\n",
       "    <tr>\n",
       "      <th>2</th>\n",
       "      <td>ZNE</td>\n",
       "      <td>3</td>\n",
       "      <td>fold_global</td>\n",
       "      <td>PolyFactory</td>\n",
       "      <td>[1.0, 2.0]</td>\n",
       "      <td>0.94588</td>\n",
       "    </tr>\n",
       "    <tr>\n",
       "      <th>3</th>\n",
       "      <td>ZNE</td>\n",
       "      <td>3</td>\n",
       "      <td>fold_all</td>\n",
       "      <td>RichardsonFactory</td>\n",
       "      <td>[1.0, 2.0]</td>\n",
       "      <td>0.93416</td>\n",
       "    </tr>\n",
       "    <tr>\n",
       "      <th>4</th>\n",
       "      <td>ZNE</td>\n",
       "      <td>3</td>\n",
       "      <td>fold_all</td>\n",
       "      <td>LinearFactory</td>\n",
       "      <td>[1.0, 2.0]</td>\n",
       "      <td>0.93876</td>\n",
       "    </tr>\n",
       "  </tbody>\n",
       "</table>\n",
       "</div>"
      ],
      "text/plain": [
       "  method  n_qubits      folding            factory scale_factors  \\\n",
       "0    ZNE         3  fold_global  RichardsonFactory    [1.0, 2.0]   \n",
       "1    ZNE         3  fold_global      LinearFactory    [1.0, 2.0]   \n",
       "2    ZNE         3  fold_global        PolyFactory    [1.0, 2.0]   \n",
       "3    ZNE         3     fold_all  RichardsonFactory    [1.0, 2.0]   \n",
       "4    ZNE         3     fold_all      LinearFactory    [1.0, 2.0]   \n",
       "\n",
       "   mitigated_value  \n",
       "0          0.94563  \n",
       "1          0.94859  \n",
       "2          0.94588  \n",
       "3          0.93416  \n",
       "4          0.93876  "
      ]
     },
     "metadata": {},
     "output_type": "display_data"
    },
    {
     "data": {
      "image/png": "[encoded data removed]",
      "text/plain": [
       "<Figure size 1000x600 with 1 Axes>"
      ]
     },
     "metadata": {},
     "output_type": "display_data"
    }
   ],
   "source": [
    "df = pd.DataFrame(results)\n",
    "display(df.head())\n",
    "\n",
    "plt.figure(figsize=(10, 6))\n",
    "for method, group in df.groupby('method'):\n",
    "    plt.plot(group['n_qubits'], group['mitigated_value'], 'o-', label=method)\n",
    "plt.title('Mitigated Expectation Value vs Depth')\n",
    "plt.xlabel('n_qubits')\n",
    "plt.ylabel('Mitigated ⟨A⟩')\n",
    "plt.legend()\n",
    "plt.grid(True)\n",
    "plt.show()"
   ]
  },
  {
   "cell_type": "code",
   "execution_count": 16,
   "id": "557cc07c",
   "metadata": {},
   "outputs": [],
   "source": [
    "from qiskit import QuantumCircuit, transpile\n",
    "from qiskit.visualization import plot_histogram\n",
    "from qiskit_aer import AerSimulator\n",
    "from qiskit_ibm_runtime.fake_provider import FakeJakartaV2 as FakeJakarta\n",
    "from mitiq import zne\n",
    "import matplotlib.pyplot as plt\n",
    "\n",
    "# Setup\n",
    "shots = 10 ** 5\n",
    "noisy_backend = FakeJakarta()\n",
    "ideal_backend = AerSimulator()\n",
    "\n",
    "def execute(compiled_circuit):\n",
    "    \"\"\"Executes the input circuit and returns ⟨A⟩ = P(0...0) + P(1...1) on the noisy backend.\"\"\"\n",
    "    circuit_to_run = compiled_circuit.copy()\n",
    "    circuit_to_run.measure_all()\n",
    "    result = noisy_backend.run(circuit_to_run, shots=shots).result()\n",
    "    counts = result.get_counts(circuit_to_run)\n",
    "    return (counts.get(\"0\" * compiled_circuit.num_qubits, 0) +\n",
    "            counts.get(\"1\" * compiled_circuit.num_qubits, 0)) / shots\n",
    "\n",
    "def run_zne_demo(n_qubits=5):\n",
    "    from mitiq.benchmarks import generate_ghz_circuit\n",
    "    from mitiq.zne.inference import RichardsonFactory\n",
    "    from mitiq.zne.scaling import fold_global\n",
    "\n",
    "    print(f\"\\n### GHZ Expectation with {n_qubits} Qubits ###\")\n",
    "\n",
    "    # Generate GHZ\n",
    "    circuit = generate_ghz_circuit(n_qubits=n_qubits, return_type=\"qiskit\")\n",
    "    compiled_circuit = transpile(circuit, noisy_backend)\n",
    "\n",
    "    # Ideal backend\n",
    "    ideal_circuit = circuit.copy()\n",
    "    ideal_circuit.measure_all()\n",
    "    ideal_result = ideal_backend.run(ideal_circuit, shots=shots).result()\n",
    "    ideal_counts = ideal_result.get_counts(ideal_circuit)\n",
    "    plot_histogram(ideal_counts, title=\"Counts for ideal GHZ\")\n",
    "\n",
    "    ideal_val = (ideal_counts.get(\"0\" * n_qubits, 0) +\n",
    "                 ideal_counts.get(\"1\" * n_qubits, 0)) / shots\n",
    "    print(f\"Ideal ⟨A⟩ = {ideal_val:.4f}\")\n",
    "\n",
    "    # Noisy run\n",
    "    noisy_val = execute(compiled_circuit)\n",
    "    print(f\"Noisy ⟨A⟩ = {noisy_val:.4f}\")\n",
    "\n",
    "    # Mitiq ZNE\n",
    "    factory = RichardsonFactory(scale_factors=[1.0, 2.0, 3.0])\n",
    "    folding_function = fold_global\n",
    "\n",
    "    zne_val = zne.execute_with_zne(\n",
    "        compiled_circuit,\n",
    "        executor=execute,\n",
    "        factory=factory,\n",
    "        scale_noise=folding_function\n",
    "    )\n",
    "\n",
    "    print(f\"Mitigated ⟨A⟩ = {zne_val:.4f}\")\n",
    "    print(f\"Error without Mitiq = {abs(ideal_val - noisy_val):.4f}\")\n",
    "    print(f\"Error with Mitiq    = {abs(ideal_val - zne_val):.4f}\")\n",
    "    \n",
    "    factory.plot_fit()\n",
    "    plt.show()\n"
   ]
  },
  {
   "cell_type": "code",
   "execution_count": 19,
   "id": "26067b6f",
   "metadata": {},
   "outputs": [
    {
     "name": "stdout",
     "output_type": "stream",
     "text": [
      "\n",
      "### GHZ Expectation with 7 Qubits ###\n",
      "Ideal ⟨A⟩ = 1.0000\n",
      "Noisy ⟨A⟩ = 0.7700\n",
      "Mitigated ⟨A⟩ = 0.7926\n",
      "Error without Mitiq = 0.2300\n",
      "Error with Mitiq    = 0.2074\n"
     ]
    },
    {
     "data": {
      "image/png": "[encoded data removed]",
      "text/plain": [
       "<Figure size 700x500 with 1 Axes>"
      ]
     },
     "metadata": {},
     "output_type": "display_data"
    }
   ],
   "source": [
    "run_zne_demo(7)"
   ]
  },
  {
   "cell_type": "code",
   "execution_count": 25,
   "id": "895cbfbd",
   "metadata": {},
   "outputs": [
    {
     "data": {
      "text/html": [
       "<div>\n",
       "<style scoped>\n",
       "    .dataframe tbody tr th:only-of-type {\n",
       "        vertical-align: middle;\n",
       "    }\n",
       "\n",
       "    .dataframe tbody tr th {\n",
       "        vertical-align: top;\n",
       "    }\n",
       "\n",
       "    .dataframe thead th {\n",
       "        text-align: right;\n",
       "    }\n",
       "</style>\n",
       "<table border=\"1\" class=\"dataframe\">\n",
       "  <thead>\n",
       "    <tr style=\"text-align: right;\">\n",
       "      <th></th>\n",
       "      <th>method</th>\n",
       "      <th>n_qubits</th>\n",
       "      <th>folding</th>\n",
       "      <th>factory</th>\n",
       "      <th>scale_factors</th>\n",
       "      <th>mitigated_value</th>\n",
       "    </tr>\n",
       "  </thead>\n",
       "  <tbody>\n",
       "    <tr>\n",
       "      <th>0</th>\n",
       "      <td>ZNE</td>\n",
       "      <td>3</td>\n",
       "      <td>fold_global</td>\n",
       "      <td>RichardsonFactory</td>\n",
       "      <td>[1.0, 2.0]</td>\n",
       "      <td>0.94563</td>\n",
       "    </tr>\n",
       "    <tr>\n",
       "      <th>1</th>\n",
       "      <td>ZNE</td>\n",
       "      <td>3</td>\n",
       "      <td>fold_global</td>\n",
       "      <td>LinearFactory</td>\n",
       "      <td>[1.0, 2.0]</td>\n",
       "      <td>0.94859</td>\n",
       "    </tr>\n",
       "    <tr>\n",
       "      <th>2</th>\n",
       "      <td>ZNE</td>\n",
       "      <td>3</td>\n",
       "      <td>fold_global</td>\n",
       "      <td>PolyFactory</td>\n",
       "      <td>[1.0, 2.0]</td>\n",
       "      <td>0.94588</td>\n",
       "    </tr>\n",
       "    <tr>\n",
       "      <th>3</th>\n",
       "      <td>ZNE</td>\n",
       "      <td>3</td>\n",
       "      <td>fold_all</td>\n",
       "      <td>RichardsonFactory</td>\n",
       "      <td>[1.0, 2.0]</td>\n",
       "      <td>0.93416</td>\n",
       "    </tr>\n",
       "    <tr>\n",
       "      <th>4</th>\n",
       "      <td>ZNE</td>\n",
       "      <td>3</td>\n",
       "      <td>fold_all</td>\n",
       "      <td>LinearFactory</td>\n",
       "      <td>[1.0, 2.0]</td>\n",
       "      <td>0.93876</td>\n",
       "    </tr>\n",
       "  </tbody>\n",
       "</table>\n",
       "</div>"
      ],
      "text/plain": [
       "  method  n_qubits      folding            factory scale_factors  \\\n",
       "0    ZNE         3  fold_global  RichardsonFactory    [1.0, 2.0]   \n",
       "1    ZNE         3  fold_global      LinearFactory    [1.0, 2.0]   \n",
       "2    ZNE         3  fold_global        PolyFactory    [1.0, 2.0]   \n",
       "3    ZNE         3     fold_all  RichardsonFactory    [1.0, 2.0]   \n",
       "4    ZNE         3     fold_all      LinearFactory    [1.0, 2.0]   \n",
       "\n",
       "   mitigated_value  \n",
       "0          0.94563  \n",
       "1          0.94859  \n",
       "2          0.94588  \n",
       "3          0.93416  \n",
       "4          0.93876  "
      ]
     },
     "metadata": {},
     "output_type": "display_data"
    },
    {
     "data": {
      "image/png": "[encoded data removed]",
      "text/plain": [
       "<Figure size 1000x600 with 1 Axes>"
      ]
     },
     "metadata": {},
     "output_type": "display_data"
    }
   ],
   "source": [
    "df = pd.DataFrame(results)\n",
    "display(df.head())\n",
    "\n",
    "plt.figure(figsize=(10, 6))\n",
    "for method, group in df.groupby('method'):\n",
    "    plt.plot(group['n_qubits'], group['mitigated_value'], 'o-', label=method)\n",
    "plt.title('Mitigated Expectation Value vs Depth')\n",
    "plt.xlabel('Depth')\n",
    "plt.ylabel('Mitigated ⟨A⟩')\n",
    "plt.legend()\n",
    "plt.grid(True)\n",
    "plt.show()"
   ]
  },
  {
   "cell_type": "markdown",
   "id": "30f0de39",
   "metadata": {},
   "source": [
    "## Save Data"
   ]
  },
  {
   "cell_type": "code",
   "execution_count": 26,
   "id": "ec34158c",
   "metadata": {},
   "outputs": [],
   "source": [
    "df.to_csv('mitigation_results.csv', index=False)"
   ]
  }
 ],
 "metadata": {
  "kernelspec": {
   "display_name": ".venv",
   "language": "python",
   "name": "python3"
  },
  "language_info": {
   "codemirror_mode": {
    "name": "ipython",
    "version": 3
   },
   "file_extension": ".py",
   "mimetype": "text/x-python",
   "name": "python",
   "nbconvert_exporter": "python",
   "pygments_lexer": "ipython3",
   "version": "3.11.9"
  }
 },
 "nbformat": 4,
 "nbformat_minor": 5
}
