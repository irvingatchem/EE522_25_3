{
 "cells": [
  {
   "cell_type": "markdown",
   "id": "8b53ca1f",
   "metadata": {},
   "source": [
    "# Benchmarking Circuit Depth for PEC on Real Hardware\n",
    "***"
   ]
  },
  {
   "cell_type": "markdown",
   "id": "644db8e0",
   "metadata": {},
   "source": [
    "## Imports"
   ]
  },
  {
   "cell_type": "code",
   "execution_count": null,
   "id": "f2744373",
   "metadata": {},
   "outputs": [],
   "source": [
    "import functools\n",
    "import os\n",
    "import time\n",
    "from typing import List\n",
    "\n",
    "import matplotlib.pyplot as plt\n",
    "\n",
    "import cirq\n",
    "import networkx as nx\n",
    "import numpy as np\n",
    "import qiskit\n",
    "import qiskit_aer\n",
    "from qiskit_ibm_runtime.fake_provider import FakeSherbrooke \n",
    "from qiskit.providers.fake_provider import GenericBackendV2\n",
    "from mitiq import benchmarks, pec\n",
    "from qiskit_ibm_runtime import SamplerV2, Batch"
   ]
  },
  {
   "cell_type": "markdown",
   "id": "68457075",
   "metadata": {},
   "source": [
    "## Variables for experiment"
   ]
  },
  {
   "cell_type": "code",
   "execution_count": null,
   "id": "a9d4b82b",
   "metadata": {},
   "outputs": [],
   "source": [
    "depths = np.arange(10,201,10)\n",
    "trials = 10\n",
    "n_qubits = 2\n",
    "shots = 10000\n",
    "num_samples = 100\n",
    "circuit_type= \"mirror\" # \"rb\""
   ]
  },
  {
   "cell_type": "markdown",
   "id": "7151c01e",
   "metadata": {},
   "source": [
    "## Initialize Real QPU"
   ]
  },
  {
   "cell_type": "code",
   "execution_count": null,
   "id": "0e546e4b",
   "metadata": {},
   "outputs": [],
   "source": [
    "# from qiskit_ibm_runtime import QiskitRuntimeService\n",
    "# service = QiskitRuntimeService(channel=\"ibm_quantum\", token = \"<Your Token Here>\")\n",
    "# noisy_backend = service.backend(\"ibm_sherbrooke\")"
   ]
  },
  {
   "cell_type": "markdown",
   "id": "40fe50f1",
   "metadata": {},
   "source": [
    "## General setup\n",
    "Define ideal backend and seed for circuit generation.\n",
    "Options for verbose output no longer in use. (TODO: remove or streamline)"
   ]
  },
  {
   "cell_type": "code",
   "execution_count": null,
   "id": "9a3c57a4",
   "metadata": {},
   "outputs": [],
   "source": [
    "ideal_backend = qiskit_aer.AerSimulator()\n",
    "noisy_backend = FakeSherbrooke()\n",
    "# Random seed for circuit generation\n",
    "seed: int = 1\n",
    "\n",
    "# Display verbose output.\n",
    "verbose: bool = False\n",
    "# Give queue updates every this many seconds when running on hardware device.\n",
    "verbose_update_time: int = 30"
   ]
  },
  {
   "cell_type": "markdown",
   "id": "d46cd363",
   "metadata": {},
   "source": [
    "## Virtual and physical qubit architecture\n",
    "Get line of physical qubits from backend: Hard-coded in right now, will hopefully be automatic someday.\n",
    "Translate physical to virtual qubits.\n",
    "Create \"computer\" a directed coupling map.\n",
    "\n",
    "(Move to utils)"
   ]
  },
  {
   "cell_type": "code",
   "execution_count": null,
   "id": "61b46562",
   "metadata": {},
   "outputs": [],
   "source": [
    "def get_phys_qubits(n_qubits):\n",
    "    # Physical qubits with a chain-like connectivity.\n",
    "    ibm_sherbrooke_ordering = [0, 1, 2, 3, 4, 5, 6, 7, 8, 9, 10, 11, 12, 17, 30, 29, 28, 27, 26, 25, 24, \n",
    "                               23, 22, 21, 20, 33, 39, 40, 41, 42, 43, 44, 45, 46, 47, 48, 49, 55, 68, \n",
    "                               67, 66, 65, 64, 63, 62, 61, 60, 59, 58, 71, 77, 78, 79, 80, 81, 82, 83, \n",
    "                               84, 85, 86, 87, 93, 106, 105, 104, 103, 102, 101, 100, 99, 98, 97, 96, \n",
    "                               109, 114, 115, 116, 117, 118, 119, 120, 121, 122, 123, 124, 125, 126] # Up to 87 qubits\n",
    "\n",
    "    return ibm_sherbrooke_ordering[: n_qubits]\n"
   ]
  },
  {
   "cell_type": "code",
   "execution_count": null,
   "id": "cdeeaadc",
   "metadata": {},
   "outputs": [],
   "source": [
    "# Maps physical qubits to virtual ones\n",
    "def get_layout(n_qubits):\n",
    "    phys_qubits = get_phys_qubits(n_qubits)\n",
    "    virt_qubits =[]\n",
    "    for qubit_i in range(0,n_qubits):\n",
    "        virt_qubits.append(qubit_i)\n",
    "    layout =  dict(zip(phys_qubits, virt_qubits))\n",
    "        \n",
    "    return layout #keys: physical, values: virtual"
   ]
  },
  {
   "cell_type": "code",
   "execution_count": null,
   "id": "140fa409",
   "metadata": {},
   "outputs": [],
   "source": [
    "def get_computer(n_qubits):\n",
    "    layout = get_layout(n_qubits)\n",
    "    phys_edges = noisy_backend.coupling_map.get_edges()\n",
    "    virt_edges = []\n",
    "    for edge_i in range(0, int(len(phys_edges)/2)):\n",
    "        phys_edge = phys_edges[edge_i]\n",
    "        try:\n",
    "            virt_edge = (layout[phys_edge[0]],layout[phys_edge[1]])\n",
    "        except:\n",
    "            # print(\"skip: This edge is not included in our layout\")\n",
    "            meaningless=1\n",
    "        virt_edges.append(virt_edge)\n",
    "        \n",
    "    # Make connectivity graph \n",
    "    computer = nx.DiGraph()\n",
    "    computer.add_edges_from(virt_edges[:n_qubits - 1])\n",
    "\n",
    "    return computer"
   ]
  },
  {
   "cell_type": "markdown",
   "id": "f0718f78",
   "metadata": {},
   "source": [
    "## Create desired circuit\n",
    "(Move to utils)"
   ]
  },
  {
   "cell_type": "code",
   "execution_count": null,
   "id": "d9ae89cd",
   "metadata": {},
   "outputs": [],
   "source": [
    "def get_circuit(circuit_type:str, n_qubits:int, depth: int, seed: int) -> tuple[qiskit.QuantumCircuit, str]:\n",
    "    \"\"\"Create circuit.\"\"\"\n",
    "    \n",
    "    if circuit_type == \"rb\":\n",
    "        circuit = benchmarks.generate_rb_circuits(\n",
    "            n_qubits=2, \n",
    "            num_cliffords=depth, \n",
    "            seed=seed, \n",
    "            return_type=\"qiskit\"\n",
    "            )[0]\n",
    "        return circuit, \"00\"\n",
    "\n",
    "    elif circuit_type == \"mirror\":\n",
    "        # Make connectivity graph \n",
    "        computer = get_computer(n_qubits)\n",
    "        circuit, correct_bitstring = benchmarks.generate_mirror_circuit(\n",
    "                nlayers=depth,\n",
    "                two_qubit_gate_prob=1.0,\n",
    "                connectivity_graph=computer,\n",
    "                two_qubit_gate_name=\"CNOT\",\n",
    "                seed=seed,\n",
    "                return_type=\"qiskit\",\n",
    "            )\n",
    "        # Reversed because Qiskit is wrong endian.\n",
    "        return circuit, \"\".join(map(str, correct_bitstring[::-1]))\n",
    "    \n",
    "    elif circuit_type == \"long cnot\":\n",
    "        circuit = qiskit.QuantumCircuit(n_qubits)\n",
    "        circuit.x(0)\n",
    "        for qubit_i in range(0, n_qubits-1):\n",
    "            circuit.cx(qubit_i, qubit_i + 1)\n",
    "        correct_bitstring= \"1\"*(n_qubits - 1)\n",
    "        return circuit, correct_bitstring\n",
    "\n",
    "    else:\n",
    "        print(\"what\")\n",
    "        return\n"
   ]
  },
  {
   "cell_type": "markdown",
   "id": "2649a9ae",
   "metadata": {},
   "source": [
    "## Count gates\n",
    "(Move to utils)"
   ]
  },
  {
   "cell_type": "code",
   "execution_count": null,
   "id": "c4d00b3d",
   "metadata": {},
   "outputs": [],
   "source": [
    "def get_num_cnot_count(circuit: qiskit.QuantumCircuit) -> int:\n",
    "    \"\"\"Determine number of cnot gates in a given `Circuit` object.\"\"\"\n",
    "\n",
    "    return circuit.count_ops().get(\"cx\")\n",
    "\n",
    "\n",
    "def get_avg_cnot_count(circuits: list[qiskit.QuantumCircuit]) -> float:\n",
    "    \"\"\"Determine average number of cnot gates present in\n",
    "    list of `QuantumCircuit` objects.\"\"\"\n",
    "    return np.average([c.count_ops().get(\"cx\", 0) for c in circuits]) # Returns 0 instead of None\n",
    "\n",
    "\n",
    "def get_oneq_count(circuit: qiskit.QuantumCircuit) -> int:\n",
    "    return len(circuit) - get_num_cnot_count(circuit)"
   ]
  },
  {
   "cell_type": "markdown",
   "id": "8df99442",
   "metadata": {},
   "source": [
    "## Define executor to use with mitiq\n",
    "(TODO: ensure that its actually batched)"
   ]
  },
  {
   "cell_type": "code",
   "execution_count": null,
   "id": "a126126f",
   "metadata": {},
   "outputs": [],
   "source": [
    "def execute(\n",
    "    circuits: list[qiskit.QuantumCircuit],\n",
    "    backend,\n",
    "    shots: int,\n",
    "    correct_bitstring: str,\n",
    "    verbose: bool,\n",
    "    ) -> List[float]:\n",
    "    \"\"\"Executes the input circuit(s) and returns ⟨A⟩, where A = |correct_bitstring⟩⟨correct_bitstring| for each circuit.\"\"\"\n",
    "\n",
    "    if not isinstance(circuits, list):\n",
    "        circuits = [circuits]\n",
    "    if verbose:\n",
    "        # Calculate average number of CNOT gates per circuit.\n",
    "        print(f\"Executing {len(circuits)} circuit(s) on {backend}.\")\n",
    "        print(f\"Average cnot count in circuits: {get_avg_cnot_count(circuits)}\")\n",
    "\n",
    "    # Store all circuits to run in list to be returned.\n",
    "    to_run: list[qiskit.QuantumCircuit] = []\n",
    "\n",
    "    for circuit in circuits:\n",
    "        circuit_to_run = circuit.copy()\n",
    "        circuit_to_run.measure_all()\n",
    "        to_run.append(\n",
    "            qiskit.transpile(\n",
    "                circuit_to_run,\n",
    "                backend=backend,\n",
    "                initial_layout= get_phys_qubits(circuit.num_qubits),\n",
    "                optimization_level=0,  # Otherwise RB circuits are simplified to empty circuits.\n",
    "        ))\n",
    "\n",
    "    if verbose:\n",
    "        # Calculate average number of CNOT gates per compiled circuit.\n",
    "        print(f\"Average cnot count in compiled circuits: {get_avg_cnot_count(to_run)}\")\n",
    "\n",
    "    batch = Batch(backend= backend)\n",
    "    sampler = SamplerV2(mode = batch)\n",
    "    result = sampler.run(to_run, shots=shots).result()\n",
    "    counts = result[0].data.meas.get_counts()\n",
    "    batch.close()\n",
    "\n",
    "    if len(circuits) == 1:\n",
    "        return [counts.get(correct_bitstring, 0.0) / shots]\n",
    "    return [\n",
    "        counts.get(correct_bitstring, 0.0) / shots #for count in counts\n",
    "    ]"
   ]
  },
  {
   "cell_type": "markdown",
   "id": "7a195e1b",
   "metadata": {},
   "source": [
    "## Determine noise model\n",
    "Calculate CNOT error for backend\n",
    "(TODO: with backend as argument, set CNOT error to either fixed or qubit-dependent, figure out if backend has CNOT natively and construct if not)\n",
    "(Move to utils)"
   ]
  },
  {
   "cell_type": "code",
   "execution_count": null,
   "id": "226fbaee",
   "metadata": {},
   "outputs": [],
   "source": [
    "def get_cnot_error(backend, edge: tuple[int, int] = None) -> float:\n",
    "\n",
    "    # cnot_error_prob = 0.01\n",
    "\n",
    "    #translate virtual edge back to physical edge by inverting dictionary (layout)\n",
    "    layout = get_layout(n_qubits)\n",
    "    inv_layout = dict((v, k) for k, v in layout.items())\n",
    "\n",
    "    # Find physical edge corresponding to virtual edge\n",
    "    phys_edge = (inv_layout[edge[0]],inv_layout[edge[1]])\n",
    "\n",
    "    # Build CNOT out of native gates\n",
    "    rz_error_q0 = noisy_backend.properties().gate_error(\"rz\", qubits=phys_edge[0])\n",
    "    sqrtx_error_q0 = noisy_backend.properties().gate_error(\"sx\", qubits=phys_edge[0])\n",
    "    rz_error_q1 = noisy_backend.properties().gate_error(\"rz\", qubits=phys_edge[1])\n",
    "    ecr_error = noisy_backend.properties().gate_error(\"ecr\", qubits=[phys_edge[0],phys_edge[1]])\n",
    "    x_error_q1 = noisy_backend.properties().gate_error(\"x\", qubits=phys_edge[1])\n",
    "    cnot_error_prob = 1 - (1-rz_error_q0)*(1-rz_error_q0)*(1-sqrtx_error_q0)*(1-rz_error_q0)*(1-rz_error_q0)*(1-ecr_error)*(1-rz_error_q1)*(1-x_error_q1)\n",
    "\n",
    "    # print(f\"cnot_error_prob for edge {edge}: {cnot_error_prob}\")\n",
    "    \n",
    "    return cnot_error_prob #return error prob for phys edge corresponding to input virt edge\n",
    "\n",
    "\n",
    "def get_cnot_representation(backend, edge: tuple[int, int]) -> pec.OperationRepresentation:\n",
    "    cnot_circuit = cirq.Circuit(\n",
    "        cirq.CNOT(\n",
    "            cirq.NamedQubit(f\"q_{str(edge[0])}\"),\n",
    "            cirq.NamedQubit(f\"q_{str(edge[1])}\"),\n",
    "        )\n",
    "    )\n",
    "    rep_exact_prob = 1 - np.sqrt(1 - get_cnot_error(backend,edge))\n",
    "    return pec.represent_operation_with_local_depolarizing_noise(\n",
    "        cnot_circuit,\n",
    "        noise_level=rep_exact_prob,\n",
    "    )\n",
    "\n",
    "def get_representations(backend, computer: nx.Graph) -> list[pec.OperationRepresentation]:\n",
    "    return [get_cnot_representation(backend, edge) for edge in computer.edges]"
   ]
  },
  {
   "cell_type": "markdown",
   "id": "35919736",
   "metadata": {},
   "source": [
    "## Execute with noisy and ideal backend, with PEC and without"
   ]
  },
  {
   "cell_type": "code",
   "execution_count": null,
   "id": "5e0ec3e3",
   "metadata": {},
   "outputs": [],
   "source": [
    "def run_experiment(depth, trials, n_qubits, shots, num_samples, circuit_type):\n",
    "    computer = get_computer(n_qubits)\n",
    "\n",
    "    true_values_at_depth = []\n",
    "    noisy_values_at_depth = []\n",
    "    pec_values_at_depth = []\n",
    "    cnot_counts_at_depth = []\n",
    "    oneq_counts_at_depth = []\n",
    "    for trial in range(trials):\n",
    "        # Local seed is calculated in this way to ensure that we don't get repeat values in loop.\n",
    "        local_seed = int(10**6 * depth + 10**3 * seed + trial)\n",
    "\n",
    "        circuit, correct_bitstring = get_circuit(circuit_type, n_qubits, depth, local_seed)\n",
    "        (true_value,) = execute(\n",
    "            circuit,\n",
    "            ideal_backend,\n",
    "            shots,\n",
    "            correct_bitstring,\n",
    "            verbose=verbose,\n",
    "        )\n",
    "        true_values_at_depth.append(true_value)\n",
    "\n",
    "        (noisy_value,) = execute(\n",
    "            circuit,\n",
    "            noisy_backend,\n",
    "            shots,\n",
    "            correct_bitstring,\n",
    "            verbose=verbose\n",
    "        )\n",
    "        noisy_values_at_depth.append(noisy_value)\n",
    "\n",
    "        pec_executor = functools.partial(\n",
    "            execute,\n",
    "            backend=noisy_backend,\n",
    "            shots=shots // num_samples,\n",
    "            correct_bitstring=correct_bitstring,\n",
    "            verbose=verbose,\n",
    "        )\n",
    "\n",
    "        pec_value = pec.execute_with_pec(\n",
    "            circuit,\n",
    "            pec_executor,\n",
    "            representations=get_representations(noisy_backend,computer),\n",
    "            num_samples=num_samples,\n",
    "            random_state=local_seed,\n",
    "        )\n",
    "        \n",
    "        pec_values_at_depth.append(pec_value)\n",
    "\n",
    "        cnot_counts_at_depth.append(get_num_cnot_count(circuit))\n",
    "        oneq_counts_at_depth.append(get_oneq_count(circuit))\n",
    "\n",
    "    return true_values_at_depth, noisy_values_at_depth, pec_values_at_depth, cnot_counts_at_depth, oneq_counts_at_depth"
   ]
  },
  {
   "cell_type": "markdown",
   "id": "34e6694b",
   "metadata": {},
   "source": [
    "## Usefulness test\n",
    "(TODO: remove this/alter to callout when no longer in error bars?)\n",
    "(Move to utils)\n",
    "\n",
    "NOT IMPLEMENTED RN FOR REAL"
   ]
  },
  {
   "cell_type": "code",
   "execution_count": null,
   "id": "f7e60bd5",
   "metadata": {},
   "outputs": [],
   "source": [
    "def still_useful(avg_true_value, avg_noisy_value, avg_pec_value, std_noisy_value, std_pec_value):\n",
    "\n",
    "    pec_diff = np.abs(avg_true_value - avg_pec_value)\n",
    "    noisy_diff = np.abs(avg_true_value - avg_noisy_value)\n",
    "\n",
    "    # If PEC worse than raw \n",
    "    if (pec_diff > noisy_diff):\n",
    "        reason = \"Worse than raw\"\n",
    "        return False, reason\n",
    "    \n",
    "    else:\n",
    "        reason = \"none\"\n",
    "        return True, reason"
   ]
  },
  {
   "cell_type": "code",
   "execution_count": null,
   "id": "518fa2f0",
   "metadata": {},
   "outputs": [],
   "source": [
    "# BE VERY CAREFUL WITH THIS\n",
    "# Just to remove the UserWarning for representations\n",
    "\n",
    "import warnings\n",
    "warnings.filterwarnings(\"ignore\")"
   ]
  },
  {
   "cell_type": "markdown",
   "id": "e4f9f3c9",
   "metadata": {},
   "source": [
    "## Loop over depths, extract values"
   ]
  },
  {
   "cell_type": "code",
   "execution_count": null,
   "id": "5bd30d69",
   "metadata": {},
   "outputs": [],
   "source": [
    "\n",
    "def test_depths(depths, trials, n_qubits, shots, num_samples, circuit_type):\n",
    "    cnot_counts = []\n",
    "    oneq_counts = []\n",
    "\n",
    "    true_values=[]\n",
    "    noisy_values = []\n",
    "    pec_values = []\n",
    "\n",
    "    avg_true_values=[]\n",
    "    avg_noisy_values = []\n",
    "    avg_pec_values = []\n",
    "\n",
    "    std_true_values = []\n",
    "    std_noisy_values = []\n",
    "    std_pec_values = []\n",
    "\n",
    "    still_useful_counter = 0\n",
    "\n",
    "    for depth_i in range(0,len(depths)):\n",
    "\n",
    "        print(\"Status: On depth\", depths[depth_i], \"with backend\", noisy_backend, end=\"\\n\\n\")\n",
    "\n",
    "        true_values_at_depth, noisy_values_at_depth, pec_values_at_depth, cnot_counts_at_depth, oneq_counts_at_depth = run_experiment(depths[depth_i], trials, n_qubits, shots, num_samples, circuit_type)\n",
    "        \n",
    "        # Store values\n",
    "        true_values.append(true_values_at_depth)\n",
    "        noisy_values.append(noisy_values_at_depth)\n",
    "        pec_values.append(pec_values_at_depth)\n",
    "\n",
    "        # Store averages\n",
    "        avg_true_values.append(np.average(true_values_at_depth))\n",
    "        avg_noisy_values.append(np.average(noisy_values_at_depth))\n",
    "        avg_pec_values.append(np.average(pec_values_at_depth))\n",
    "        \n",
    "        # Store standard deviations\n",
    "        std_true_values.append(np.std(true_values_at_depth, ddof=1))\n",
    "        std_noisy_values.append(np.std(noisy_values_at_depth, ddof=1))\n",
    "        std_pec_values.append(np.std(pec_values_at_depth, ddof=1))\n",
    "\n",
    "        # Store gate counts\n",
    "        cnot_counts.append(cnot_counts_at_depth)\n",
    "        oneq_counts.append(oneq_counts_at_depth)\n",
    "\n",
    "        #Check usefulness\n",
    "        still_useful_at_depth, reason = still_useful(avg_true_values[depth_i], \n",
    "                        avg_noisy_values[depth_i], \n",
    "                        avg_pec_values[depth_i], \n",
    "                        std_noisy_values[depth_i], \n",
    "                        std_pec_values[depth_i])\n",
    "        \n",
    "        # # Count how many times in a row we're not useful, once we get to five (a trend, rather than a fluke bad spot) end it\n",
    "        # if still_useful_at_depth==True:\n",
    "        #     print(\"Reset the count\")\n",
    "        #     still_useful_counter = 0\n",
    "        # elif still_useful_at_depth==False:\n",
    "        #     print(\"Add count:\", reason)\n",
    "        #     still_useful_counter += 1 \n",
    "        # if still_useful_at_depth==False and still_useful_counter>=5:\n",
    "        #     print(\"PEC is no longer useful after depth = \", depths[depth_i-1])\n",
    "        #     # break\n",
    "    return cnot_counts, oneq_counts, true_values, noisy_values, pec_values, avg_true_values, avg_noisy_values, avg_pec_values, std_true_values, std_noisy_values, std_pec_values"
   ]
  },
  {
   "cell_type": "markdown",
   "id": "6d517617",
   "metadata": {},
   "source": [
    "## Actual test call"
   ]
  },
  {
   "cell_type": "code",
   "execution_count": null,
   "id": "95e39d4d",
   "metadata": {},
   "outputs": [],
   "source": [
    "cnot_counts, oneq_counts, true_values, noisy_values, pec_values, avg_true_values, avg_noisy_values, avg_pec_values, std_true_values, std_noisy_values, std_pec_values = test_depths(depths, trials, n_qubits, shots, num_samples, circuit_type)"
   ]
  },
  {
   "cell_type": "markdown",
   "id": "9956051c",
   "metadata": {},
   "source": [
    "## Plotting"
   ]
  },
  {
   "cell_type": "code",
   "execution_count": null,
   "id": "fcf5e978",
   "metadata": {},
   "outputs": [],
   "source": [
    "plt.figure(figsize=(9, 5))\n",
    "plot_depths = depths[:len(avg_true_values)]\n",
    "kwargs = {\"capsize\": 5, \"lw\": 2}\n",
    "\n",
    "plt.plot(plot_depths, avg_true_values, label=\"True\", lw=2)\n",
    "\n",
    "plt.errorbar(plot_depths, avg_noisy_values, yerr=std_noisy_values, label=\"Raw\", **kwargs, fmt='o', ms=2.5)\n",
    "plt.errorbar(plot_depths, avg_pec_values, yerr=std_pec_values, label=\"PEC\", **kwargs, fmt='o', ms=2.5)\n",
    "\n",
    "plt.xlabel(\"Depth\")\n",
    "plt.ylabel(\"Expectation value\")\n",
    "plt.title(f\"\"\"Real with {circuit_type} circuit using PEC on simulator using {n_qubits} qubits and {trials} trials per depth\"\"\")\n",
    "plt.legend() \n",
    "\n",
    "save_data = True\n",
    "import datetime\n",
    "if save_data == True:\n",
    "\n",
    "    dir_name = f\"Real_PEC_{circuit_type}_nqubits_{n_qubits}_shots_{shots}_trials_{trials}_Test_Depths\"\n",
    "    time_key = datetime.datetime.now().strftime(\"%Y-%m-%d_%H-%M-%S\")\n",
    "    try:\n",
    "        os.mkdir(dir_name)\n",
    "    except FileExistsError:\n",
    "        pass\n",
    "    plt.savefig(os.path.join(dir_name,f\"Real_PEC_{circuit_type}_{n_qubits}\"+ time_key +\".pdf\"))\n",
    "    np.savetxt(os.path.join(dir_name, \"cnot_counts\" + time_key + \".txt\"), cnot_counts)\n",
    "    np.savetxt(os.path.join(dir_name, \"oneq_counts\" + time_key + \".txt\"), oneq_counts)\n",
    "    np.savetxt(os.path.join(dir_name, \"true_values\" + time_key + \".txt\"), true_values)\n",
    "    np.savetxt(os.path.join(dir_name, \"noisy_values\" + time_key + \".txt\"), noisy_values)\n",
    "    np.savetxt(os.path.join(dir_name, \"pec_values\" + time_key + \".txt\"), pec_values)\n",
    "\n",
    "    print(\"Data saved succesfully in\", dir_name)"
   ]
  },
  {
   "cell_type": "code",
   "execution_count": null,
   "id": "f2251635",
   "metadata": {},
   "outputs": [],
   "source": [
    "# # Plot Errors\n",
    "noisy_errors = np.abs([a_i - b_i for a_i, b_i in zip(avg_noisy_values, avg_true_values)])\n",
    "pec_errors = np.abs([a_i - b_i for a_i, b_i in zip(avg_pec_values, avg_true_values)])\n",
    "\n",
    "plt.figure(figsize=(9, 5))\n",
    "plot_depths = depths[:len(avg_true_values)]\n",
    "kwargs = {\"capsize\": 5, \"lw\": 2}\n",
    "\n",
    "plt.errorbar(plot_depths, noisy_errors, yerr=std_noisy_values, label=\"Raw\", **kwargs, fmt='o', ms=2.5)\n",
    "plt.errorbar(plot_depths, pec_errors, yerr=std_pec_values, label=\"PEC\", **kwargs, fmt='o', ms=2.5)\n",
    "\n",
    "plt.xlabel(\"Depth\")\n",
    "plt.ylabel(\"Error in xpectation value\")\n",
    "plt.title(f\"\"\"Real with {circuit_type} circuit using PEC on simulator using {n_qubits} qubits and {trials} trials per depth\"\"\")\n",
    "plt.legend() \n",
    "\n",
    "# save_data = True\n",
    "import datetime\n",
    "if save_data == True:\n",
    "\n",
    "    dir_name = f\"Real_PEC_{circuit_type}_nqubits_{n_qubits}_shots_{shots}_trials_{trials}_Test_Depths\"\n",
    "    time_key = datetime.datetime.now().strftime(\"%Y-%m-%d_%H-%M-%S\")\n",
    "    try:\n",
    "        os.mkdir(dir_name)\n",
    "    except FileExistsError:\n",
    "        pass\n",
    "    plt.savefig(os.path.join(dir_name,f\"Real_PEC_{circuit_type}_{n_qubits}_Errors\"+ time_key +\".pdf\"))\n",
    "\n",
    "    print(\"Data saved succesfully in\", dir_name)"
   ]
  }
 ],
 "metadata": {
  "kernelspec": {
   "display_name": "base",
   "language": "python",
   "name": "python3"
  },
  "language_info": {
   "codemirror_mode": {
    "name": "ipython",
    "version": 3
   },
   "file_extension": ".py",
   "mimetype": "text/x-python",
   "name": "python",
   "nbconvert_exporter": "python",
   "pygments_lexer": "ipython3",
   "version": "3.12.7"
  }
 },
 "nbformat": 4,
 "nbformat_minor": 5
}
