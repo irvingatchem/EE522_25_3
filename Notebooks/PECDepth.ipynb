{
 "cells": [
  {
   "cell_type": "markdown",
   "metadata": {},
   "source": [
    "## Benchmarking Circuit Depth for PEC\n",
    "***"
   ]
  },
  {
   "cell_type": "markdown",
   "metadata": {},
   "source": [
    "# Imports"
   ]
  },
  {
   "cell_type": "code",
   "execution_count": 1,
   "metadata": {},
   "outputs": [],
   "source": [
    "import functools\n",
    "import os\n",
    "import time\n",
    "from typing import List\n",
    "import matplotlib.pyplot as plt\n",
    "import cirq\n",
    "import networkx as nx\n",
    "import numpy as np\n",
    "import qiskit\n",
    "from mitiq import benchmarks, pec"
   ]
  },
  {
   "cell_type": "markdown",
   "metadata": {},
   "source": [
    "# Set up hardware\n",
    "We need chain-like connectivity for mirror circuits. Physical qubit structure is used for initial_layout argument in the executor."
   ]
  },
  {
   "cell_type": "code",
   "execution_count": 2,
   "metadata": {},
   "outputs": [],
   "source": [
    "def get_phys_qubits(n_qubits):\n",
    "    # Physical qubits of ibmq-kolkata with a chain-like connectivity.\n",
    "    ibm_lima_ordering = [0, 1, 3, 4, 2]\n",
    "    ibm_kolkata_ordering = [\n",
    "        0,\n",
    "        1,\n",
    "        4,\n",
    "        7,\n",
    "        10,\n",
    "        12,\n",
    "        15,\n",
    "        18,\n",
    "        21,\n",
    "        23,\n",
    "        24,\n",
    "        25,\n",
    "        22,\n",
    "        19,\n",
    "        16,\n",
    "        14,\n",
    "        11,\n",
    "        8,\n",
    "        5,\n",
    "        3,\n",
    "        2,\n",
    "    ]\n",
    "\n",
    "    if n_qubits <= 5:\n",
    "        # Assume ibmq-lima device. Take n adjacent physical qubits.\n",
    "        physical_ibm_qubits = ibm_lima_ordering[: n_qubits]\n",
    "    elif n_qubits <= len(ibm_kolkata_ordering):\n",
    "        # Assume ibmq-kolkata device. Take n adjacent physical qubits.\n",
    "        physical_ibm_qubits = ibm_kolkata_ordering[: n_qubits]\n",
    "    else:\n",
    "        raise ValueError(f\"Number of qubits {n_qubits} too large.\")\n",
    "    \n",
    "    return physical_ibm_qubits"
   ]
  },
  {
   "cell_type": "markdown",
   "metadata": {},
   "source": [
    "# Make connectivity graph for mirror circuits"
   ]
  },
  {
   "cell_type": "code",
   "execution_count": 3,
   "metadata": {},
   "outputs": [],
   "source": [
    "def get_computer(n_qubits):\n",
    "    # Make connectivity graph \n",
    "    computer = nx.Graph()\n",
    "\n",
    "    qubits = [j for j in range(n_qubits)]\n",
    "\n",
    "    # Split qubits into 2-qubit pairs (assuming a chain connectivity).\n",
    "    rb_pattern = [[qa, qb] for qa, qb in zip(qubits[0:-1:2], qubits[1::2])]\n",
    "    if n_qubits % 2 == 1:\n",
    "        # For an odd number of qubits, append final individual qubit to the RB pattern.\n",
    "        rb_pattern.append([qubits[-1]])\n",
    "    # print(\"Qubit indeces:\", qubits)\n",
    "    # print(\"RB pattern:\", rb_pattern)\n",
    "\n",
    "    # Assume chain-like connectivity\n",
    "    computer.add_edges_from([(qa, qb) for qa, qb in zip(qubits[:-1], qubits[1:])])\n",
    "\n",
    "    # Add reversed edges to computer graph.\n",
    "    # This is important to represent CNOT gates with target and control reversed.\n",
    "    computer = nx.to_directed(computer)\n",
    "    return computer"
   ]
  },
  {
   "cell_type": "markdown",
   "metadata": {},
   "source": [
    "# Create circuit for testing\n",
    "Specify:\n",
    "1. Benchmarking circuit type\n",
    "2. Number of qubits\n",
    "3. Depth\n",
    "4. Seed"
   ]
  },
  {
   "cell_type": "code",
   "execution_count": 4,
   "metadata": {},
   "outputs": [],
   "source": [
    "def get_circuit(circuit_type:str, n_qubits:int, depth: int, seed: int) -> tuple[qiskit.QuantumCircuit, str]:\n",
    "    \"\"\"Create circuit.\"\"\"\n",
    "    \n",
    "    if circuit_type == \"rb\":\n",
    "        circuit = benchmarks.generate_rb_circuits(\n",
    "            n_qubits=2, \n",
    "            num_cliffords=depth, \n",
    "            seed=seed, \n",
    "            return_type=\"qiskit\"\n",
    "            )[0]\n",
    "        return circuit, \"00\"\n",
    "\n",
    "    elif circuit_type == \"mirror\":\n",
    "        # Make connectivity graph \n",
    "        computer = get_computer(n_qubits)\n",
    "        circuit, correct_bitstring = benchmarks.generate_mirror_circuit(\n",
    "                nlayers=depth,\n",
    "                two_qubit_gate_prob=1.0,\n",
    "                connectivity_graph=computer,\n",
    "                two_qubit_gate_name=\"CNOT\",\n",
    "                seed=seed,\n",
    "                return_type=\"qiskit\",\n",
    "            )\n",
    "        # Reversed because Qiskit is wrong endian.\n",
    "        return circuit, \"\".join(map(str, correct_bitstring[::-1]))\n",
    "    \n",
    "    else:\n",
    "        print(\"what\")\n",
    "        return\n",
    "    \n",
    "# We can add in more types later"
   ]
  },
  {
   "cell_type": "code",
   "execution_count": 5,
   "metadata": {},
   "outputs": [
    {
     "data": {
      "text/html": [
       "<pre style=\"word-wrap: normal;white-space: pre;background: #fff0;line-height: 1.1;font-family: &quot;Courier New&quot;,Courier,monospace\">        ┌───┐   ┌──────┐┌───┐     ┌───┐     ┌───┐     ┌───┐     ┌───┐     ┌───┐»\n",
       "q_0: ───┤ Y ├───┤ √Xdg ├┤ X ├──■──┤ X ├──■──┤ Z ├──■──┤ X ├──■──┤ Y ├──■──┤ Y ├»\n",
       "     ┌──┴───┴──┐├──────┤├───┤┌─┴─┐├───┤┌─┴─┐├───┤┌─┴─┐├───┤┌─┴─┐├───┤┌─┴─┐├───┤»\n",
       "q_1: ┤ Ry(π/2) ├┤ √Xdg ├┤ X ├┤ X ├┤ X ├┤ X ├┤ Y ├┤ X ├┤ I ├┤ X ├┤ Z ├┤ X ├┤ X ├»\n",
       "     └─────────┘└──────┘└───┘└───┘└───┘└───┘└───┘└───┘└───┘└───┘└───┘└───┘└───┘»\n",
       "«          ┌───┐┌────┐   ┌───┐    \n",
       "«q_0: ──■──┤ Y ├┤ √X ├───┤ Y ├────\n",
       "«     ┌─┴─┐├───┤├────┤┌──┴───┴───┐\n",
       "«q_1: ┤ X ├┤ I ├┤ √X ├┤ Ry(-π/2) ├\n",
       "«     └───┘└───┘└────┘└──────────┘</pre>"
      ],
      "text/plain": [
       "        ┌───┐   ┌──────┐┌───┐     ┌───┐     ┌───┐     ┌───┐     ┌───┐     ┌───┐»\n",
       "q_0: ───┤ Y ├───┤ √Xdg ├┤ X ├──■──┤ X ├──■──┤ Z ├──■──┤ X ├──■──┤ Y ├──■──┤ Y ├»\n",
       "     ┌──┴───┴──┐├──────┤├───┤┌─┴─┐├───┤┌─┴─┐├───┤┌─┴─┐├───┤┌─┴─┐├───┤┌─┴─┐├───┤»\n",
       "q_1: ┤ Ry(π/2) ├┤ √Xdg ├┤ X ├┤ X ├┤ X ├┤ X ├┤ Y ├┤ X ├┤ I ├┤ X ├┤ Z ├┤ X ├┤ X ├»\n",
       "     └─────────┘└──────┘└───┘└───┘└───┘└───┘└───┘└───┘└───┘└───┘└───┘└───┘└───┘»\n",
       "«          ┌───┐┌────┐   ┌───┐    \n",
       "«q_0: ──■──┤ Y ├┤ √X ├───┤ Y ├────\n",
       "«     ┌─┴─┐├───┤├────┤┌──┴───┴───┐\n",
       "«q_1: ┤ X ├┤ I ├┤ √X ├┤ Ry(-π/2) ├\n",
       "«     └───┘└───┘└────┘└──────────┘"
      ]
     },
     "execution_count": 5,
     "metadata": {},
     "output_type": "execute_result"
    }
   ],
   "source": [
    "circuit, cb = get_circuit(\"mirror\", 2, 3, 1)\n",
    "circuit.draw()"
   ]
  },
  {
   "cell_type": "markdown",
   "metadata": {},
   "source": [
    "# General Parameters\n",
    "\n",
    "1. Backends\n",
    "2. Seed\n",
    "3. Verbosity of output"
   ]
  },
  {
   "cell_type": "code",
   "execution_count": 6,
   "metadata": {},
   "outputs": [],
   "source": [
    "# Simulators (Add in real one later)\n",
    "from qiskit.providers.fake_provider import GenericBackendV2\n",
    "noisy_backend = GenericBackendV2(num_qubits=6)\n",
    "\n",
    "import qiskit_aer\n",
    "ideal_backend = qiskit_aer.AerSimulator()\n",
    "\n",
    "# Random seed for circuit generation.\n",
    "seed: int = 1\n",
    "\n",
    "# Display verbose output.\n",
    "verbose: bool = False\n",
    "# Give queue updates every this many seconds when running on hardware device.\n",
    "verbose_update_time: int = 30\n",
    "\n",
    "# Save data (cnot_counts, oneq_counts, true_values, noisy_values, zne_values, etc.).\n",
    "save_data: bool = True"
   ]
  },
  {
   "cell_type": "markdown",
   "metadata": {},
   "source": [
    "Count the number of CNOT gates in the circuit."
   ]
  },
  {
   "cell_type": "code",
   "execution_count": 7,
   "metadata": {},
   "outputs": [],
   "source": [
    "def get_num_cnot_count(circuit: qiskit.QuantumCircuit) -> int:\n",
    "    \"\"\"Determine number of cnot gates in a given `Circuit` object.\"\"\"\n",
    "    return circuit.count_ops().get(\"cx\")\n",
    "\n",
    "def get_avg_cnot_count(circuits: list[qiskit.QuantumCircuit]) -> float:\n",
    "    \"\"\"Determine average number of cnot gates present in list of `QuantumCircuit` objects.\"\"\"\n",
    "    return np.average([c.count_ops().get(\"cx\") for c in circuits])\n",
    "\n",
    "def get_oneq_count(circuit: qiskit.QuantumCircuit) -> int:\n",
    "    return len(circuit) - get_num_cnot_count(circuit)"
   ]
  },
  {
   "cell_type": "markdown",
   "metadata": {},
   "source": [
    "# Create executor"
   ]
  },
  {
   "cell_type": "code",
   "execution_count": 8,
   "metadata": {},
   "outputs": [],
   "source": [
    "def execute(\n",
    "    circuits: qiskit.QuantumCircuit | list[qiskit.QuantumCircuit],\n",
    "    backend,\n",
    "    shots: int,\n",
    "    correct_bitstring: str,\n",
    "    verbose: bool = verbose,\n",
    "    ) -> List[float]:\n",
    "    \"\"\"Executes the input circuit(s) and returns ⟨A⟩, where A = |correct_bitstring⟩⟨correct_bitstring| for each circuit.\"\"\"\n",
    "\n",
    "    if not isinstance(circuits, list):\n",
    "        circuits = [circuits]\n",
    "    if verbose:\n",
    "        # Calculate average number of CNOT gates per circuit.\n",
    "        print(f\"Executing {len(circuits)} circuit(s) on {backend}.\")\n",
    "        print(f\"Average cnot count in circuits: {get_avg_cnot_count(circuits)}\")\n",
    "\n",
    "    # Store all circuits to run in list to be returned.\n",
    "    to_run: list[qiskit.QuantumCircuit] = []\n",
    "\n",
    "    for circuit in circuits:\n",
    "        circuit_to_run = circuit.copy()\n",
    "        circuit_to_run.measure_all()\n",
    "        to_run.append(\n",
    "            qiskit.transpile(\n",
    "                circuit_to_run,\n",
    "                backend=backend,\n",
    "                initial_layout= get_phys_qubits(circuit.num_qubits),\n",
    "                optimization_level=0,  # Otherwise RB circuits are simplified to empty circuits.\n",
    "            )\n",
    "        )\n",
    "\n",
    "    if verbose:\n",
    "        # Calculate average number of CNOT gates per compiled circuit.\n",
    "        print(f\"Average cnot count in compiled circuits: {get_avg_cnot_count(to_run)}\")\n",
    "\n",
    "    # Run and get counts.\n",
    "    job = backend.run(\n",
    "        to_run,\n",
    "        # Reset qubits to ground state after each sample.\n",
    "        init_qubits=True,\n",
    "        shots=shots,\n",
    "    )\n",
    "    # IBMQ uses online queue for processing jobs.\n",
    "    # if verbose and not use_noisy_simulator:\n",
    "    #     time.sleep(3)\n",
    "    #     while not job.in_final_state():\n",
    "    #         print(f\"Queue position: {job.queue_position()}\")\n",
    "    #         time.sleep(verbose_update_time)\n",
    "    #     print()\n",
    "\n",
    "    # print(f\"Correct bitstring: {correct_bitstring}\")\n",
    "    if len(circuits) == 1:\n",
    "        return [job.result().get_counts().get(correct_bitstring, 0.0) / shots]\n",
    "    return [\n",
    "        count.get(correct_bitstring, 0.0) / shots for count in job.result().get_counts()\n",
    "    ]"
   ]
  },
  {
   "cell_type": "markdown",
   "metadata": {},
   "source": [
    "# Introduce error"
   ]
  },
  {
   "cell_type": "code",
   "execution_count": 9,
   "metadata": {},
   "outputs": [],
   "source": [
    "def get_cnot_error(edge: tuple[int, int] = None) -> float:\n",
    "    cnot_error_prob = 0.01\n",
    "    #cnot_error_prob = noisy_backend.properties().gate_error(\"cx\", qubits=edge)\n",
    "    # print(f\"cnot_error_prob for edge {edge}: {cnot_error_prob}\")\n",
    "    return cnot_error_prob\n",
    "\n",
    "def get_cnot_representation(edge: tuple[int, int]) -> pec.OperationRepresentation:\n",
    "    cnot_circuit = cirq.Circuit(\n",
    "        cirq.CNOT(\n",
    "            cirq.NamedQubit(f\"q_{str(edge[0])}\"),\n",
    "            cirq.NamedQubit(f\"q_{str(edge[1])}\"),\n",
    "        )\n",
    "    )\n",
    "    rep_exact_prob = 1 - np.sqrt(1 - get_cnot_error(edge))\n",
    "    return pec.represent_operation_with_local_depolarizing_noise(\n",
    "        cnot_circuit,\n",
    "        noise_level=rep_exact_prob,\n",
    "    )\n",
    "\n",
    "def get_representations(computer: nx.Graph) -> list[pec.OperationRepresentation]:\n",
    "    return [get_cnot_representation(edge) for edge in computer.edges]"
   ]
  },
  {
   "cell_type": "markdown",
   "metadata": {},
   "source": [
    "# Run experiment\n",
    "Specify:\n",
    "1. Depth\n",
    "2. Trials\n",
    "3. Number of qubits (for computer)\n",
    "4. Shots\n",
    "5. Number of samples"
   ]
  },
  {
   "cell_type": "code",
   "execution_count": 10,
   "metadata": {},
   "outputs": [],
   "source": [
    "def run_experiment(depth, trials, n_qubits, shots, num_samples, circuit_type):\n",
    "    computer = get_computer(n_qubits)\n",
    "\n",
    "    true_values_at_depth = []\n",
    "    noisy_values_at_depth = []\n",
    "    pec_values_at_depth = []\n",
    "    cnot_counts_at_depth = []\n",
    "    oneq_counts_at_depth = []\n",
    "\n",
    "    for trial in range(trials):\n",
    "        # Local seed is calculated in this way to ensure that we don't get repeat values in loop.\n",
    "        local_seed = int(10**6 * depth + 10**3 * seed + trial)\n",
    "\n",
    "        circuit, correct_bitstring = get_circuit(circuit_type, n_qubits, depth, local_seed)\n",
    "\n",
    "        (true_value,) = execute(\n",
    "            circuit,\n",
    "            ideal_backend,\n",
    "            shots,\n",
    "            correct_bitstring,\n",
    "            verbose=verbose,\n",
    "        )\n",
    "        true_values_at_depth.append(true_value)\n",
    "\n",
    "        (noisy_value,) = execute(\n",
    "            circuit,\n",
    "            noisy_backend,\n",
    "            shots,\n",
    "            correct_bitstring,\n",
    "            verbose=verbose\n",
    "        )\n",
    "        noisy_values_at_depth.append(noisy_value)\n",
    "\n",
    "        pec_executor = functools.partial(\n",
    "            execute,\n",
    "            backend=noisy_backend,\n",
    "            shots=shots // num_samples,\n",
    "            correct_bitstring=correct_bitstring,\n",
    "            verbose=verbose,\n",
    "        )\n",
    "\n",
    "        pec_value = pec.execute_with_pec(\n",
    "            circuit,\n",
    "            pec_executor,\n",
    "            representations=get_representations(computer),\n",
    "            num_samples=num_samples,\n",
    "            random_state=local_seed,\n",
    "        )\n",
    "        pec_values_at_depth.append(pec_value)\n",
    "\n",
    "        cnot_counts_at_depth.append(get_num_cnot_count(circuit))\n",
    "        oneq_counts_at_depth.append(get_oneq_count(circuit))\n",
    "\n",
    "    return true_values_at_depth, noisy_values_at_depth, pec_values_at_depth, cnot_counts_at_depth, oneq_counts_at_depth"
   ]
  },
  {
   "cell_type": "markdown",
   "metadata": {},
   "source": [
    "# Is PEC still useful?"
   ]
  },
  {
   "cell_type": "code",
   "execution_count": 11,
   "metadata": {},
   "outputs": [],
   "source": [
    "def still_useful(avg_true_value, avg_noisy_value, avg_pec_value, std_noisy_value, std_pec_value):\n",
    "\n",
    "    # pec_diffs=[]\n",
    "    # noisy_diffs=[]\n",
    "    # for trial_i in range(0, len(pec_values)):\n",
    "    #     pec_diffs.append(np.abs(true_value - pec_values[trial_i]))\n",
    "    #     noisy_diffs.append(np.abs(true_value - noisy_values[trial_i]))\n",
    "    # avg_pec_diff = np.average(pec_diffs)\n",
    "    # avg_noisy_diff = np.average(noisy_diffs)\n",
    "    # min_pec_diff = np.min(pec_diffs)\n",
    "    # min_noisy_diff = np.min(noisy_diffs)\n",
    "\n",
    "    error_max = avg_pec_value + std_pec_value\n",
    "    error_min = avg_pec_value - std_pec_value\n",
    "\n",
    "    # If true value is not within PEC error bar\n",
    "    if (avg_true_value < error_min) or (avg_true_value > error_max):\n",
    "        reason = \"Not within error bar\"\n",
    "        return False, reason\n",
    "    # If the std of PEC is too big?\n",
    "    elif std_pec_value >= 4*np.abs(avg_true_value - avg_pec_value):\n",
    "        reason = \"Std over threshold: \" + str(4*np.abs(avg_true_value - avg_pec_value))\n",
    "        return False, reason\n",
    "    # If the deviation passes a certain fixed threshold?\n",
    "    elif avg_pec_value >= 2*avg_true_value:\n",
    "        reason = \"Avg over threshold: \" + str(2*avg_true_value)\n",
    "        return False, reason\n",
    "    \n",
    "    else:\n",
    "        reason = \"none\"\n",
    "        return True, reason"
   ]
  },
  {
   "cell_type": "markdown",
   "metadata": {},
   "source": [
    "# Now let's run some stuff!"
   ]
  },
  {
   "cell_type": "code",
   "execution_count": 12,
   "metadata": {},
   "outputs": [],
   "source": [
    "depths = np.arange(1,101)\n",
    "trials = 3\n",
    "n_qubits = 2\n",
    "shots = 10000\n",
    "num_samples = 100\n",
    "circuit_type= \"mirror\""
   ]
  },
  {
   "cell_type": "code",
   "execution_count": 13,
   "metadata": {},
   "outputs": [],
   "source": [
    "# BE VERY CAREFUL WITH THIS\n",
    "# Just to remove the UserWarning for representations\n",
    "\n",
    "import warnings\n",
    "warnings.filterwarnings(\"ignore\")"
   ]
  },
  {
   "cell_type": "code",
   "execution_count": null,
   "metadata": {},
   "outputs": [
    {
     "name": "stdout",
     "output_type": "stream",
     "text": [
      "Status: On depth 1\n",
      "\n",
      "Reset the count\n",
      "Status: On depth 2\n",
      "\n",
      "Reset the count\n",
      "Status: On depth 3\n",
      "\n",
      "Add count Not within error bar\n",
      "Status: On depth 4\n",
      "\n",
      "Reset the count\n",
      "Status: On depth 5\n",
      "\n",
      "Add count Not within error bar\n",
      "Status: On depth 6\n",
      "\n",
      "Add count Std over threshold: 0.020202117402823294\n",
      "Status: On depth 7\n",
      "\n",
      "Reset the count\n",
      "Status: On depth 8\n",
      "\n",
      "Reset the count\n",
      "Status: On depth 9\n",
      "\n",
      "Add count Not within error bar\n",
      "Status: On depth 10\n",
      "\n",
      "Add count Std over threshold: 0.016167747689986633\n",
      "Status: On depth 11\n",
      "\n",
      "Add count Not within error bar\n",
      "Status: On depth 12\n",
      "\n",
      "Reset the count\n",
      "Status: On depth 13\n",
      "\n",
      "Add count Not within error bar\n",
      "Status: On depth 14\n",
      "\n",
      "Add count Not within error bar\n",
      "Status: On depth 15\n",
      "\n",
      "Add count Not within error bar\n",
      "Status: On depth 16\n",
      "\n",
      "Add count Not within error bar\n",
      "Status: On depth 17\n",
      "\n",
      "Reset the count\n",
      "Status: On depth 18\n",
      "\n",
      "Add count Not within error bar\n",
      "Status: On depth 19\n",
      "\n",
      "Add count Not within error bar\n",
      "Status: On depth 20\n",
      "\n",
      "Add count Not within error bar\n",
      "Status: On depth 21\n",
      "\n",
      "Add count Not within error bar\n",
      "Status: On depth 22\n",
      "\n",
      "Add count Not within error bar\n",
      "Status: On depth 23\n",
      "\n",
      "Add count Not within error bar\n",
      "Status: On depth 24\n",
      "\n",
      "Add count Not within error bar\n",
      "Status: On depth 25\n",
      "\n",
      "Reset the count\n",
      "Status: On depth 26\n",
      "\n",
      "Add count Not within error bar\n",
      "Status: On depth 27\n",
      "\n",
      "Add count Not within error bar\n",
      "Status: On depth 28\n",
      "\n",
      "Reset the count\n",
      "Status: On depth 29\n",
      "\n",
      "Add count Not within error bar\n",
      "Status: On depth 30\n",
      "\n",
      "Add count Not within error bar\n",
      "Status: On depth 31\n",
      "\n",
      "Add count Not within error bar\n",
      "Status: On depth 32\n",
      "\n",
      "Add count Not within error bar\n",
      "Status: On depth 33\n",
      "\n",
      "Add count Not within error bar\n",
      "Status: On depth 34\n",
      "\n"
     ]
    }
   ],
   "source": [
    "cnot_counts = []\n",
    "oneq_counts = []\n",
    "\n",
    "true_values=[]\n",
    "noisy_values = []\n",
    "pec_values = []\n",
    "\n",
    "avg_true_values=[]\n",
    "avg_noisy_values = []\n",
    "avg_pec_values = []\n",
    "\n",
    "std_true_values = []\n",
    "std_noisy_values = []\n",
    "std_pec_values = []\n",
    "\n",
    "still_useful_counter = 0\n",
    "\n",
    "for depth_i in range(0,len(depths)):\n",
    "    print(\"Status: On depth\", depths[depth_i], end=\"\\n\\n\")\n",
    "\n",
    "    true_values_at_depth, noisy_values_at_depth, pec_values_at_depth, cnot_counts_at_depth, oneq_counts_at_depth = run_experiment(depths[depth_i], trials, n_qubits, shots, num_samples, circuit_type)\n",
    "    \n",
    "    # Store values\n",
    "    true_values.append(true_values_at_depth)\n",
    "    noisy_values.append(noisy_values_at_depth)\n",
    "    pec_values.append(pec_values_at_depth)\n",
    "\n",
    "    # Store averages\n",
    "    avg_true_values.append(np.average(true_values_at_depth))\n",
    "    avg_noisy_values.append(np.average(noisy_values_at_depth))\n",
    "    avg_pec_values.append(np.average(pec_values_at_depth))\n",
    "    \n",
    "    # Store standard deviations\n",
    "    std_true_values.append(np.std(true_values_at_depth, ddof=1))\n",
    "    std_noisy_values.append(np.std(noisy_values_at_depth, ddof=1))\n",
    "    std_pec_values.append(np.std(pec_values_at_depth, ddof=1))\n",
    "\n",
    "    # Store gate counts\n",
    "    cnot_counts.append(cnot_counts_at_depth)\n",
    "    oneq_counts.append(oneq_counts_at_depth)\n",
    "    still_useful_at_depth, reason = still_useful(avg_true_values[depth_i], \n",
    "                    avg_noisy_values[depth_i], \n",
    "                    avg_pec_values[depth_i], \n",
    "                    std_noisy_values[depth_i], \n",
    "                    std_pec_values[depth_i])\n",
    "    \n",
    "    # Count how many times in a row we're not useful, once we get to ten (a trend, rather than a fluke bad spot) end it\n",
    "    if still_useful_at_depth==True:\n",
    "        print(\"Reset the count\")\n",
    "        still_useful_counter = 0\n",
    "    elif still_useful_at_depth==False:\n",
    "        print(\"Add count\", reason)\n",
    "        still_useful_counter += 1 \n",
    "    if still_useful_at_depth==False and still_useful_counter>=10:\n",
    "        print(\"PEC is no longer useful after depth = \", depths[depth_i-1])\n",
    "        break\n",
    "\n"
   ]
  },
  {
   "cell_type": "code",
   "execution_count": null,
   "metadata": {},
   "outputs": [
    {
     "name": "stdout",
     "output_type": "stream",
     "text": [
      "[[1.0, 1.0, 1.0], [1.0, 1.0, 1.0], [1.0, 1.0, 1.0], [1.0, 1.0, 1.0], [1.0, 1.0, 1.0], [1.0, 1.0, 1.0], [1.0, 1.0, 1.0], [1.0, 1.0, 1.0], [1.0, 1.0, 1.0], [1.0, 1.0, 1.0], [1.0, 1.0, 1.0], [1.0, 1.0, 1.0], [1.0, 1.0, 1.0], [1.0, 1.0, 1.0], [1.0, 1.0, 1.0], [1.0, 1.0, 1.0], [1.0, 1.0, 1.0], [1.0, 1.0, 1.0], [1.0, 1.0, 1.0], [1.0, 1.0, 1.0], [1.0, 1.0, 1.0], [1.0, 1.0, 1.0], [1.0, 1.0, 1.0], [1.0, 1.0, 1.0], [1.0, 1.0, 1.0], [1.0, 1.0, 1.0], [1.0, 1.0, 1.0], [1.0, 1.0, 1.0], [1.0, 1.0, 1.0], [1.0, 1.0, 1.0], [1.0, 1.0, 1.0], [1.0, 1.0, 1.0], [1.0, 1.0, 1.0], [1.0, 1.0, 1.0], [1.0, 1.0, 1.0], [1.0, 1.0, 1.0], [1.0, 1.0, 1.0], [1.0, 1.0, 1.0], [1.0, 1.0, 1.0], [1.0, 1.0, 1.0], [1.0, 1.0, 1.0], [1.0, 1.0, 1.0], [1.0, 1.0, 1.0]]\n",
      "[[0.988, 0.9807, 0.9851], [0.9738, 0.9722, 0.9799], [0.9617, 0.9669, 0.9672], [0.9578, 0.9695, 0.9618], [0.9671, 0.9567, 0.9509], [0.9285, 0.9364, 0.9407], [0.9449, 0.9267, 0.9527], [0.9177, 0.9291, 0.9483], [0.9087, 0.952, 0.911], [0.944, 0.9309, 0.9293], [0.9052, 0.924, 0.8807], [0.9136, 0.9265, 0.9013], [0.8977, 0.8896, 0.9194], [0.8639, 0.87, 0.8552], [0.8778, 0.8545, 0.8768], [0.8934, 0.9029, 0.8696], [0.8289, 0.8945, 0.8332], [0.8917, 0.8945, 0.8369], [0.8889, 0.8105, 0.8538], [0.8436, 0.818, 0.8454], [0.8138, 0.8898, 0.8664], [0.8339, 0.865, 0.8693], [0.7949, 0.8267, 0.7855], [0.8661, 0.7814, 0.8175], [0.7774, 0.7751, 0.8309], [0.7783, 0.7715, 0.7668], [0.7619, 0.7994, 0.8097], [0.7952, 0.8249, 0.8327], [0.7245, 0.7239, 0.7894], [0.7711, 0.7478, 0.7269], [0.7991, 0.7836, 0.7747], [0.7324, 0.811, 0.8436], [0.7126, 0.7302, 0.7112], [0.7032, 0.8281, 0.72], [0.7171, 0.6949, 0.7012], [0.8116, 0.7025, 0.7758], [0.8143, 0.6947, 0.7388], [0.8074, 0.697, 0.6792], [0.7334, 0.6689, 0.6685], [0.7926, 0.7684, 0.6882], [0.6754, 0.7219, 0.6832], [0.7199, 0.6687, 0.7868], [0.7608, 0.6607, 0.7857]]\n",
      "5\n"
     ]
    }
   ],
   "source": [
    "print(true_values)\n",
    "print(noisy_values)\n",
    "print(still_useful_counter)"
   ]
  },
  {
   "cell_type": "code",
   "execution_count": null,
   "metadata": {},
   "outputs": [
    {
     "data": {
      "text/plain": [
       "<matplotlib.legend.Legend at 0x23a617bc1d0>"
      ]
     },
     "execution_count": 166,
     "metadata": {},
     "output_type": "execute_result"
    },
    {
     "data": {
      "image/png": "[encoded data removed]",
      "text/plain": [
       "<Figure size 900x500 with 1 Axes>"
      ]
     },
     "metadata": {},
     "output_type": "display_data"
    }
   ],
   "source": [
    "plt.figure(figsize=(9, 5))\n",
    "plot_depths = depths[:len(avg_true_values)]\n",
    "kwargs = {\"capsize\": 10, \"lw\": 2}\n",
    "\n",
    "plt.plot(plot_depths, avg_true_values, label=\"True\", lw=2)\n",
    "plt.errorbar(plot_depths, avg_noisy_values, yerr=std_noisy_values, label=\"Raw\", **kwargs, fmt='o')\n",
    "plt.errorbar(plot_depths, avg_pec_values, yerr=std_pec_values, label=\"PEC\", **kwargs, fmt='o')\n",
    "\n",
    "\n",
    "plt.xlabel(\"Depth\")\n",
    "plt.ylabel(\"Expectation value\")\n",
    "plt.legend()"
   ]
  }
 ],
 "metadata": {
  "kernelspec": {
   "display_name": "PHYS522_yml",
   "language": "python",
   "name": "python3"
  },
  "language_info": {
   "codemirror_mode": {
    "name": "ipython",
    "version": 3
   },
   "file_extension": ".py",
   "mimetype": "text/x-python",
   "name": "python",
   "nbconvert_exporter": "python",
   "pygments_lexer": "ipython3",
   "version": "3.12.8"
  }
 },
 "nbformat": 4,
 "nbformat_minor": 2
}
