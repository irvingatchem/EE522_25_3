{
 "cells": [
  {
   "cell_type": "markdown",
   "metadata": {},
   "source": [
    "# Benchmarking Circuit Depth for PEC\n",
    "***"
   ]
  },
  {
   "cell_type": "markdown",
   "metadata": {},
   "source": [
    "## Imports"
   ]
  },
  {
   "cell_type": "code",
   "execution_count": 155,
   "metadata": {},
   "outputs": [],
   "source": [
    "import functools\n",
    "import os\n",
    "import time\n",
    "from typing import List\n",
    "import matplotlib.pyplot as plt\n",
    "import cirq\n",
    "import networkx as nx\n",
    "import numpy as np\n",
    "import qiskit\n",
    "from mitiq import benchmarks, pec\n",
    "\n",
    "from qiskit_ibm_runtime.fake_provider import FakeTorino\n",
    "from qiskit.providers.fake_provider import GenericBackendV2\n",
    "import qiskit_aer"
   ]
  },
  {
   "cell_type": "markdown",
   "metadata": {},
   "source": [
    "## Setup Stuff"
   ]
  },
  {
   "cell_type": "code",
   "execution_count": 156,
   "metadata": {},
   "outputs": [],
   "source": [
    "ideal_backend = qiskit_aer.AerSimulator()\n",
    "\n",
    "# Random seed for circuit generation.ibm_kolkata_ordering\n",
    "seed: int = 1\n",
    "\n",
    "# Display verbose output.\n",
    "verbose: bool = False\n",
    "# Give queue updates every this many seconds when running on hardware device.\n",
    "verbose_update_time: int = 30"
   ]
  },
  {
   "cell_type": "markdown",
   "metadata": {},
   "source": [
    "## Set up hardware\n",
    "We need chain-like connectivity for mirror circuits. Physical qubit structure is used for initial_layout argument in the executor."
   ]
  },
  {
   "cell_type": "code",
   "execution_count": null,
   "metadata": {},
   "outputs": [],
   "source": [
    "def get_phys_qubits(n_qubits):\n",
    "    # Physical qubits with a chain-like connectivity.\n",
    "    ibm_lima_ordering = [0, 1, 3, 4, 2] \n",
    "    ibm_kolkata_ordering = [0, 1, 4, 7, 10, 12, 15, 18, 21, 23, 24, 25, 22, 19, 16, 14, 11, 8, 5, 3, 2]\n",
    "    ibm_torino_ordering = [14, 13, 12, 11, 10, \n",
    "                           9, 8, 7, 6, 5, \n",
    "                           4, 3, 2, 1, 0, \n",
    "                           15, 19, 20, 21, 22, \n",
    "                           23, 24, 25, 26, 27, \n",
    "                           28, 29, 30, 31, 32, 33]\n",
    "\n",
    "\n",
    "    if n_qubits <= len(ibm_lima_ordering):\n",
    "        # Assume ibmq-lima device. Take n adjacent physical qubits.\n",
    "        physical_ibm_qubits = ibm_lima_ordering[: n_qubits]\n",
    "    elif n_qubits <= len(ibm_kolkata_ordering) and n_qubits > len(ibm_lima_ordering):\n",
    "        # Assume ibmq-kolkata device. Take n adjacent physical qubits.\n",
    "        physical_ibm_qubits = ibm_kolkata_ordering[: n_qubits]\n",
    "    elif n_qubits <= len(ibm_torino_ordering) and n_qubits > len(ibm_kolkata_ordering):\n",
    "        # Assume ibmq-torino device. Take n adjacent physical qubits.\n",
    "        physical_ibm_qubits = ibm_torino_ordering[: n_qubits]\n",
    "    else:\n",
    "        raise ValueError(f\"Number of qubits {n_qubits} too large.\")\n",
    "    \n",
    "    return ibm_torino_ordering[: n_qubits] #physical_ibm_qubits\n",
    "    # fake_list = []\n",
    "    # for i in range(0,n_qubits):\n",
    "    #     fake_list.append(i)\n",
    "    # return fake_list"
   ]
  },
  {
   "cell_type": "code",
   "execution_count": 158,
   "metadata": {},
   "outputs": [
    {
     "name": "stdout",
     "output_type": "stream",
     "text": [
      "31\n"
     ]
    }
   ],
   "source": [
    "print(len([14, 13, 12, 11, 10, 9, 8, 7, 6, 5, 4, 3, 2, 1, 0, 15, 19, 20, 21, 22, 23, 24, 25, 26, 27, 28, 29, 30, 31, 32, 33]\n",
    "))"
   ]
  },
  {
   "cell_type": "markdown",
   "metadata": {},
   "source": [
    "## Make connectivity graph for mirror circuits"
   ]
  },
  {
   "cell_type": "code",
   "execution_count": 159,
   "metadata": {},
   "outputs": [],
   "source": [
    "def get_computer(n_qubits):\n",
    "    # Make connectivity graph \n",
    "    computer = nx.Graph()\n",
    "\n",
    "    qubits = [j for j in range(n_qubits)]\n",
    "\n",
    "    # Split qubits into 2-qubit pairs (assuming a chain connectivity).\n",
    "    rb_pattern = [[qa, qb] for qa, qb in zip(qubits[0:-1:2], qubits[1::2])]\n",
    "    if n_qubits % 2 == 1:\n",
    "        # For an odd number of qubits, append final individual qubit to the RB pattern.\n",
    "        rb_pattern.append([qubits[-1]])\n",
    "    # print(\"Qubit indeces:\", qubits)\n",
    "    # print(\"RB pattern:\", rb_pattern)\n",
    "\n",
    "    # Assume chain-like connectivity\n",
    "    computer.add_edges_from([(qa, qb) for qa, qb in zip(qubits[:-1], qubits[1:])])\n",
    "\n",
    "    # Add reversed edges to computer graph.\n",
    "    # This is important to represent CNOT gates with target and control reversed.\n",
    "    computer = nx.to_directed(computer)\n",
    "    return computer"
   ]
  },
  {
   "cell_type": "markdown",
   "metadata": {},
   "source": [
    "## Create circuit for testing\n",
    "Note that here we are only looking at circuit deth, and the only types of benchmarking circuits that scale eclusively with depth are the mirror and rb.\n",
    "Specify:\n",
    "1. Benchmarking circuit type\n",
    "2. Number of qubits\n",
    "3. Depth\n",
    "4. Seed"
   ]
  },
  {
   "cell_type": "code",
   "execution_count": 160,
   "metadata": {},
   "outputs": [],
   "source": [
    "def get_circuit(circuit_type:str, n_qubits:int, depth: int, seed: int) -> tuple[qiskit.QuantumCircuit, str]:\n",
    "    \"\"\"Create circuit.\"\"\"\n",
    "    \n",
    "    if circuit_type == \"rb\":\n",
    "        circuit = benchmarks.generate_rb_circuits(\n",
    "            n_qubits=2, \n",
    "            num_cliffords=depth, \n",
    "            seed=seed, \n",
    "            return_type=\"qiskit\"\n",
    "            )[0]\n",
    "        return circuit, \"00\"\n",
    "\n",
    "    elif circuit_type == \"mirror\":\n",
    "        # Make connectivity graph \n",
    "        computer = get_computer(n_qubits)\n",
    "        circuit, correct_bitstring = benchmarks.generate_mirror_circuit(\n",
    "                nlayers=depth,\n",
    "                two_qubit_gate_prob=1.0,\n",
    "                connectivity_graph=computer,\n",
    "                two_qubit_gate_name=\"CNOT\",\n",
    "                seed=seed,\n",
    "                return_type=\"qiskit\",\n",
    "            )\n",
    "        # Reversed because Qiskit is wrong endian.\n",
    "        return circuit, \"\".join(map(str, correct_bitstring[::-1]))\n",
    "    \n",
    "    elif circuit_type == \"long cnot\":\n",
    "        circuit = qiskit.QuantumCircuit(n_qubits)\n",
    "        circuit.x(0)\n",
    "        for qubit_i in range(0, n_qubits-1):\n",
    "            circuit.cx(qubit_i, qubit_i + 1)\n",
    "        correct_bitstring= \"1\"*(n_qubits - 1)\n",
    "        return circuit, correct_bitstring\n",
    "\n",
    "    else:\n",
    "        print(\"what\")\n",
    "        return\n"
   ]
  },
  {
   "cell_type": "markdown",
   "metadata": {},
   "source": [
    "## Count gates"
   ]
  },
  {
   "cell_type": "code",
   "execution_count": 161,
   "metadata": {},
   "outputs": [],
   "source": [
    "def get_num_cnot_count(circuit: qiskit.QuantumCircuit) -> int:\n",
    "    \"\"\"Determine number of cnot gates in a given `Circuit` object.\"\"\"\n",
    "    return circuit.count_ops().get(\"cx\")\n",
    "\n",
    "def get_avg_cnot_count(circuits: list[qiskit.QuantumCircuit]) -> float:\n",
    "    \"\"\"Determine average number of cnot gates present in list of `QuantumCircuit` objects.\"\"\"\n",
    "    return np.average([c.count_ops().get(\"cx\") for c in circuits])\n",
    "\n",
    "def get_oneq_count(circuit: qiskit.QuantumCircuit) -> int:\n",
    "    return len(circuit) - get_num_cnot_count(circuit)"
   ]
  },
  {
   "cell_type": "markdown",
   "metadata": {},
   "source": [
    "## Create executor"
   ]
  },
  {
   "cell_type": "code",
   "execution_count": 162,
   "metadata": {},
   "outputs": [],
   "source": [
    "def execute(\n",
    "    circuits: qiskit.QuantumCircuit | list[qiskit.QuantumCircuit],\n",
    "    backend,\n",
    "    shots: int,\n",
    "    correct_bitstring: str,\n",
    "    verbose: bool,\n",
    "    ) -> List[float]:\n",
    "    \"\"\"Executes the input circuit(s) and returns ⟨A⟩, where A = |correct_bitstring⟩⟨correct_bitstring| for each circuit.\"\"\"\n",
    "\n",
    "    if not isinstance(circuits, list):\n",
    "        circuits = [circuits]\n",
    "    if verbose:\n",
    "        # Calculate average number of CNOT gates per circuit.\n",
    "        print(f\"Executing {len(circuits)} circuit(s) on {backend}.\")\n",
    "        print(f\"Average cnot count in circuits: {get_avg_cnot_count(circuits)}\")\n",
    "\n",
    "    # Store all circuits to run in list to be returned.\n",
    "    to_run: list[qiskit.QuantumCircuit] = []\n",
    "\n",
    "    for circuit in circuits:\n",
    "        circuit_to_run = circuit.copy()\n",
    "        circuit_to_run.measure_all()\n",
    "        to_run.append(\n",
    "            qiskit.transpile(\n",
    "                circuit_to_run,\n",
    "                backend=backend,\n",
    "                initial_layout= get_phys_qubits(circuit.num_qubits),\n",
    "                optimization_level=0,  # Otherwise RB circuits are simplified to empty circuits.\n",
    "            )\n",
    "        )\n",
    "\n",
    "    if verbose:\n",
    "        # Calculate average number of CNOT gates per compiled circuit.\n",
    "        print(f\"Average cnot count in compiled circuits: {get_avg_cnot_count(to_run)}\")\n",
    "\n",
    "    # Run and get counts.\n",
    "    job = backend.run(\n",
    "        to_run,\n",
    "        # Reset qubits to ground state after each sample.\n",
    "        init_qubits=True,\n",
    "        shots=shots,\n",
    "    )\n",
    "    # IBMQ uses online queue for processing jobs.\n",
    "    # if verbose and not use_noisy_simulator:\n",
    "    #     time.sleep(3)\n",
    "    #     while not job.in_final_state():\n",
    "    #         print(f\"Queue position: {job.queue_position()}\")\n",
    "    #         time.sleep(verbose_update_time)\n",
    "    #     print()\n",
    "\n",
    "    # print(f\"Correct bitstring: {correct_bitstring}\")\n",
    "    if len(circuits) == 1:\n",
    "        return [job.result().get_counts().get(correct_bitstring, 0.0) / shots]\n",
    "    return [\n",
    "        count.get(correct_bitstring, 0.0) / shots for count in job.result().get_counts()\n",
    "    ]"
   ]
  },
  {
   "cell_type": "markdown",
   "metadata": {},
   "source": [
    "## Introduce error"
   ]
  },
  {
   "cell_type": "code",
   "execution_count": 163,
   "metadata": {},
   "outputs": [],
   "source": [
    "def get_cnot_error(edge: tuple[int, int] = None) -> float:\n",
    "    cnot_error_prob = 0.01\n",
    "    # cnot_error_prob = noisy_backend.properties().gate_error(\"cx\", qubits=edge)\n",
    "    # print(f\"cnot_error_prob for edge {edge}: {cnot_error_prob}\")\n",
    "    return cnot_error_prob\n",
    "\n",
    "def get_cnot_representation(edge: tuple[int, int]) -> pec.OperationRepresentation:\n",
    "    cnot_circuit = cirq.Circuit(\n",
    "        cirq.CNOT(\n",
    "            cirq.NamedQubit(f\"q_{str(edge[0])}\"),\n",
    "            cirq.NamedQubit(f\"q_{str(edge[1])}\"),\n",
    "        )\n",
    "    )\n",
    "    rep_exact_prob = 1 - np.sqrt(1 - get_cnot_error(edge))\n",
    "    return pec.represent_operation_with_local_depolarizing_noise(\n",
    "        cnot_circuit,\n",
    "        noise_level=rep_exact_prob,\n",
    "    )\n",
    "\n",
    "def get_representations(computer: nx.Graph) -> list[pec.OperationRepresentation]:\n",
    "    return [get_cnot_representation(edge) for edge in computer.edges]"
   ]
  },
  {
   "cell_type": "markdown",
   "metadata": {},
   "source": [
    "## Run experiment\n",
    "Specify:\n",
    "1. Depth\n",
    "2. Trials\n",
    "3. Number of qubits (for computer)\n",
    "4. Shots\n",
    "5. Number of samples"
   ]
  },
  {
   "cell_type": "code",
   "execution_count": 164,
   "metadata": {},
   "outputs": [],
   "source": [
    "def run_experiment(depth, trials, n_qubits, shots, num_samples, circuit_type):\n",
    "    computer = get_computer(n_qubits)\n",
    "\n",
    "    true_values_at_depth = []\n",
    "    noisy_values_at_depth = []\n",
    "    pec_values_at_depth = []\n",
    "    cnot_counts_at_depth = []\n",
    "    oneq_counts_at_depth = []\n",
    "\n",
    "    for trial in range(trials):\n",
    "        # Local seed is calculated in this way to ensure that we don't get repeat values in loop.\n",
    "        local_seed = int(10**6 * depth + 10**3 * seed + trial)\n",
    "\n",
    "        circuit, correct_bitstring = get_circuit(circuit_type, n_qubits, depth, local_seed)\n",
    "        (true_value,) = execute(\n",
    "            circuit,\n",
    "            ideal_backend,\n",
    "            shots,\n",
    "            correct_bitstring,\n",
    "            verbose=verbose,\n",
    "        )\n",
    "        true_values_at_depth.append(true_value)\n",
    "\n",
    "        (noisy_value,) = execute(\n",
    "            circuit,\n",
    "            noisy_backend,\n",
    "            shots,\n",
    "            correct_bitstring,\n",
    "            verbose=verbose\n",
    "        )\n",
    "        noisy_values_at_depth.append(noisy_value)\n",
    "\n",
    "        pec_executor = functools.partial(\n",
    "            execute,\n",
    "            backend=noisy_backend,\n",
    "            shots=shots // num_samples,\n",
    "            correct_bitstring=correct_bitstring,\n",
    "            verbose=verbose,\n",
    "        )\n",
    "\n",
    "        pec_value = pec.execute_with_pec(\n",
    "            circuit,\n",
    "            pec_executor,\n",
    "            representations=get_representations(computer),\n",
    "            num_samples=num_samples,\n",
    "            random_state=local_seed,\n",
    "        )\n",
    "        \n",
    "        pec_values_at_depth.append(pec_value)\n",
    "\n",
    "        cnot_counts_at_depth.append(get_num_cnot_count(circuit))\n",
    "        oneq_counts_at_depth.append(get_oneq_count(circuit))\n",
    "\n",
    "    return true_values_at_depth, noisy_values_at_depth, pec_values_at_depth, cnot_counts_at_depth, oneq_counts_at_depth"
   ]
  },
  {
   "cell_type": "markdown",
   "metadata": {},
   "source": [
    "## Is PEC still useful?\n",
    "\"Usefulness\" can be defined using a lot of different parameters. Right now, we define a useful run as one where PEC outperforms the raw data in terms of closeness to the ideal value."
   ]
  },
  {
   "cell_type": "code",
   "execution_count": 165,
   "metadata": {},
   "outputs": [],
   "source": [
    "def still_useful(avg_true_value, avg_noisy_value, avg_pec_value, std_noisy_value, std_pec_value):\n",
    "\n",
    "    pec_diff = np.abs(avg_true_value - avg_pec_value)\n",
    "    noisy_diff = np.abs(avg_true_value - avg_noisy_value)\n",
    "\n",
    "    error_max = avg_pec_value + std_pec_value\n",
    "    error_min = avg_pec_value - std_pec_value\n",
    "\n",
    "    # If PEC worse than raw \n",
    "    if (pec_diff > noisy_diff):\n",
    "        reason = \"Worse than raw\"\n",
    "        return False, reason\n",
    "    \n",
    "    # # If PEC worse than raw AND true value is not within PEC error bar\n",
    "    # if (pec_diff > noisy_diff) and ((avg_true_value < error_min) or (avg_true_value > error_max)):\n",
    "    #     reason = \"Worse than raw and not within error\"\n",
    "    #     return False, reason\n",
    "\n",
    "    # # If true value is not within PEC error bar\n",
    "    # elif (avg_true_value < error_min) or (avg_true_value > error_max):\n",
    "    #     reason = \"Not within error bar\"\n",
    "    #     return False, reason\n",
    "\n",
    "    # # If the std of PEC is too big?\n",
    "    # elif std_pec_value >= 4*np.abs(avg_true_value - avg_pec_value):\n",
    "    #     reason = \"Std over threshold: \" + str(4*np.abs(avg_true_value - avg_pec_value))\n",
    "    #     return False, reason\n",
    "    \n",
    "    # # If the difference passes a certain fixed threshold?\n",
    "    # elif pec_diff >= 2*avg_true_value:\n",
    "    #     reason = \"Avg over threshold: \" + str(2*avg_true_value)\n",
    "    #     return False, reason\n",
    "    \n",
    "    else:\n",
    "        reason = \"none\"\n",
    "        return True, reason"
   ]
  },
  {
   "cell_type": "markdown",
   "metadata": {},
   "source": [
    "## Testing depth limit\n",
    "Note that this is only valid for mirror or rb circuits"
   ]
  },
  {
   "cell_type": "code",
   "execution_count": 166,
   "metadata": {},
   "outputs": [],
   "source": [
    "# BE VERY CAREFUL WITH THIS\n",
    "# Just to remove the UserWarning for representations\n",
    "\n",
    "import warnings\n",
    "warnings.filterwarnings(\"ignore\")"
   ]
  },
  {
   "cell_type": "code",
   "execution_count": 167,
   "metadata": {},
   "outputs": [],
   "source": [
    "\n",
    "def test_depths(depths, trials, n_qubits, shots, num_samples, circuit_type):\n",
    "    cnot_counts = []\n",
    "    oneq_counts = []\n",
    "\n",
    "    true_values=[]\n",
    "    noisy_values = []\n",
    "    pec_values = []\n",
    "\n",
    "    avg_true_values=[]\n",
    "    avg_noisy_values = []\n",
    "    avg_pec_values = []\n",
    "\n",
    "    std_true_values = []\n",
    "    std_noisy_values = []\n",
    "    std_pec_values = []\n",
    "\n",
    "    still_useful_counter = 0\n",
    "\n",
    "    for depth_i in range(0,len(depths)):\n",
    "\n",
    "        print(\"Status: On depth\", depths[depth_i], \"with backend\", noisy_backend, end=\"\\n\\n\")\n",
    "\n",
    "        true_values_at_depth, noisy_values_at_depth, pec_values_at_depth, cnot_counts_at_depth, oneq_counts_at_depth = run_experiment(depths[depth_i], trials, n_qubits, shots, num_samples, circuit_type)\n",
    "        \n",
    "        # Store values\n",
    "        true_values.append(true_values_at_depth)\n",
    "        noisy_values.append(noisy_values_at_depth)\n",
    "        pec_values.append(pec_values_at_depth)\n",
    "\n",
    "        # Store averages\n",
    "        avg_true_values.append(np.average(true_values_at_depth))\n",
    "        avg_noisy_values.append(np.average(noisy_values_at_depth))\n",
    "        avg_pec_values.append(np.average(pec_values_at_depth))\n",
    "        \n",
    "        # Store standard deviations\n",
    "        std_true_values.append(np.std(true_values_at_depth, ddof=1))\n",
    "        std_noisy_values.append(np.std(noisy_values_at_depth, ddof=1))\n",
    "        std_pec_values.append(np.std(pec_values_at_depth, ddof=1))\n",
    "\n",
    "        # Store gate counts\n",
    "        cnot_counts.append(cnot_counts_at_depth)\n",
    "        oneq_counts.append(oneq_counts_at_depth)\n",
    "\n",
    "        #Check usefulness\n",
    "        still_useful_at_depth, reason = still_useful(avg_true_values[depth_i], \n",
    "                        avg_noisy_values[depth_i], \n",
    "                        avg_pec_values[depth_i], \n",
    "                        std_noisy_values[depth_i], \n",
    "                        std_pec_values[depth_i])\n",
    "        \n",
    "        # Count how many times in a row we're not useful, once we get to five (a trend, rather than a fluke bad spot) end it\n",
    "        if still_useful_at_depth==True:\n",
    "            print(\"Reset the count\")\n",
    "            still_useful_counter = 0\n",
    "        elif still_useful_at_depth==False:\n",
    "            print(\"Add count:\", reason)\n",
    "            still_useful_counter += 1 \n",
    "        if still_useful_at_depth==False and still_useful_counter>=5:\n",
    "            print(\"PEC is no longer useful after depth = \", depths[depth_i-1])\n",
    "            break\n",
    "    return cnot_counts, oneq_counts, true_values, noisy_values, pec_values, avg_true_values, avg_noisy_values, avg_pec_values, std_true_values, std_noisy_values, std_pec_values"
   ]
  },
  {
   "cell_type": "markdown",
   "metadata": {},
   "source": [
    "Call test:"
   ]
  },
  {
   "cell_type": "code",
   "execution_count": null,
   "metadata": {},
   "outputs": [
    {
     "name": "stdout",
     "output_type": "stream",
     "text": [
      "Status: On depth 1 with backend <qiskit.providers.fake_provider.generic_backend_v2.GenericBackendV2 object at 0x0000016A77BE12B0>\n",
      "\n"
     ]
    },
    {
     "ename": "TranspilerError",
     "evalue": "'HighLevelSynthesis is unable to synthesize \"measure\"'",
     "output_type": "error",
     "traceback": [
      "\u001b[1;31m---------------------------------------------------------------------------\u001b[0m",
      "\u001b[1;31mTranspilerError\u001b[0m                           Traceback (most recent call last)",
      "Cell \u001b[1;32mIn[168], line 10\u001b[0m\n\u001b[0;32m      7\u001b[0m circuit_type\u001b[38;5;241m=\u001b[39m \u001b[38;5;124m\"\u001b[39m\u001b[38;5;124mmirror\u001b[39m\u001b[38;5;124m\"\u001b[39m \u001b[38;5;66;03m# \"rb\"\u001b[39;00m\n\u001b[0;32m      8\u001b[0m save_data \u001b[38;5;241m=\u001b[39m \u001b[38;5;28;01mTrue\u001b[39;00m\n\u001b[1;32m---> 10\u001b[0m cnot_counts, oneq_counts, true_values, noisy_values, pec_values, avg_true_values, avg_noisy_values, avg_pec_values, std_true_values, std_noisy_values, std_pec_values \u001b[38;5;241m=\u001b[39m test_depths(depths, trials, n_qubits, shots, num_samples, circuit_type)\n",
      "Cell \u001b[1;32mIn[167], line 23\u001b[0m, in \u001b[0;36mtest_depths\u001b[1;34m(depths, trials, n_qubits, shots, num_samples, circuit_type)\u001b[0m\n\u001b[0;32m     19\u001b[0m \u001b[38;5;28;01mfor\u001b[39;00m depth_i \u001b[38;5;129;01min\u001b[39;00m \u001b[38;5;28mrange\u001b[39m(\u001b[38;5;241m0\u001b[39m,\u001b[38;5;28mlen\u001b[39m(depths)):\n\u001b[0;32m     21\u001b[0m     \u001b[38;5;28mprint\u001b[39m(\u001b[38;5;124m\"\u001b[39m\u001b[38;5;124mStatus: On depth\u001b[39m\u001b[38;5;124m\"\u001b[39m, depths[depth_i], \u001b[38;5;124m\"\u001b[39m\u001b[38;5;124mwith backend\u001b[39m\u001b[38;5;124m\"\u001b[39m, noisy_backend, end\u001b[38;5;241m=\u001b[39m\u001b[38;5;124m\"\u001b[39m\u001b[38;5;130;01m\\n\u001b[39;00m\u001b[38;5;130;01m\\n\u001b[39;00m\u001b[38;5;124m\"\u001b[39m)\n\u001b[1;32m---> 23\u001b[0m     true_values_at_depth, noisy_values_at_depth, pec_values_at_depth, cnot_counts_at_depth, oneq_counts_at_depth \u001b[38;5;241m=\u001b[39m run_experiment(depths[depth_i], trials, n_qubits, shots, num_samples, circuit_type)\n\u001b[0;32m     25\u001b[0m     \u001b[38;5;66;03m# Store values\u001b[39;00m\n\u001b[0;32m     26\u001b[0m     true_values\u001b[38;5;241m.\u001b[39mappend(true_values_at_depth)\n",
      "Cell \u001b[1;32mIn[164], line 15\u001b[0m, in \u001b[0;36mrun_experiment\u001b[1;34m(depth, trials, n_qubits, shots, num_samples, circuit_type)\u001b[0m\n\u001b[0;32m     12\u001b[0m local_seed \u001b[38;5;241m=\u001b[39m \u001b[38;5;28mint\u001b[39m(\u001b[38;5;241m10\u001b[39m\u001b[38;5;241m*\u001b[39m\u001b[38;5;241m*\u001b[39m\u001b[38;5;241m6\u001b[39m \u001b[38;5;241m*\u001b[39m depth \u001b[38;5;241m+\u001b[39m \u001b[38;5;241m10\u001b[39m\u001b[38;5;241m*\u001b[39m\u001b[38;5;241m*\u001b[39m\u001b[38;5;241m3\u001b[39m \u001b[38;5;241m*\u001b[39m seed \u001b[38;5;241m+\u001b[39m trial)\n\u001b[0;32m     14\u001b[0m circuit, correct_bitstring \u001b[38;5;241m=\u001b[39m get_circuit(circuit_type, n_qubits, depth, local_seed)\n\u001b[1;32m---> 15\u001b[0m (true_value,) \u001b[38;5;241m=\u001b[39m execute(\n\u001b[0;32m     16\u001b[0m     circuit,\n\u001b[0;32m     17\u001b[0m     ideal_backend,\n\u001b[0;32m     18\u001b[0m     shots,\n\u001b[0;32m     19\u001b[0m     correct_bitstring,\n\u001b[0;32m     20\u001b[0m     verbose\u001b[38;5;241m=\u001b[39mverbose,\n\u001b[0;32m     21\u001b[0m )\n\u001b[0;32m     22\u001b[0m true_values_at_depth\u001b[38;5;241m.\u001b[39mappend(true_value)\n\u001b[0;32m     24\u001b[0m (noisy_value,) \u001b[38;5;241m=\u001b[39m execute(\n\u001b[0;32m     25\u001b[0m     circuit,\n\u001b[0;32m     26\u001b[0m     noisy_backend,\n\u001b[1;32m   (...)\u001b[0m\n\u001b[0;32m     29\u001b[0m     verbose\u001b[38;5;241m=\u001b[39mverbose\n\u001b[0;32m     30\u001b[0m )\n",
      "Cell \u001b[1;32mIn[162], line 24\u001b[0m, in \u001b[0;36mexecute\u001b[1;34m(circuits, backend, shots, correct_bitstring, verbose)\u001b[0m\n\u001b[0;32m     21\u001b[0m     circuit_to_run \u001b[38;5;241m=\u001b[39m circuit\u001b[38;5;241m.\u001b[39mcopy()\n\u001b[0;32m     22\u001b[0m     circuit_to_run\u001b[38;5;241m.\u001b[39mmeasure_all()\n\u001b[0;32m     23\u001b[0m     to_run\u001b[38;5;241m.\u001b[39mappend(\n\u001b[1;32m---> 24\u001b[0m         qiskit\u001b[38;5;241m.\u001b[39mtranspile(\n\u001b[0;32m     25\u001b[0m             circuit_to_run,\n\u001b[0;32m     26\u001b[0m             backend\u001b[38;5;241m=\u001b[39mbackend,\n\u001b[0;32m     27\u001b[0m             initial_layout\u001b[38;5;241m=\u001b[39m get_phys_qubits(circuit\u001b[38;5;241m.\u001b[39mnum_qubits),\n\u001b[0;32m     28\u001b[0m             optimization_level\u001b[38;5;241m=\u001b[39m\u001b[38;5;241m0\u001b[39m,  \u001b[38;5;66;03m# Otherwise RB circuits are simplified to empty circuits.\u001b[39;00m\n\u001b[0;32m     29\u001b[0m         )\n\u001b[0;32m     30\u001b[0m     )\n\u001b[0;32m     32\u001b[0m \u001b[38;5;28;01mif\u001b[39;00m verbose:\n\u001b[0;32m     33\u001b[0m     \u001b[38;5;66;03m# Calculate average number of CNOT gates per compiled circuit.\u001b[39;00m\n\u001b[0;32m     34\u001b[0m     \u001b[38;5;28mprint\u001b[39m(\u001b[38;5;124mf\u001b[39m\u001b[38;5;124m\"\u001b[39m\u001b[38;5;124mAverage cnot count in compiled circuits: \u001b[39m\u001b[38;5;132;01m{\u001b[39;00mget_avg_cnot_count(to_run)\u001b[38;5;132;01m}\u001b[39;00m\u001b[38;5;124m\"\u001b[39m)\n",
      "File \u001b[1;32m~\\AppData\\Roaming\\Python\\Python312\\site-packages\\qiskit\\compiler\\transpiler.py:291\u001b[0m, in \u001b[0;36mtranspile\u001b[1;34m(circuits, backend, basis_gates, coupling_map, initial_layout, layout_method, routing_method, translation_method, scheduling_method, dt, approximation_degree, seed_transpiler, optimization_level, callback, output_name, unitary_synthesis_method, unitary_synthesis_plugin_config, target, hls_config, init_method, optimization_method, ignore_backend_supplied_default_methods, num_processes, qubits_initially_zero)\u001b[0m\n\u001b[0;32m    266\u001b[0m \u001b[38;5;66;03m# Edge cases require using the old model (loose constraints) instead of building a target,\u001b[39;00m\n\u001b[0;32m    267\u001b[0m \u001b[38;5;66;03m# but we don't populate the passmanager config with loose constraints unless it's one of\u001b[39;00m\n\u001b[0;32m    268\u001b[0m \u001b[38;5;66;03m# the known edge cases to control the execution path.\u001b[39;00m\n\u001b[0;32m    269\u001b[0m pm \u001b[38;5;241m=\u001b[39m generate_preset_pass_manager(\n\u001b[0;32m    270\u001b[0m     optimization_level,\n\u001b[0;32m    271\u001b[0m     target\u001b[38;5;241m=\u001b[39mtarget,\n\u001b[1;32m   (...)\u001b[0m\n\u001b[0;32m    288\u001b[0m     qubits_initially_zero\u001b[38;5;241m=\u001b[39mqubits_initially_zero,\n\u001b[0;32m    289\u001b[0m )\n\u001b[1;32m--> 291\u001b[0m out_circuits \u001b[38;5;241m=\u001b[39m pm\u001b[38;5;241m.\u001b[39mrun(circuits, callback\u001b[38;5;241m=\u001b[39mcallback, num_processes\u001b[38;5;241m=\u001b[39mnum_processes)\n\u001b[0;32m    293\u001b[0m \u001b[38;5;28;01mfor\u001b[39;00m name, circ \u001b[38;5;129;01min\u001b[39;00m \u001b[38;5;28mzip\u001b[39m(output_name, out_circuits):\n\u001b[0;32m    294\u001b[0m     circ\u001b[38;5;241m.\u001b[39mname \u001b[38;5;241m=\u001b[39m name\n",
      "File \u001b[1;32m~\\AppData\\Roaming\\Python\\Python312\\site-packages\\qiskit\\transpiler\\passmanager.py:451\u001b[0m, in \u001b[0;36mStagedPassManager.run\u001b[1;34m(self, circuits, output_name, callback, num_processes, property_set)\u001b[0m\n\u001b[0;32m    441\u001b[0m \u001b[38;5;28;01mdef\u001b[39;00m \u001b[38;5;21mrun\u001b[39m(\n\u001b[0;32m    442\u001b[0m     \u001b[38;5;28mself\u001b[39m,\n\u001b[0;32m    443\u001b[0m     circuits: _CircuitsT,\n\u001b[1;32m   (...)\u001b[0m\n\u001b[0;32m    448\u001b[0m     property_set: \u001b[38;5;28mdict\u001b[39m[\u001b[38;5;28mstr\u001b[39m, \u001b[38;5;28mobject\u001b[39m] \u001b[38;5;241m|\u001b[39m \u001b[38;5;28;01mNone\u001b[39;00m \u001b[38;5;241m=\u001b[39m \u001b[38;5;28;01mNone\u001b[39;00m,\n\u001b[0;32m    449\u001b[0m ) \u001b[38;5;241m-\u001b[39m\u001b[38;5;241m>\u001b[39m _CircuitsT:\n\u001b[0;32m    450\u001b[0m     \u001b[38;5;28mself\u001b[39m\u001b[38;5;241m.\u001b[39m_update_passmanager()\n\u001b[1;32m--> 451\u001b[0m     \u001b[38;5;28;01mreturn\u001b[39;00m \u001b[38;5;28msuper\u001b[39m()\u001b[38;5;241m.\u001b[39mrun(circuits, output_name, callback, num_processes\u001b[38;5;241m=\u001b[39mnum_processes)\n",
      "File \u001b[1;32m~\\AppData\\Roaming\\Python\\Python312\\site-packages\\qiskit\\transpiler\\passmanager.py:474\u001b[0m, in \u001b[0;36m_replace_error.<locals>.wrapper\u001b[1;34m(*meth_args, **meth_kwargs)\u001b[0m\n\u001b[0;32m    471\u001b[0m \u001b[38;5;129m@wraps\u001b[39m(meth)\n\u001b[0;32m    472\u001b[0m \u001b[38;5;28;01mdef\u001b[39;00m \u001b[38;5;21mwrapper\u001b[39m(\u001b[38;5;241m*\u001b[39mmeth_args, \u001b[38;5;241m*\u001b[39m\u001b[38;5;241m*\u001b[39mmeth_kwargs):\n\u001b[0;32m    473\u001b[0m     \u001b[38;5;28;01mtry\u001b[39;00m:\n\u001b[1;32m--> 474\u001b[0m         \u001b[38;5;28;01mreturn\u001b[39;00m meth(\u001b[38;5;241m*\u001b[39mmeth_args, \u001b[38;5;241m*\u001b[39m\u001b[38;5;241m*\u001b[39mmeth_kwargs)\n\u001b[0;32m    475\u001b[0m     \u001b[38;5;28;01mexcept\u001b[39;00m TranspilerError:\n\u001b[0;32m    476\u001b[0m         \u001b[38;5;66;03m# If it's already a `TranspilerError` subclass, don't erase the extra information.\u001b[39;00m\n\u001b[0;32m    477\u001b[0m         \u001b[38;5;28;01mraise\u001b[39;00m\n",
      "File \u001b[1;32m~\\AppData\\Roaming\\Python\\Python312\\site-packages\\qiskit\\transpiler\\passmanager.py:233\u001b[0m, in \u001b[0;36mPassManager.run\u001b[1;34m(self, circuits, output_name, callback, num_processes, property_set)\u001b[0m\n\u001b[0;32m    230\u001b[0m \u001b[38;5;28;01mif\u001b[39;00m callback \u001b[38;5;129;01mis\u001b[39;00m \u001b[38;5;129;01mnot\u001b[39;00m \u001b[38;5;28;01mNone\u001b[39;00m:\n\u001b[0;32m    231\u001b[0m     callback \u001b[38;5;241m=\u001b[39m _legacy_style_callback(callback)\n\u001b[1;32m--> 233\u001b[0m \u001b[38;5;28;01mreturn\u001b[39;00m \u001b[38;5;28msuper\u001b[39m()\u001b[38;5;241m.\u001b[39mrun(\n\u001b[0;32m    234\u001b[0m     in_programs\u001b[38;5;241m=\u001b[39mcircuits,\n\u001b[0;32m    235\u001b[0m     callback\u001b[38;5;241m=\u001b[39mcallback,\n\u001b[0;32m    236\u001b[0m     output_name\u001b[38;5;241m=\u001b[39moutput_name,\n\u001b[0;32m    237\u001b[0m     num_processes\u001b[38;5;241m=\u001b[39mnum_processes,\n\u001b[0;32m    238\u001b[0m     property_set\u001b[38;5;241m=\u001b[39mproperty_set,\n\u001b[0;32m    239\u001b[0m )\n",
      "File \u001b[1;32m~\\AppData\\Roaming\\Python\\Python312\\site-packages\\qiskit\\passmanager\\passmanager.py:238\u001b[0m, in \u001b[0;36mBasePassManager.run\u001b[1;34m(self, in_programs, callback, num_processes, property_set, **kwargs)\u001b[0m\n\u001b[0;32m    234\u001b[0m \u001b[38;5;66;03m# If we're not going to run in parallel, we want to avoid spending time `dill` serializing\u001b[39;00m\n\u001b[0;32m    235\u001b[0m \u001b[38;5;66;03m# ourselves, since that can be quite expensive.\u001b[39;00m\n\u001b[0;32m    236\u001b[0m \u001b[38;5;28;01mif\u001b[39;00m \u001b[38;5;28mlen\u001b[39m(in_programs) \u001b[38;5;241m==\u001b[39m \u001b[38;5;241m1\u001b[39m \u001b[38;5;129;01mor\u001b[39;00m \u001b[38;5;129;01mnot\u001b[39;00m should_run_in_parallel(num_processes):\n\u001b[0;32m    237\u001b[0m     out \u001b[38;5;241m=\u001b[39m [\n\u001b[1;32m--> 238\u001b[0m         _run_workflow(\n\u001b[0;32m    239\u001b[0m             program\u001b[38;5;241m=\u001b[39mprogram,\n\u001b[0;32m    240\u001b[0m             pass_manager\u001b[38;5;241m=\u001b[39m\u001b[38;5;28mself\u001b[39m,\n\u001b[0;32m    241\u001b[0m             callback\u001b[38;5;241m=\u001b[39mcallback,\n\u001b[0;32m    242\u001b[0m             initial_property_set\u001b[38;5;241m=\u001b[39mproperty_set,\n\u001b[0;32m    243\u001b[0m             \u001b[38;5;241m*\u001b[39m\u001b[38;5;241m*\u001b[39mkwargs,\n\u001b[0;32m    244\u001b[0m         )\n\u001b[0;32m    245\u001b[0m         \u001b[38;5;28;01mfor\u001b[39;00m program \u001b[38;5;129;01min\u001b[39;00m in_programs\n\u001b[0;32m    246\u001b[0m     ]\n\u001b[0;32m    247\u001b[0m     \u001b[38;5;28;01mif\u001b[39;00m \u001b[38;5;28mlen\u001b[39m(in_programs) \u001b[38;5;241m==\u001b[39m \u001b[38;5;241m1\u001b[39m \u001b[38;5;129;01mand\u001b[39;00m \u001b[38;5;129;01mnot\u001b[39;00m is_list:\n\u001b[0;32m    248\u001b[0m         \u001b[38;5;28;01mreturn\u001b[39;00m out[\u001b[38;5;241m0\u001b[39m]\n",
      "File \u001b[1;32m~\\AppData\\Roaming\\Python\\Python312\\site-packages\\qiskit\\passmanager\\passmanager.py:312\u001b[0m, in \u001b[0;36m_run_workflow\u001b[1;34m(program, pass_manager, initial_property_set, **kwargs)\u001b[0m\n\u001b[0;32m    305\u001b[0m passmanager_ir \u001b[38;5;241m=\u001b[39m pass_manager\u001b[38;5;241m.\u001b[39m_passmanager_frontend(\n\u001b[0;32m    306\u001b[0m     input_program\u001b[38;5;241m=\u001b[39mprogram,\n\u001b[0;32m    307\u001b[0m     \u001b[38;5;241m*\u001b[39m\u001b[38;5;241m*\u001b[39mkwargs,\n\u001b[0;32m    308\u001b[0m )\n\u001b[0;32m    309\u001b[0m property_set \u001b[38;5;241m=\u001b[39m (\n\u001b[0;32m    310\u001b[0m     PropertySet() \u001b[38;5;28;01mif\u001b[39;00m initial_property_set \u001b[38;5;129;01mis\u001b[39;00m \u001b[38;5;28;01mNone\u001b[39;00m \u001b[38;5;28;01melse\u001b[39;00m PropertySet(initial_property_set)\n\u001b[0;32m    311\u001b[0m )\n\u001b[1;32m--> 312\u001b[0m passmanager_ir, final_state \u001b[38;5;241m=\u001b[39m flow_controller\u001b[38;5;241m.\u001b[39mexecute(\n\u001b[0;32m    313\u001b[0m     passmanager_ir\u001b[38;5;241m=\u001b[39mpassmanager_ir,\n\u001b[0;32m    314\u001b[0m     state\u001b[38;5;241m=\u001b[39mPassManagerState(workflow_status\u001b[38;5;241m=\u001b[39minitial_status, property_set\u001b[38;5;241m=\u001b[39mproperty_set),\n\u001b[0;32m    315\u001b[0m     callback\u001b[38;5;241m=\u001b[39mkwargs\u001b[38;5;241m.\u001b[39mget(\u001b[38;5;124m\"\u001b[39m\u001b[38;5;124mcallback\u001b[39m\u001b[38;5;124m\"\u001b[39m, \u001b[38;5;28;01mNone\u001b[39;00m),\n\u001b[0;32m    316\u001b[0m )\n\u001b[0;32m    317\u001b[0m \u001b[38;5;66;03m# The `property_set` has historically been returned as a mutable attribute on `PassManager`\u001b[39;00m\n\u001b[0;32m    318\u001b[0m \u001b[38;5;66;03m# This makes us non-reentrant (though `PassManager` would be dependent on its internal tasks to\u001b[39;00m\n\u001b[0;32m    319\u001b[0m \u001b[38;5;66;03m# be re-entrant if that was required), but is consistent with previous interfaces.  We're still\u001b[39;00m\n\u001b[0;32m    320\u001b[0m \u001b[38;5;66;03m# safe to be called in a serial loop, again assuming internal tasks are re-runnable.  The\u001b[39;00m\n\u001b[0;32m    321\u001b[0m \u001b[38;5;66;03m# conversion to the backend language is also allowed to use the property set, so it must be set\u001b[39;00m\n\u001b[0;32m    322\u001b[0m \u001b[38;5;66;03m# before calling it.\u001b[39;00m\n\u001b[0;32m    323\u001b[0m pass_manager\u001b[38;5;241m.\u001b[39mproperty_set \u001b[38;5;241m=\u001b[39m final_state\u001b[38;5;241m.\u001b[39mproperty_set\n",
      "File \u001b[1;32m~\\AppData\\Roaming\\Python\\Python312\\site-packages\\qiskit\\passmanager\\base_tasks.py:218\u001b[0m, in \u001b[0;36mBaseController.execute\u001b[1;34m(self, passmanager_ir, state, callback)\u001b[0m\n\u001b[0;32m    216\u001b[0m     \u001b[38;5;28;01mreturn\u001b[39;00m passmanager_ir, state\n\u001b[0;32m    217\u001b[0m \u001b[38;5;28;01mwhile\u001b[39;00m \u001b[38;5;28;01mTrue\u001b[39;00m:\n\u001b[1;32m--> 218\u001b[0m     passmanager_ir, state \u001b[38;5;241m=\u001b[39m next_task\u001b[38;5;241m.\u001b[39mexecute(\n\u001b[0;32m    219\u001b[0m         passmanager_ir\u001b[38;5;241m=\u001b[39mpassmanager_ir,\n\u001b[0;32m    220\u001b[0m         state\u001b[38;5;241m=\u001b[39mstate,\n\u001b[0;32m    221\u001b[0m         callback\u001b[38;5;241m=\u001b[39mcallback,\n\u001b[0;32m    222\u001b[0m     )\n\u001b[0;32m    223\u001b[0m     \u001b[38;5;28;01mtry\u001b[39;00m:\n\u001b[0;32m    224\u001b[0m         \u001b[38;5;66;03m# Sending the object through the generator implies the custom controllers\u001b[39;00m\n\u001b[0;32m    225\u001b[0m         \u001b[38;5;66;03m# can always rely on the latest data to choose the next task to run.\u001b[39;00m\n\u001b[0;32m    226\u001b[0m         next_task \u001b[38;5;241m=\u001b[39m task_generator\u001b[38;5;241m.\u001b[39msend(state)\n",
      "File \u001b[1;32m~\\AppData\\Roaming\\Python\\Python312\\site-packages\\qiskit\\transpiler\\basepasses.py:167\u001b[0m, in \u001b[0;36mTransformationPass.execute\u001b[1;34m(self, passmanager_ir, state, callback)\u001b[0m\n\u001b[0;32m    161\u001b[0m \u001b[38;5;28;01mdef\u001b[39;00m \u001b[38;5;21mexecute\u001b[39m(\n\u001b[0;32m    162\u001b[0m     \u001b[38;5;28mself\u001b[39m,\n\u001b[0;32m    163\u001b[0m     passmanager_ir: PassManagerIR,\n\u001b[0;32m    164\u001b[0m     state: PassManagerState,\n\u001b[0;32m    165\u001b[0m     callback: Callable \u001b[38;5;241m=\u001b[39m \u001b[38;5;28;01mNone\u001b[39;00m,\n\u001b[0;32m    166\u001b[0m ) \u001b[38;5;241m-\u001b[39m\u001b[38;5;241m>\u001b[39m \u001b[38;5;28mtuple\u001b[39m[PassManagerIR, PassManagerState]:\n\u001b[1;32m--> 167\u001b[0m     new_dag, state \u001b[38;5;241m=\u001b[39m \u001b[38;5;28msuper\u001b[39m()\u001b[38;5;241m.\u001b[39mexecute(\n\u001b[0;32m    168\u001b[0m         passmanager_ir\u001b[38;5;241m=\u001b[39mpassmanager_ir,\n\u001b[0;32m    169\u001b[0m         state\u001b[38;5;241m=\u001b[39mstate,\n\u001b[0;32m    170\u001b[0m         callback\u001b[38;5;241m=\u001b[39mcallback,\n\u001b[0;32m    171\u001b[0m     )\n\u001b[0;32m    173\u001b[0m     \u001b[38;5;28;01mif\u001b[39;00m state\u001b[38;5;241m.\u001b[39mworkflow_status\u001b[38;5;241m.\u001b[39mprevious_run \u001b[38;5;241m==\u001b[39m RunState\u001b[38;5;241m.\u001b[39mSUCCESS:\n\u001b[0;32m    174\u001b[0m         \u001b[38;5;28;01mif\u001b[39;00m \u001b[38;5;129;01mnot\u001b[39;00m \u001b[38;5;28misinstance\u001b[39m(new_dag, DAGCircuit):\n",
      "File \u001b[1;32m~\\AppData\\Roaming\\Python\\Python312\\site-packages\\qiskit\\passmanager\\base_tasks.py:98\u001b[0m, in \u001b[0;36mGenericPass.execute\u001b[1;34m(self, passmanager_ir, state, callback)\u001b[0m\n\u001b[0;32m     96\u001b[0m \u001b[38;5;28;01mtry\u001b[39;00m:\n\u001b[0;32m     97\u001b[0m     \u001b[38;5;28;01mif\u001b[39;00m \u001b[38;5;28mself\u001b[39m \u001b[38;5;129;01mnot\u001b[39;00m \u001b[38;5;129;01min\u001b[39;00m state\u001b[38;5;241m.\u001b[39mworkflow_status\u001b[38;5;241m.\u001b[39mcompleted_passes:\n\u001b[1;32m---> 98\u001b[0m         ret \u001b[38;5;241m=\u001b[39m \u001b[38;5;28mself\u001b[39m\u001b[38;5;241m.\u001b[39mrun(passmanager_ir)\n\u001b[0;32m     99\u001b[0m         run_state \u001b[38;5;241m=\u001b[39m RunState\u001b[38;5;241m.\u001b[39mSUCCESS\n\u001b[0;32m    100\u001b[0m     \u001b[38;5;28;01melse\u001b[39;00m:\n",
      "File \u001b[1;32m~\\AppData\\Roaming\\Python\\Python312\\site-packages\\qiskit\\transpiler\\passes\\synthesis\\high_level_synthesis.py:277\u001b[0m, in \u001b[0;36mHighLevelSynthesis.run\u001b[1;34m(self, dag)\u001b[0m\n\u001b[0;32m    264\u001b[0m \u001b[38;5;28;01mdef\u001b[39;00m \u001b[38;5;21mrun\u001b[39m(\u001b[38;5;28mself\u001b[39m, dag: DAGCircuit) \u001b[38;5;241m-\u001b[39m\u001b[38;5;241m>\u001b[39m DAGCircuit:\n\u001b[0;32m    265\u001b[0m \u001b[38;5;250m    \u001b[39m\u001b[38;5;124;03m\"\"\"Run the HighLevelSynthesis pass on `dag`.\u001b[39;00m\n\u001b[0;32m    266\u001b[0m \n\u001b[0;32m    267\u001b[0m \u001b[38;5;124;03m    Args:\u001b[39;00m\n\u001b[1;32m   (...)\u001b[0m\n\u001b[0;32m    275\u001b[0m \u001b[38;5;124;03m        (for instance, when the specified synthesis method is not available).\u001b[39;00m\n\u001b[0;32m    276\u001b[0m \u001b[38;5;124;03m    \"\"\"\u001b[39;00m\n\u001b[1;32m--> 277\u001b[0m     res \u001b[38;5;241m=\u001b[39m run_on_dag(dag, \u001b[38;5;28mself\u001b[39m\u001b[38;5;241m.\u001b[39mdata, \u001b[38;5;28mself\u001b[39m\u001b[38;5;241m.\u001b[39mqubits_initially_zero)\n\u001b[0;32m    278\u001b[0m     \u001b[38;5;28;01mreturn\u001b[39;00m res \u001b[38;5;28;01mif\u001b[39;00m res \u001b[38;5;129;01mis\u001b[39;00m \u001b[38;5;129;01mnot\u001b[39;00m \u001b[38;5;28;01mNone\u001b[39;00m \u001b[38;5;28;01melse\u001b[39;00m dag\n",
      "\u001b[1;31mTranspilerError\u001b[0m: 'HighLevelSynthesis is unable to synthesize \"measure\"'"
     ]
    }
   ],
   "source": [
    "noisy_backend = GenericBackendV2(40)\n",
    "depths = np.arange(1,2)\n",
    "trials = 10\n",
    "n_qubits = 27\n",
    "shots = 10000\n",
    "num_samples = 100\n",
    "circuit_type= \"mirror\" # \"rb\"\n",
    "save_data = True\n",
    "\n",
    "cnot_counts, oneq_counts, true_values, noisy_values, pec_values, avg_true_values, avg_noisy_values, avg_pec_values, std_true_values, std_noisy_values, std_pec_values = test_depths(depths, trials, n_qubits, shots, num_samples, circuit_type)"
   ]
  },
  {
   "cell_type": "markdown",
   "metadata": {},
   "source": [
    "Plot EV vs depth for noisy and mitigated results"
   ]
  },
  {
   "cell_type": "code",
   "execution_count": null,
   "metadata": {},
   "outputs": [
    {
     "name": "stdout",
     "output_type": "stream",
     "text": [
      "Data saved succesfully in IBMQ_PEC_mirror_nqubits_27_shots_1_trials_1_Test_Depths\n"
     ]
    },
    {
     "data": {
      "image/png": "[encoded data removed]",
      "text/plain": [
       "<Figure size 900x500 with 1 Axes>"
      ]
     },
     "metadata": {},
     "output_type": "display_data"
    }
   ],
   "source": [
    "plt.figure(figsize=(9, 5))\n",
    "plot_depths = depths[:len(avg_true_values)]\n",
    "kwargs = {\"capsize\": 5, \"lw\": 2}\n",
    "\n",
    "plt.plot(plot_depths, avg_true_values, label=\"True\", lw=2)\n",
    "\n",
    "plt.errorbar(plot_depths, avg_noisy_values, yerr=std_noisy_values, label=\"Raw\", **kwargs, fmt='o', ms=2.5)\n",
    "plt.errorbar(plot_depths, avg_pec_values, yerr=std_pec_values, label=\"PEC\", **kwargs, fmt='o', ms=2.5)\n",
    "\n",
    "plt.xlabel(\"Depth \\n \\n Max depth reached when PEC is worse than raw value 5x in a row\")\n",
    "plt.ylabel(\"Expectation value\")\n",
    "plt.title(f\"\"\"IBMQ with {circuit_type} circuit using PEC on simulator using {n_qubits} qubits and {trials} trials per depth\"\"\")\n",
    "plt.legend() \n",
    "\n",
    "# save_data = True\n",
    "import datetime\n",
    "if save_data == True:\n",
    "\n",
    "    dir_name = f\"IBMQ_PEC_{circuit_type}_nqubits_{n_qubits}_shots_{shots}_trials_{trials}_Test_Depths\"\n",
    "    time_key = datetime.datetime.now().strftime(\"%Y-%m-%d_%H-%M-%S\")\n",
    "    try:\n",
    "        os.mkdir(dir_name)\n",
    "    except FileExistsError:\n",
    "        pass\n",
    "    plt.savefig(os.path.join(dir_name,f\"IBMQ_PEC_{circuit_type}_{n_qubits}\"+ time_key +\".pdf\"))\n",
    "    np.savetxt(os.path.join(dir_name, \"cnot_counts\" + time_key + \".txt\"), cnot_counts)\n",
    "    np.savetxt(os.path.join(dir_name, \"oneq_counts\" + time_key + \".txt\"), oneq_counts)\n",
    "    np.savetxt(os.path.join(dir_name, \"true_values\" + time_key + \".txt\"), true_values)\n",
    "    np.savetxt(os.path.join(dir_name, \"noisy_values\" + time_key + \".txt\"), noisy_values)\n",
    "    np.savetxt(os.path.join(dir_name, \"pec_values\" + time_key + \".txt\"), pec_values)\n",
    "\n",
    "    print(\"Data saved succesfully in\", dir_name)"
   ]
  },
  {
   "cell_type": "markdown",
   "metadata": {},
   "source": [
    "Plot EV errors for noisy and mitigated results"
   ]
  },
  {
   "cell_type": "code",
   "execution_count": null,
   "metadata": {},
   "outputs": [
    {
     "name": "stdout",
     "output_type": "stream",
     "text": [
      "Data saved succesfully in IBMQ_PEC_mirror_nqubits_27_shots_1_trials_1_Test_Depths\n"
     ]
    },
    {
     "data": {
      "image/png": "[encoded data removed]",
      "text/plain": [
       "<Figure size 900x500 with 1 Axes>"
      ]
     },
     "metadata": {},
     "output_type": "display_data"
    }
   ],
   "source": [
    "# Plot Errors\n",
    "noisy_errors = np.abs([a_i - b_i for a_i, b_i in zip(avg_noisy_values, avg_true_values)])\n",
    "pec_errors = np.abs([a_i - b_i for a_i, b_i in zip(avg_pec_values, avg_true_values)])\n",
    "\n",
    "plt.figure(figsize=(9, 5))\n",
    "plot_depths = depths[:len(avg_true_values)]\n",
    "kwargs = {\"capsize\": 5, \"lw\": 2}\n",
    "\n",
    "plt.errorbar(plot_depths, noisy_errors, yerr=std_noisy_values, label=\"Raw\", **kwargs, fmt='o', ms=2.5)\n",
    "plt.errorbar(plot_depths, pec_errors, yerr=std_pec_values, label=\"PEC\", **kwargs, fmt='o', ms=2.5)\n",
    "\n",
    "plt.xlabel(\"Depth \\n \\n Max depth reached when PEC is worse than raw value 5x in a row\")\n",
    "plt.ylabel(\"Error in xpectation value\")\n",
    "plt.title(f\"\"\"IBMQ with {circuit_type} circuit using PEC on simulator using {n_qubits} qubits and {trials} trials per depth\"\"\")\n",
    "plt.legend() \n",
    "\n",
    "# save_data = True\n",
    "import datetime\n",
    "if save_data == True:\n",
    "\n",
    "    dir_name = f\"IBMQ_PEC_{circuit_type}_nqubits_{n_qubits}_shots_{shots}_trials_{trials}_Test_Depths\"\n",
    "    time_key = datetime.datetime.now().strftime(\"%Y-%m-%d_%H-%M-%S\")\n",
    "    try:\n",
    "        os.mkdir(dir_name)\n",
    "    except FileExistsError:\n",
    "        pass\n",
    "    plt.savefig(os.path.join(dir_name,f\"IBMQ_PEC_{circuit_type}_{n_qubits}_Errors\"+ time_key +\".pdf\"))\n",
    "\n",
    "    print(\"Data saved succesfully in\", dir_name)"
   ]
  },
  {
   "cell_type": "markdown",
   "metadata": {},
   "source": [
    "## Testing widths"
   ]
  },
  {
   "cell_type": "code",
   "execution_count": null,
   "metadata": {},
   "outputs": [],
   "source": [
    "def test_widths(depth, trials, widths, shots, num_samples, circuit_type):\n",
    "    cnot_counts = []\n",
    "    oneq_counts = []\n",
    "\n",
    "    true_values=[]\n",
    "    noisy_values = []\n",
    "    pec_values = []\n",
    "\n",
    "    avg_true_values=[]\n",
    "    avg_noisy_values = []\n",
    "    avg_pec_values = []\n",
    "\n",
    "    std_true_values = []\n",
    "    std_noisy_values = []\n",
    "    std_pec_values = []\n",
    "\n",
    "    still_useful_counter = 0\n",
    "\n",
    "    for width_i in range(0,len(widths)):\n",
    "        \n",
    "\n",
    "        print(\"Status: On width\", widths[width_i], \"with backend\", str(noisy_backend), end=\"\\n\\n\")\n",
    "\n",
    "        true_values_at_depth, noisy_values_at_depth, pec_values_at_depth, cnot_counts_at_depth, oneq_counts_at_depth = run_experiment(depth, trials, widths[width_i], shots, num_samples, circuit_type)\n",
    "        \n",
    "        # Store values\n",
    "        true_values.append(true_values_at_depth)\n",
    "        noisy_values.append(noisy_values_at_depth)\n",
    "        pec_values.append(pec_values_at_depth)\n",
    "\n",
    "        # Store averages\n",
    "        avg_true_values.append(np.average(true_values_at_depth))\n",
    "        avg_noisy_values.append(np.average(noisy_values_at_depth))\n",
    "        avg_pec_values.append(np.average(pec_values_at_depth))\n",
    "        \n",
    "        # Store standard deviations\n",
    "        std_true_values.append(np.std(true_values_at_depth, ddof=1))\n",
    "        std_noisy_values.append(np.std(noisy_values_at_depth, ddof=1))\n",
    "        std_pec_values.append(np.std(pec_values_at_depth, ddof=1))\n",
    "\n",
    "        # Store gate counts\n",
    "        cnot_counts.append(cnot_counts_at_depth)\n",
    "        oneq_counts.append(oneq_counts_at_depth)\n",
    "\n",
    "        # Check usefulness\n",
    "        still_useful_at_depth, reason = still_useful(avg_true_values[width_i], \n",
    "                        avg_noisy_values[width_i], \n",
    "                        avg_pec_values[width_i], \n",
    "                        std_noisy_values[width_i], \n",
    "                        std_pec_values[width_i])\n",
    "        \n",
    "        # Count how many times in a row we're not useful, once we get to five (a trend, rather than a fluke bad spot) end it\n",
    "        if still_useful_at_depth==True:\n",
    "            print(\"Reset the count\")\n",
    "            still_useful_counter = 0\n",
    "        elif still_useful_at_depth==False:\n",
    "            print(\"Add count:\", reason)\n",
    "            still_useful_counter += 1 \n",
    "        if still_useful_at_depth==False and still_useful_counter>=5:\n",
    "            print(\"PEC is no longer useful after width = \", widths[width_i-1])\n",
    "            break\n",
    "    return cnot_counts, oneq_counts, true_values, noisy_values, pec_values, avg_true_values, avg_noisy_values, avg_pec_values, std_true_values, std_noisy_values, std_pec_values"
   ]
  },
  {
   "cell_type": "code",
   "execution_count": null,
   "metadata": {},
   "outputs": [],
   "source": [
    "# noisy_backend = GenericBackendV2(90)\n",
    "# widths = np.arange(2,70)\n",
    "# trials = 10\n",
    "# depth = 1\n",
    "# shots = 10000\n",
    "# num_samples = 100\n",
    "# circuit_type= \"long cnot\" # \"rb\"\n",
    "# save_data = False\n",
    "\n",
    "# cnot_counts_w, oneq_counts_w, true_values_w, noisy_values_w, pec_values_w, avg_true_values_w, avg_noisy_values_w, avg_pec_values_w, std_true_values_w, std_noisy_values_w, std_pec_values_w = test_widths(depth, trials, widths, shots, num_samples, circuit_type)"
   ]
  },
  {
   "cell_type": "markdown",
   "metadata": {},
   "source": [
    "Plot EV vs width for noisy and mitigated results"
   ]
  },
  {
   "cell_type": "code",
   "execution_count": null,
   "metadata": {},
   "outputs": [],
   "source": [
    "# # Plot Values\n",
    "\n",
    "# plt.figure(figsize=(9, 5))\n",
    "# plot_widths = widths[:len(avg_true_values_w)]\n",
    "# kwargs = {\"capsize\": 5, \"lw\": 2}\n",
    "\n",
    "# # Plot true value\n",
    "# plt.plot(plot_widths, avg_true_values_w, label=\"True\", lw=2)\n",
    "\n",
    "# # Plot scatter plots with error bars\n",
    "# plt.errorbar(plot_widths, avg_noisy_values_w, yerr=std_noisy_values_w, label=\"Raw\", **kwargs, fmt='o', ms=2.5)\n",
    "# plt.errorbar(plot_widths, avg_pec_values_w, yerr=std_pec_values_w, label=\"PEC\", **kwargs, fmt='o', ms=2.5)\n",
    "\n",
    "# plt.xlabel(\"Width \\n \\n Max width reached when PEC is worse than raw value 5x in a row\")\n",
    "# plt.ylabel(\"Expectation value\")\n",
    "# plt.title(f\"\"\"IBMQ with {circuit_type} circuit using PEC on simulator using {depth} depth and {trials} trials per width\"\"\")\n",
    "# plt.legend()\n",
    "\n",
    "# # save_data = True\n",
    "# import datetime\n",
    "# if save_data == True:\n",
    "\n",
    "#     dir_name = f\"IBMQ_PEC_{circuit_type}_nqubits_{n_qubits}_shots_{shots}_trials_{trials}_Test_Widths\"\n",
    "#     time_key = datetime.datetime.now().strftime(\"%Y-%m-%d_%H-%M-%S\")\n",
    "#     try:\n",
    "#         os.mkdir(dir_name)\n",
    "#     except FileExistsError:\n",
    "#         pass\n",
    "#     plt.savefig(os.path.join(dir_name,f\"IBMQ_PEC_{circuit_type}_{n_qubits}\"+ time_key +\".pdf\"))\n",
    "#     np.savetxt(os.path.join(dir_name, \"cnot_counts\" + time_key + \".txt\"), cnot_counts_w)\n",
    "#     np.savetxt(os.path.join(dir_name, \"oneq_counts\" + time_key + \".txt\"), oneq_counts_w)\n",
    "#     np.savetxt(os.path.join(dir_name, \"true_values\" + time_key + \".txt\"), true_values_w)\n",
    "#     np.savetxt(os.path.join(dir_name, \"noisy_values\" + time_key + \".txt\"), noisy_values)\n",
    "#     np.savetxt(os.path.join(dir_name, \"pec_values\" + time_key + \".txt\"), pec_values_w)\n",
    "\n",
    "#     print(\"Data saved succesfully in\", dir_name)"
   ]
  },
  {
   "cell_type": "markdown",
   "metadata": {},
   "source": [
    "Plot EV error vs width for noisy and mitigated results"
   ]
  },
  {
   "cell_type": "code",
   "execution_count": null,
   "metadata": {},
   "outputs": [],
   "source": [
    "# # Plot Errors\n",
    "# noisy_errors_w = np.abs([a_i - b_i for a_i, b_i in zip(avg_noisy_values_w, avg_true_values_w)])\n",
    "# pec_errors_w = np.abs([a_i - b_i for a_i, b_i in zip(avg_pec_values_w, avg_true_values_w)])\n",
    "\n",
    "# plt.figure(figsize=(9, 5))\n",
    "# plot_depths = depths[:len(avg_true_values)]\n",
    "# kwargs = {\"capsize\": 5, \"lw\": 2}\n",
    "\n",
    "# plt.errorbar(plot_depths, noisy_errors_w, yerr=std_noisy_values, label=\"Raw\", **kwargs, fmt='o', ms=2.5)\n",
    "# plt.errorbar(plot_depths, pec_errors_w, yerr=std_pec_values, label=\"PEC\", **kwargs, fmt='o', ms=2.5)\n",
    "\n",
    "# plt.xlabel(\"Width \\n \\n Max width reached when PEC is worse than raw value 5x in a row\")\n",
    "# plt.ylabel(\"Error in expectation value\")\n",
    "# plt.title(f\"\"\"IBMQ with {circuit_type} circuit using PEC on simulator using {depth} depth and {trials} trials per width\"\"\")\n",
    "# plt.legend()\n",
    "\n",
    "# # save_data = True\n",
    "# import datetime\n",
    "# if save_data == True:\n",
    "\n",
    "#     dir_name = f\"IBMQ_PEC_{circuit_type}_nqubits_{n_qubits}_shots_{shots}_trials_{trials}_Test_Widths\"\n",
    "#     time_key = datetime.datetime.now().strftime(\"%Y-%m-%d_%H-%M-%S\")\n",
    "#     try:\n",
    "#         os.mkdir(dir_name)\n",
    "#     except FileExistsError:\n",
    "#         pass\n",
    "#     plt.savefig(os.path.join(dir_name,f\"IBMQ_PEC_{circuit_type}_{n_qubits}_Errors\"+ time_key +\".pdf\"))\n",
    "\n",
    "#     print(\"Data saved succesfully in\", dir_name)"
   ]
  }
 ],
 "metadata": {
  "kernelspec": {
   "display_name": "PHYS522_yml",
   "language": "python",
   "name": "python3"
  },
  "language_info": {
   "codemirror_mode": {
    "name": "ipython",
    "version": 3
   },
   "file_extension": ".py",
   "mimetype": "text/x-python",
   "name": "python",
   "nbconvert_exporter": "python",
   "pygments_lexer": "ipython3",
   "version": "3.12.8"
  }
 },
 "nbformat": 4,
 "nbformat_minor": 2
}
