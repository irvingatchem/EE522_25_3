{
 "cells": [
  {
   "cell_type": "markdown",
   "metadata": {},
   "source": [
    "# Benchmarking Circuit Depth for PEC\n",
    "***"
   ]
  },
  {
   "cell_type": "markdown",
   "metadata": {},
   "source": [
    "## Imports"
   ]
  },
  {
   "cell_type": "code",
   "execution_count": 18,
   "metadata": {},
   "outputs": [],
   "source": [
    "import functools\n",
    "import os\n",
    "import time\n",
    "from typing import List\n",
    "import matplotlib.pyplot as plt\n",
    "import cirq\n",
    "import networkx as nx\n",
    "import numpy as np\n",
    "import qiskit\n",
    "from mitiq import benchmarks, pec\n",
    "\n",
    "from qiskit_ibm_runtime.fake_provider import FakeKolkata, FakeLima\n",
    "from qiskit.providers.fake_provider import GenericBackendV2\n",
    "import qiskit_aer"
   ]
  },
  {
   "cell_type": "markdown",
   "metadata": {},
   "source": [
    "## Setup Stuff"
   ]
  },
  {
   "cell_type": "code",
   "execution_count": 19,
   "metadata": {},
   "outputs": [],
   "source": [
    "ideal_backend = qiskit_aer.AerSimulator()\n",
    "\n",
    "# Random seed for circuit generation.\n",
    "seed: int = 1\n",
    "\n",
    "# Display verbose output.\n",
    "verbose: bool = False\n",
    "# Give queue updates every this many seconds when running on hardware device.\n",
    "verbose_update_time: int = 30"
   ]
  },
  {
   "cell_type": "markdown",
   "metadata": {},
   "source": [
    "## Set up hardware\n",
    "We need chain-like connectivity for mirror circuits. Physical qubit structure is used for initial_layout argument in the executor."
   ]
  },
  {
   "cell_type": "code",
   "execution_count": 20,
   "metadata": {},
   "outputs": [],
   "source": [
    "def get_phys_qubits(n_qubits):\n",
    "    # Physical qubits with a chain-like connectivity.\n",
    "    ibm_lima_ordering = [0, 1, 3, 4, 2] \n",
    "    ibm_kolkata_ordering = [0, 1, 4, 7, 10, 12, 15, 18, 21, 23, 24, 25, 22, 19, 16, 14, 11, 8, 5, 3, 2]\n",
    "\n",
    "    if n_qubits <= 5:\n",
    "        # Assume ibmq-lima device. Take n adjacent physical qubits.\n",
    "        physical_ibm_qubits = ibm_lima_ordering[: n_qubits]\n",
    "    elif n_qubits <= len(ibm_kolkata_ordering) and n_qubits > 5:\n",
    "        # Assume ibmq-kolkata device. Take n adjacent physical qubits.\n",
    "        physical_ibm_qubits = ibm_kolkata_ordering[: n_qubits]\n",
    "    else:\n",
    "        raise ValueError(f\"Number of qubits {n_qubits} too large.\")\n",
    "    \n",
    "    return physical_ibm_qubits"
   ]
  },
  {
   "cell_type": "markdown",
   "metadata": {},
   "source": [
    "## Make connectivity graph for mirror circuits"
   ]
  },
  {
   "cell_type": "code",
   "execution_count": 21,
   "metadata": {},
   "outputs": [],
   "source": [
    "def get_computer(n_qubits):\n",
    "    # Make connectivity graph \n",
    "    computer = nx.Graph()\n",
    "\n",
    "    qubits = [j for j in range(n_qubits)]\n",
    "\n",
    "    # Split qubits into 2-qubit pairs (assuming a chain connectivity).\n",
    "    rb_pattern = [[qa, qb] for qa, qb in zip(qubits[0:-1:2], qubits[1::2])]\n",
    "    if n_qubits % 2 == 1:\n",
    "        # For an odd number of qubits, append final individual qubit to the RB pattern.\n",
    "        rb_pattern.append([qubits[-1]])\n",
    "    # print(\"Qubit indeces:\", qubits)\n",
    "    # print(\"RB pattern:\", rb_pattern)\n",
    "\n",
    "    # Assume chain-like connectivity\n",
    "    computer.add_edges_from([(qa, qb) for qa, qb in zip(qubits[:-1], qubits[1:])])\n",
    "\n",
    "    # Add reversed edges to computer graph.\n",
    "    # This is important to represent CNOT gates with target and control reversed.\n",
    "    computer = nx.to_directed(computer)\n",
    "    return computer"
   ]
  },
  {
   "cell_type": "markdown",
   "metadata": {},
   "source": [
    "## Create circuit for testing\n",
    "Note that here we are only looking at circuit deth, and the only types of benchmarking circuits that scale eclusively with depth are the mirror and rb.\n",
    "Specify:\n",
    "1. Benchmarking circuit type\n",
    "2. Number of qubits\n",
    "3. Depth\n",
    "4. Seed"
   ]
  },
  {
   "cell_type": "code",
   "execution_count": 22,
   "metadata": {},
   "outputs": [],
   "source": [
    "def get_circuit(circuit_type:str, n_qubits:int, depth: int, seed: int) -> tuple[qiskit.QuantumCircuit, str]:\n",
    "    \"\"\"Create circuit.\"\"\"\n",
    "    \n",
    "    if circuit_type == \"rb\":\n",
    "        circuit = benchmarks.generate_rb_circuits(\n",
    "            n_qubits=2, \n",
    "            num_cliffords=depth, \n",
    "            seed=seed, \n",
    "            return_type=\"qiskit\"\n",
    "            )[0]\n",
    "        return circuit, \"00\"\n",
    "\n",
    "    elif circuit_type == \"mirror\":\n",
    "        # Make connectivity graph \n",
    "        computer = get_computer(n_qubits)\n",
    "        circuit, correct_bitstring = benchmarks.generate_mirror_circuit(\n",
    "                nlayers=depth,\n",
    "                two_qubit_gate_prob=1.0,\n",
    "                connectivity_graph=computer,\n",
    "                two_qubit_gate_name=\"CNOT\",\n",
    "                seed=seed,\n",
    "                return_type=\"qiskit\",\n",
    "            )\n",
    "        # Reversed because Qiskit is wrong endian.\n",
    "        return circuit, \"\".join(map(str, correct_bitstring[::-1]))\n",
    "    \n",
    "    else:\n",
    "        print(\"what\")\n",
    "        return\n"
   ]
  },
  {
   "cell_type": "code",
   "execution_count": 23,
   "metadata": {},
   "outputs": [
    {
     "data": {
      "text/html": [
       "<pre style=\"word-wrap: normal;white-space: pre;background: #fff0;line-height: 1.1;font-family: &quot;Courier New&quot;,Courier,monospace\">        ┌───┐   ┌──────┐┌───┐     ┌───┐     ┌───┐     ┌───┐     ┌───┐     ┌───┐»\n",
       "q_0: ───┤ Y ├───┤ √Xdg ├┤ X ├──■──┤ X ├──■──┤ Z ├──■──┤ X ├──■──┤ Y ├──■──┤ Y ├»\n",
       "     ┌──┴───┴──┐├──────┤├───┤┌─┴─┐├───┤┌─┴─┐├───┤┌─┴─┐├───┤┌─┴─┐├───┤┌─┴─┐├───┤»\n",
       "q_1: ┤ Ry(π/2) ├┤ √Xdg ├┤ X ├┤ X ├┤ X ├┤ X ├┤ Y ├┤ X ├┤ I ├┤ X ├┤ Z ├┤ X ├┤ X ├»\n",
       "     └─────────┘└──────┘└───┘└───┘└───┘└───┘└───┘└───┘└───┘└───┘└───┘└───┘└───┘»\n",
       "«          ┌───┐┌────┐   ┌───┐    \n",
       "«q_0: ──■──┤ Y ├┤ √X ├───┤ Y ├────\n",
       "«     ┌─┴─┐├───┤├────┤┌──┴───┴───┐\n",
       "«q_1: ┤ X ├┤ I ├┤ √X ├┤ Ry(-π/2) ├\n",
       "«     └───┘└───┘└────┘└──────────┘</pre>"
      ],
      "text/plain": [
       "        ┌───┐   ┌──────┐┌───┐     ┌───┐     ┌───┐     ┌───┐     ┌───┐     ┌───┐»\n",
       "q_0: ───┤ Y ├───┤ √Xdg ├┤ X ├──■──┤ X ├──■──┤ Z ├──■──┤ X ├──■──┤ Y ├──■──┤ Y ├»\n",
       "     ┌──┴───┴──┐├──────┤├───┤┌─┴─┐├───┤┌─┴─┐├───┤┌─┴─┐├───┤┌─┴─┐├───┤┌─┴─┐├───┤»\n",
       "q_1: ┤ Ry(π/2) ├┤ √Xdg ├┤ X ├┤ X ├┤ X ├┤ X ├┤ Y ├┤ X ├┤ I ├┤ X ├┤ Z ├┤ X ├┤ X ├»\n",
       "     └─────────┘└──────┘└───┘└───┘└───┘└───┘└───┘└───┘└───┘└───┘└───┘└───┘└───┘»\n",
       "«          ┌───┐┌────┐   ┌───┐    \n",
       "«q_0: ──■──┤ Y ├┤ √X ├───┤ Y ├────\n",
       "«     ┌─┴─┐├───┤├────┤┌──┴───┴───┐\n",
       "«q_1: ┤ X ├┤ I ├┤ √X ├┤ Ry(-π/2) ├\n",
       "«     └───┘└───┘└────┘└──────────┘"
      ]
     },
     "execution_count": 23,
     "metadata": {},
     "output_type": "execute_result"
    }
   ],
   "source": [
    "circuit, cb = get_circuit(\"mirror\", 2, 3, 1)\n",
    "circuit.draw()"
   ]
  },
  {
   "cell_type": "markdown",
   "metadata": {},
   "source": [
    "## Count gates"
   ]
  },
  {
   "cell_type": "code",
   "execution_count": 24,
   "metadata": {},
   "outputs": [],
   "source": [
    "def get_num_cnot_count(circuit: qiskit.QuantumCircuit) -> int:\n",
    "    \"\"\"Determine number of cnot gates in a given `Circuit` object.\"\"\"\n",
    "    return circuit.count_ops().get(\"cx\")\n",
    "\n",
    "def get_avg_cnot_count(circuits: list[qiskit.QuantumCircuit]) -> float:\n",
    "    \"\"\"Determine average number of cnot gates present in list of `QuantumCircuit` objects.\"\"\"\n",
    "    return np.average([c.count_ops().get(\"cx\") for c in circuits])\n",
    "\n",
    "def get_oneq_count(circuit: qiskit.QuantumCircuit) -> int:\n",
    "    return len(circuit) - get_num_cnot_count(circuit)"
   ]
  },
  {
   "cell_type": "markdown",
   "metadata": {},
   "source": [
    "## Create executor"
   ]
  },
  {
   "cell_type": "code",
   "execution_count": 25,
   "metadata": {},
   "outputs": [],
   "source": [
    "def execute(\n",
    "    circuits: qiskit.QuantumCircuit | list[qiskit.QuantumCircuit],\n",
    "    backend,\n",
    "    shots: int,\n",
    "    correct_bitstring: str,\n",
    "    verbose: bool,\n",
    "    ) -> List[float]:\n",
    "    \"\"\"Executes the input circuit(s) and returns ⟨A⟩, where A = |correct_bitstring⟩⟨correct_bitstring| for each circuit.\"\"\"\n",
    "\n",
    "    if not isinstance(circuits, list):\n",
    "        circuits = [circuits]\n",
    "    if verbose:\n",
    "        # Calculate average number of CNOT gates per circuit.\n",
    "        print(f\"Executing {len(circuits)} circuit(s) on {backend}.\")\n",
    "        print(f\"Average cnot count in circuits: {get_avg_cnot_count(circuits)}\")\n",
    "\n",
    "    # Store all circuits to run in list to be returned.\n",
    "    to_run: list[qiskit.QuantumCircuit] = []\n",
    "\n",
    "    for circuit in circuits:\n",
    "        circuit_to_run = circuit.copy()\n",
    "        circuit_to_run.measure_all()\n",
    "        to_run.append(\n",
    "            qiskit.transpile(\n",
    "                circuit_to_run,\n",
    "                backend=backend,\n",
    "                initial_layout= get_phys_qubits(circuit.num_qubits),\n",
    "                optimization_level=0,  # Otherwise RB circuits are simplified to empty circuits.\n",
    "            )\n",
    "        )\n",
    "\n",
    "    if verbose:\n",
    "        # Calculate average number of CNOT gates per compiled circuit.\n",
    "        print(f\"Average cnot count in compiled circuits: {get_avg_cnot_count(to_run)}\")\n",
    "\n",
    "    # Run and get counts.\n",
    "    job = backend.run(\n",
    "        to_run,\n",
    "        # Reset qubits to ground state after each sample.\n",
    "        init_qubits=True,\n",
    "        shots=shots,\n",
    "    )\n",
    "    # IBMQ uses online queue for processing jobs.\n",
    "    # if verbose and not use_noisy_simulator:\n",
    "    #     time.sleep(3)\n",
    "    #     while not job.in_final_state():\n",
    "    #         print(f\"Queue position: {job.queue_position()}\")\n",
    "    #         time.sleep(verbose_update_time)\n",
    "    #     print()\n",
    "\n",
    "    # print(f\"Correct bitstring: {correct_bitstring}\")\n",
    "    if len(circuits) == 1:\n",
    "        return [job.result().get_counts().get(correct_bitstring, 0.0) / shots]\n",
    "    return [\n",
    "        count.get(correct_bitstring, 0.0) / shots for count in job.result().get_counts()\n",
    "    ]"
   ]
  },
  {
   "cell_type": "markdown",
   "metadata": {},
   "source": [
    "## Introduce error"
   ]
  },
  {
   "cell_type": "code",
   "execution_count": 26,
   "metadata": {},
   "outputs": [],
   "source": [
    "def get_cnot_error(edge: tuple[int, int] = None) -> float:\n",
    "    cnot_error_prob = 0.01\n",
    "    # cnot_error_prob = noisy_backend.properties().gate_error(\"cx\", qubits=edge)\n",
    "    # print(f\"cnot_error_prob for edge {edge}: {cnot_error_prob}\")\n",
    "    return cnot_error_prob\n",
    "\n",
    "def get_cnot_representation(edge: tuple[int, int]) -> pec.OperationRepresentation:\n",
    "    cnot_circuit = cirq.Circuit(\n",
    "        cirq.CNOT(\n",
    "            cirq.NamedQubit(f\"q_{str(edge[0])}\"),\n",
    "            cirq.NamedQubit(f\"q_{str(edge[1])}\"),\n",
    "        )\n",
    "    )\n",
    "    rep_exact_prob = 1 - np.sqrt(1 - get_cnot_error(edge))\n",
    "    return pec.represent_operation_with_local_depolarizing_noise(\n",
    "        cnot_circuit,\n",
    "        noise_level=rep_exact_prob,\n",
    "    )\n",
    "\n",
    "def get_representations(computer: nx.Graph) -> list[pec.OperationRepresentation]:\n",
    "    return [get_cnot_representation(edge) for edge in computer.edges]"
   ]
  },
  {
   "cell_type": "markdown",
   "metadata": {},
   "source": [
    "## Run experiment\n",
    "Specify:\n",
    "1. Depth\n",
    "2. Trials\n",
    "3. Number of qubits (for computer)\n",
    "4. Shots\n",
    "5. Number of samples"
   ]
  },
  {
   "cell_type": "code",
   "execution_count": 27,
   "metadata": {},
   "outputs": [],
   "source": [
    "def run_experiment(depth, trials, n_qubits, shots, num_samples, circuit_type):\n",
    "    computer = get_computer(n_qubits)\n",
    "\n",
    "    true_values_at_depth = []\n",
    "    noisy_values_at_depth = []\n",
    "    pec_values_at_depth = []\n",
    "    cnot_counts_at_depth = []\n",
    "    oneq_counts_at_depth = []\n",
    "\n",
    "    for trial in range(trials):\n",
    "        # Local seed is calculated in this way to ensure that we don't get repeat values in loop.\n",
    "        local_seed = int(10**6 * depth + 10**3 * seed + trial)\n",
    "\n",
    "        circuit, correct_bitstring = get_circuit(circuit_type, n_qubits, depth, local_seed)\n",
    "\n",
    "        (true_value,) = execute(\n",
    "            circuit,\n",
    "            ideal_backend,\n",
    "            shots,\n",
    "            correct_bitstring,\n",
    "            verbose=verbose,\n",
    "        )\n",
    "        true_values_at_depth.append(true_value)\n",
    "\n",
    "        (noisy_value,) = execute(\n",
    "            circuit,\n",
    "            noisy_backend,\n",
    "            shots,\n",
    "            correct_bitstring,\n",
    "            verbose=verbose\n",
    "        )\n",
    "        noisy_values_at_depth.append(noisy_value)\n",
    "\n",
    "        pec_executor = functools.partial(\n",
    "            execute,\n",
    "            backend=noisy_backend,\n",
    "            shots=shots // num_samples,\n",
    "            correct_bitstring=correct_bitstring,\n",
    "            verbose=verbose,\n",
    "        )\n",
    "\n",
    "        pec_value = pec.execute_with_pec(\n",
    "            circuit,\n",
    "            pec_executor,\n",
    "            representations=get_representations(computer),\n",
    "            num_samples=num_samples,\n",
    "            random_state=local_seed,\n",
    "        )\n",
    "        \n",
    "        pec_values_at_depth.append(pec_value)\n",
    "\n",
    "        cnot_counts_at_depth.append(get_num_cnot_count(circuit))\n",
    "        oneq_counts_at_depth.append(get_oneq_count(circuit))\n",
    "\n",
    "    return true_values_at_depth, noisy_values_at_depth, pec_values_at_depth, cnot_counts_at_depth, oneq_counts_at_depth"
   ]
  },
  {
   "cell_type": "markdown",
   "metadata": {},
   "source": [
    "## Is PEC still useful?\n",
    "\"Usefulness\" can be defined using a lot of different parameters. Right now, we define a useful run as one where PEC outperforms the raw data in terms of closeness to the ideal value."
   ]
  },
  {
   "cell_type": "code",
   "execution_count": 28,
   "metadata": {},
   "outputs": [],
   "source": [
    "def still_useful(avg_true_value, avg_noisy_value, avg_pec_value, std_noisy_value, std_pec_value):\n",
    "\n",
    "    pec_diff = np.abs(avg_true_value - avg_pec_value)\n",
    "    noisy_diff = np.abs(avg_true_value - avg_noisy_value)\n",
    "\n",
    "    error_max = avg_pec_value + std_pec_value\n",
    "    error_min = avg_pec_value - std_pec_value\n",
    "\n",
    "    # If PEC worse than raw \n",
    "    if (pec_diff > noisy_diff):\n",
    "        reason = \"Worse than raw\"\n",
    "        return False, reason\n",
    "    \n",
    "    # # If PEC worse than raw AND true value is not within PEC error bar\n",
    "    # if (pec_diff > noisy_diff) and ((avg_true_value < error_min) or (avg_true_value > error_max)):\n",
    "    #     reason = \"Worse than raw and not within error\"\n",
    "    #     return False, reason\n",
    "\n",
    "    # # If true value is not within PEC error bar\n",
    "    # elif (avg_true_value < error_min) or (avg_true_value > error_max):\n",
    "    #     reason = \"Not within error bar\"\n",
    "    #     return False, reason\n",
    "\n",
    "    # # If the std of PEC is too big?\n",
    "    # elif std_pec_value >= 4*np.abs(avg_true_value - avg_pec_value):\n",
    "    #     reason = \"Std over threshold: \" + str(4*np.abs(avg_true_value - avg_pec_value))\n",
    "    #     return False, reason\n",
    "    \n",
    "    # # If the difference passes a certain fixed threshold?\n",
    "    # elif pec_diff >= 2*avg_true_value:\n",
    "    #     reason = \"Avg over threshold: \" + str(2*avg_true_value)\n",
    "    #     return False, reason\n",
    "    \n",
    "    else:\n",
    "        reason = \"none\"\n",
    "        return True, reason"
   ]
  },
  {
   "cell_type": "markdown",
   "metadata": {},
   "source": [
    "## Testing depth limit\n",
    "Note that this is only valid for mirror or rb circuits"
   ]
  },
  {
   "cell_type": "code",
   "execution_count": 29,
   "metadata": {},
   "outputs": [],
   "source": [
    "# BE VERY CAREFUL WITH THIS\n",
    "# Just to remove the UserWarning for representations\n",
    "\n",
    "import warnings\n",
    "warnings.filterwarnings(\"ignore\")"
   ]
  },
  {
   "cell_type": "code",
   "execution_count": 30,
   "metadata": {},
   "outputs": [],
   "source": [
    "\n",
    "def test_depths(depths, trials, n_qubits, shots, num_samples, circuit_type):\n",
    "    cnot_counts = []\n",
    "    oneq_counts = []\n",
    "\n",
    "    true_values=[]\n",
    "    noisy_values = []\n",
    "    pec_values = []\n",
    "\n",
    "    avg_true_values=[]\n",
    "    avg_noisy_values = []\n",
    "    avg_pec_values = []\n",
    "\n",
    "    std_true_values = []\n",
    "    std_noisy_values = []\n",
    "    std_pec_values = []\n",
    "\n",
    "    still_useful_counter = 0\n",
    "\n",
    "    for depth_i in range(0,len(depths)):\n",
    "\n",
    "        print(\"Status: On depth\", depths[depth_i], \"with backend\", noisy_backend, end=\"\\n\\n\")\n",
    "\n",
    "        true_values_at_depth, noisy_values_at_depth, pec_values_at_depth, cnot_counts_at_depth, oneq_counts_at_depth = run_experiment(depths[depth_i], trials, n_qubits, shots, num_samples, circuit_type)\n",
    "        \n",
    "        # Store values\n",
    "        true_values.append(true_values_at_depth)\n",
    "        noisy_values.append(noisy_values_at_depth)\n",
    "        pec_values.append(pec_values_at_depth)\n",
    "\n",
    "        # Store averages\n",
    "        avg_true_values.append(np.average(true_values_at_depth))\n",
    "        avg_noisy_values.append(np.average(noisy_values_at_depth))\n",
    "        avg_pec_values.append(np.average(pec_values_at_depth))\n",
    "        \n",
    "        # Store standard deviations\n",
    "        std_true_values.append(np.std(true_values_at_depth, ddof=1))\n",
    "        std_noisy_values.append(np.std(noisy_values_at_depth, ddof=1))\n",
    "        std_pec_values.append(np.std(pec_values_at_depth, ddof=1))\n",
    "\n",
    "        # Store gate counts\n",
    "        cnot_counts.append(cnot_counts_at_depth)\n",
    "        oneq_counts.append(oneq_counts_at_depth)\n",
    "\n",
    "        #Check usefulness\n",
    "        still_useful_at_depth, reason = still_useful(avg_true_values[depth_i], \n",
    "                        avg_noisy_values[depth_i], \n",
    "                        avg_pec_values[depth_i], \n",
    "                        std_noisy_values[depth_i], \n",
    "                        std_pec_values[depth_i])\n",
    "        \n",
    "        # Count how many times in a row we're not useful, once we get to five (a trend, rather than a fluke bad spot) end it\n",
    "        if still_useful_at_depth==True:\n",
    "            print(\"Reset the count\")\n",
    "            still_useful_counter = 0\n",
    "        elif still_useful_at_depth==False:\n",
    "            print(\"Add count:\", reason)\n",
    "            still_useful_counter += 1 \n",
    "        if still_useful_at_depth==False and still_useful_counter>=5:\n",
    "            print(\"PEC is no longer useful after depth = \", depths[depth_i-1])\n",
    "            break\n",
    "    return cnot_counts, oneq_counts, true_values, noisy_values, pec_values, avg_true_values, avg_noisy_values, avg_pec_values, std_true_values, std_noisy_values, std_pec_values"
   ]
  },
  {
   "cell_type": "markdown",
   "metadata": {},
   "source": [
    "Call test:"
   ]
  },
  {
   "cell_type": "code",
   "execution_count": 31,
   "metadata": {},
   "outputs": [
    {
     "name": "stdout",
     "output_type": "stream",
     "text": [
      "Status: On depth 10 with backend <qiskit.providers.fake_provider.generic_backend_v2.GenericBackendV2 object at 0x000002E273889D60>\n",
      "\n"
     ]
    },
    {
     "ename": "KeyboardInterrupt",
     "evalue": "",
     "output_type": "error",
     "traceback": [
      "\u001b[1;31m---------------------------------------------------------------------------\u001b[0m",
      "\u001b[1;31mKeyboardInterrupt\u001b[0m                         Traceback (most recent call last)",
      "Cell \u001b[1;32mIn[31], line 10\u001b[0m\n\u001b[0;32m      7\u001b[0m circuit_type\u001b[38;5;241m=\u001b[39m \u001b[38;5;124m\"\u001b[39m\u001b[38;5;124mmirror\u001b[39m\u001b[38;5;124m\"\u001b[39m \u001b[38;5;66;03m# \"rb\"\u001b[39;00m\n\u001b[0;32m      8\u001b[0m save_data \u001b[38;5;241m=\u001b[39m \u001b[38;5;28;01mFalse\u001b[39;00m\n\u001b[1;32m---> 10\u001b[0m cnot_counts, oneq_counts, true_values, noisy_values, pec_values, avg_true_values, avg_noisy_values, avg_pec_values, std_true_values, std_noisy_values, std_pec_values \u001b[38;5;241m=\u001b[39m \u001b[43mtest_depths\u001b[49m\u001b[43m(\u001b[49m\u001b[43mdepths\u001b[49m\u001b[43m,\u001b[49m\u001b[43m \u001b[49m\u001b[43mtrials\u001b[49m\u001b[43m,\u001b[49m\u001b[43m \u001b[49m\u001b[43mn_qubits\u001b[49m\u001b[43m,\u001b[49m\u001b[43m \u001b[49m\u001b[43mshots\u001b[49m\u001b[43m,\u001b[49m\u001b[43m \u001b[49m\u001b[43mnum_samples\u001b[49m\u001b[43m,\u001b[49m\u001b[43m \u001b[49m\u001b[43mcircuit_type\u001b[49m\u001b[43m)\u001b[49m\n",
      "Cell \u001b[1;32mIn[30], line 23\u001b[0m, in \u001b[0;36mtest_depths\u001b[1;34m(depths, trials, n_qubits, shots, num_samples, circuit_type)\u001b[0m\n\u001b[0;32m     19\u001b[0m \u001b[38;5;28;01mfor\u001b[39;00m depth_i \u001b[38;5;129;01min\u001b[39;00m \u001b[38;5;28mrange\u001b[39m(\u001b[38;5;241m0\u001b[39m,\u001b[38;5;28mlen\u001b[39m(depths)):\n\u001b[0;32m     21\u001b[0m     \u001b[38;5;28mprint\u001b[39m(\u001b[38;5;124m\"\u001b[39m\u001b[38;5;124mStatus: On depth\u001b[39m\u001b[38;5;124m\"\u001b[39m, depths[depth_i], \u001b[38;5;124m\"\u001b[39m\u001b[38;5;124mwith backend\u001b[39m\u001b[38;5;124m\"\u001b[39m, noisy_backend, end\u001b[38;5;241m=\u001b[39m\u001b[38;5;124m\"\u001b[39m\u001b[38;5;130;01m\\n\u001b[39;00m\u001b[38;5;130;01m\\n\u001b[39;00m\u001b[38;5;124m\"\u001b[39m)\n\u001b[1;32m---> 23\u001b[0m     true_values_at_depth, noisy_values_at_depth, pec_values_at_depth, cnot_counts_at_depth, oneq_counts_at_depth \u001b[38;5;241m=\u001b[39m \u001b[43mrun_experiment\u001b[49m\u001b[43m(\u001b[49m\u001b[43mdepths\u001b[49m\u001b[43m[\u001b[49m\u001b[43mdepth_i\u001b[49m\u001b[43m]\u001b[49m\u001b[43m,\u001b[49m\u001b[43m \u001b[49m\u001b[43mtrials\u001b[49m\u001b[43m,\u001b[49m\u001b[43m \u001b[49m\u001b[43mn_qubits\u001b[49m\u001b[43m,\u001b[49m\u001b[43m \u001b[49m\u001b[43mshots\u001b[49m\u001b[43m,\u001b[49m\u001b[43m \u001b[49m\u001b[43mnum_samples\u001b[49m\u001b[43m,\u001b[49m\u001b[43m \u001b[49m\u001b[43mcircuit_type\u001b[49m\u001b[43m)\u001b[49m\n\u001b[0;32m     25\u001b[0m     \u001b[38;5;66;03m# Store values\u001b[39;00m\n\u001b[0;32m     26\u001b[0m     true_values\u001b[38;5;241m.\u001b[39mappend(true_values_at_depth)\n",
      "Cell \u001b[1;32mIn[27], line 42\u001b[0m, in \u001b[0;36mrun_experiment\u001b[1;34m(depth, trials, n_qubits, shots, num_samples, circuit_type)\u001b[0m\n\u001b[0;32m     32\u001b[0m noisy_values_at_depth\u001b[38;5;241m.\u001b[39mappend(noisy_value)\n\u001b[0;32m     34\u001b[0m pec_executor \u001b[38;5;241m=\u001b[39m functools\u001b[38;5;241m.\u001b[39mpartial(\n\u001b[0;32m     35\u001b[0m     execute,\n\u001b[0;32m     36\u001b[0m     backend\u001b[38;5;241m=\u001b[39mnoisy_backend,\n\u001b[1;32m   (...)\u001b[0m\n\u001b[0;32m     39\u001b[0m     verbose\u001b[38;5;241m=\u001b[39mverbose,\n\u001b[0;32m     40\u001b[0m )\n\u001b[1;32m---> 42\u001b[0m pec_value \u001b[38;5;241m=\u001b[39m \u001b[43mpec\u001b[49m\u001b[38;5;241;43m.\u001b[39;49m\u001b[43mexecute_with_pec\u001b[49m\u001b[43m(\u001b[49m\n\u001b[0;32m     43\u001b[0m \u001b[43m    \u001b[49m\u001b[43mcircuit\u001b[49m\u001b[43m,\u001b[49m\n\u001b[0;32m     44\u001b[0m \u001b[43m    \u001b[49m\u001b[43mpec_executor\u001b[49m\u001b[43m,\u001b[49m\n\u001b[0;32m     45\u001b[0m \u001b[43m    \u001b[49m\u001b[43mrepresentations\u001b[49m\u001b[38;5;241;43m=\u001b[39;49m\u001b[43mget_representations\u001b[49m\u001b[43m(\u001b[49m\u001b[43mcomputer\u001b[49m\u001b[43m)\u001b[49m\u001b[43m,\u001b[49m\n\u001b[0;32m     46\u001b[0m \u001b[43m    \u001b[49m\u001b[43mnum_samples\u001b[49m\u001b[38;5;241;43m=\u001b[39;49m\u001b[43mnum_samples\u001b[49m\u001b[43m,\u001b[49m\n\u001b[0;32m     47\u001b[0m \u001b[43m    \u001b[49m\u001b[43mrandom_state\u001b[49m\u001b[38;5;241;43m=\u001b[39;49m\u001b[43mlocal_seed\u001b[49m\u001b[43m,\u001b[49m\n\u001b[0;32m     48\u001b[0m \u001b[43m\u001b[49m\u001b[43m)\u001b[49m\n\u001b[0;32m     50\u001b[0m pec_values_at_depth\u001b[38;5;241m.\u001b[39mappend(pec_value)\n\u001b[0;32m     52\u001b[0m cnot_counts_at_depth\u001b[38;5;241m.\u001b[39mappend(get_num_cnot_count(circuit))\n",
      "File \u001b[1;32mc:\\Users\\spira\\anaconda3\\envs\\PHYS522_yml\\Lib\\site-packages\\mitiq\\pec\\pec.py:192\u001b[0m, in \u001b[0;36mexecute_with_pec\u001b[1;34m(circuit, executor, observable, representations, precision, num_samples, force_run_all, random_state, full_output)\u001b[0m\n\u001b[0;32m    131\u001b[0m \u001b[38;5;28;01mdef\u001b[39;00m\u001b[38;5;250m \u001b[39m\u001b[38;5;21mexecute_with_pec\u001b[39m(\n\u001b[0;32m    132\u001b[0m     circuit: QPROGRAM,\n\u001b[0;32m    133\u001b[0m     executor: Union[Executor, Callable[[QPROGRAM], QuantumResult]],\n\u001b[1;32m   (...)\u001b[0m\n\u001b[0;32m    141\u001b[0m     full_output: \u001b[38;5;28mbool\u001b[39m \u001b[38;5;241m=\u001b[39m \u001b[38;5;28;01mFalse\u001b[39;00m,\n\u001b[0;32m    142\u001b[0m ) \u001b[38;5;241m-\u001b[39m\u001b[38;5;241m>\u001b[39m Union[\u001b[38;5;28mfloat\u001b[39m, Tuple[\u001b[38;5;28mfloat\u001b[39m, Dict[\u001b[38;5;28mstr\u001b[39m, Any]]]:\n\u001b[0;32m    143\u001b[0m \u001b[38;5;250m    \u001b[39m\u001b[38;5;124mr\u001b[39m\u001b[38;5;124;03m\"\"\"Estimates the error-mitigated expectation value associated to the\u001b[39;00m\n\u001b[0;32m    144\u001b[0m \u001b[38;5;124;03m    input circuit, via the application of probabilistic error cancellation\u001b[39;00m\n\u001b[0;32m    145\u001b[0m \u001b[38;5;124;03m    (PEC). :cite:`Temme_2017_PRL` :cite:`Endo_2018_PRX`.\u001b[39;00m\n\u001b[1;32m   (...)\u001b[0m\n\u001b[0;32m    190\u001b[0m \u001b[38;5;124;03m        returned.\u001b[39;00m\n\u001b[0;32m    191\u001b[0m \u001b[38;5;124;03m    \"\"\"\u001b[39;00m\n\u001b[1;32m--> 192\u001b[0m     sampled_circuits, signs, norm \u001b[38;5;241m=\u001b[39m \u001b[43mgenerate_sampled_circuits\u001b[49m\u001b[43m(\u001b[49m\n\u001b[0;32m    193\u001b[0m \u001b[43m        \u001b[49m\u001b[43mcircuit\u001b[49m\u001b[43m,\u001b[49m\n\u001b[0;32m    194\u001b[0m \u001b[43m        \u001b[49m\u001b[43mrepresentations\u001b[49m\u001b[43m,\u001b[49m\n\u001b[0;32m    195\u001b[0m \u001b[43m        \u001b[49m\u001b[43mprecision\u001b[49m\u001b[43m,\u001b[49m\n\u001b[0;32m    196\u001b[0m \u001b[43m        \u001b[49m\u001b[43mnum_samples\u001b[49m\u001b[43m,\u001b[49m\n\u001b[0;32m    197\u001b[0m \u001b[43m        \u001b[49m\u001b[43mrandom_state\u001b[49m\u001b[38;5;241;43m=\u001b[39;49m\u001b[43mrandom_state\u001b[49m\u001b[43m,\u001b[49m\n\u001b[0;32m    198\u001b[0m \u001b[43m        \u001b[49m\u001b[43mfull_output\u001b[49m\u001b[38;5;241;43m=\u001b[39;49m\u001b[38;5;28;43;01mTrue\u001b[39;49;00m\u001b[43m,\u001b[49m\n\u001b[0;32m    199\u001b[0m \u001b[43m    \u001b[49m\u001b[43m)\u001b[49m\n\u001b[0;32m    201\u001b[0m     \u001b[38;5;66;03m# Execute all sampled circuits\u001b[39;00m\n\u001b[0;32m    202\u001b[0m     \u001b[38;5;28;01mif\u001b[39;00m \u001b[38;5;129;01mnot\u001b[39;00m \u001b[38;5;28misinstance\u001b[39m(executor, Executor):\n",
      "File \u001b[1;32mc:\\Users\\spira\\anaconda3\\envs\\PHYS522_yml\\Lib\\site-packages\\mitiq\\pec\\pec.py:94\u001b[0m, in \u001b[0;36mgenerate_sampled_circuits\u001b[1;34m(circuit, representations, precision, num_samples, random_state, full_output)\u001b[0m\n\u001b[0;32m     91\u001b[0m \u001b[38;5;28;01mif\u001b[39;00m num_samples \u001b[38;5;241m>\u001b[39m \u001b[38;5;241m10\u001b[39m\u001b[38;5;241m*\u001b[39m\u001b[38;5;241m*\u001b[39m\u001b[38;5;241m5\u001b[39m:\n\u001b[0;32m     92\u001b[0m     warnings\u001b[38;5;241m.\u001b[39mwarn(_LARGE_SAMPLE_WARN, LargeSampleWarning)\n\u001b[1;32m---> 94\u001b[0m sampled_circuits, signs, _ \u001b[38;5;241m=\u001b[39m \u001b[43msample_circuit\u001b[49m\u001b[43m(\u001b[49m\n\u001b[0;32m     95\u001b[0m \u001b[43m    \u001b[49m\u001b[43mcircuit\u001b[49m\u001b[43m,\u001b[49m\n\u001b[0;32m     96\u001b[0m \u001b[43m    \u001b[49m\u001b[43mrepresentations\u001b[49m\u001b[43m,\u001b[49m\n\u001b[0;32m     97\u001b[0m \u001b[43m    \u001b[49m\u001b[43mrandom_state\u001b[49m\u001b[38;5;241;43m=\u001b[39;49m\u001b[43mrandom_state\u001b[49m\u001b[43m,\u001b[49m\n\u001b[0;32m     98\u001b[0m \u001b[43m    \u001b[49m\u001b[43mnum_samples\u001b[49m\u001b[38;5;241;43m=\u001b[39;49m\u001b[43mnum_samples\u001b[49m\u001b[43m,\u001b[49m\n\u001b[0;32m     99\u001b[0m \u001b[43m\u001b[49m\u001b[43m)\u001b[49m\n\u001b[0;32m    101\u001b[0m \u001b[38;5;28;01mif\u001b[39;00m full_output:\n\u001b[0;32m    102\u001b[0m     \u001b[38;5;28;01mreturn\u001b[39;00m sampled_circuits, signs, norm\n",
      "File \u001b[1;32mc:\\Users\\spira\\anaconda3\\envs\\PHYS522_yml\\Lib\\site-packages\\mitiq\\pec\\sampling.py:202\u001b[0m, in \u001b[0;36msample_circuit\u001b[1;34m(ideal_circuit, representations, random_state, num_samples)\u001b[0m\n\u001b[0;32m    197\u001b[0m qprogram_sample_circuit \u001b[38;5;241m=\u001b[39m accept_qprogram_and_validate(\n\u001b[0;32m    198\u001b[0m     _cirq_sample_circuit,\n\u001b[0;32m    199\u001b[0m     one_to_many\u001b[38;5;241m=\u001b[39m\u001b[38;5;28;01mTrue\u001b[39;00m,\n\u001b[0;32m    200\u001b[0m )\n\u001b[0;32m    201\u001b[0m extra_data: Dict[\u001b[38;5;28mstr\u001b[39m, Any] \u001b[38;5;241m=\u001b[39m {}\n\u001b[1;32m--> 202\u001b[0m sampled_qprograms \u001b[38;5;241m=\u001b[39m \u001b[43mqprogram_sample_circuit\u001b[49m\u001b[43m(\u001b[49m\n\u001b[0;32m    203\u001b[0m \u001b[43m    \u001b[49m\u001b[43mideal_circuit\u001b[49m\u001b[43m,\u001b[49m\u001b[43m \u001b[49m\u001b[43mrepresentations\u001b[49m\u001b[43m,\u001b[49m\u001b[43m \u001b[49m\u001b[43mrandom_state\u001b[49m\u001b[43m,\u001b[49m\u001b[43m \u001b[49m\u001b[43mnum_samples\u001b[49m\u001b[43m,\u001b[49m\u001b[43m \u001b[49m\u001b[43mextra_data\u001b[49m\n\u001b[0;32m    204\u001b[0m \u001b[43m\u001b[49m\u001b[43m)\u001b[49m\n\u001b[0;32m    205\u001b[0m signs: List[\u001b[38;5;28mint\u001b[39m] \u001b[38;5;241m=\u001b[39m extra_data[\u001b[38;5;124m\"\u001b[39m\u001b[38;5;124msigns\u001b[39m\u001b[38;5;124m\"\u001b[39m]\n\u001b[0;32m    206\u001b[0m norm: \u001b[38;5;28mfloat\u001b[39m \u001b[38;5;241m=\u001b[39m extra_data[\u001b[38;5;124m\"\u001b[39m\u001b[38;5;124mnorm\u001b[39m\u001b[38;5;124m\"\u001b[39m]\n",
      "File \u001b[1;32mc:\\Users\\spira\\anaconda3\\envs\\PHYS522_yml\\Lib\\site-packages\\mitiq\\interface\\conversions.py:402\u001b[0m, in \u001b[0;36maccept_qprogram_and_validate.<locals>.new_function\u001b[1;34m(circuit, *args, **kwargs)\u001b[0m\n\u001b[0;32m    399\u001b[0m     \u001b[38;5;28;01mif\u001b[39;00m circuit\u001b[38;5;241m.\u001b[39mcregs \u001b[38;5;129;01mand\u001b[39;00m \u001b[38;5;129;01mnot\u001b[39;00m out_circuit\u001b[38;5;241m.\u001b[39mcregs:\n\u001b[0;32m    400\u001b[0m         out_circuit\u001b[38;5;241m.\u001b[39madd_register(\u001b[38;5;241m*\u001b[39mcircuit\u001b[38;5;241m.\u001b[39mcregs)\n\u001b[1;32m--> 402\u001b[0m     \u001b[38;5;28;01mfor\u001b[39;00m q, c \u001b[38;5;129;01min\u001b[39;00m \u001b[43m_measurement_order\u001b[49m\u001b[43m(\u001b[49m\u001b[43mcircuit\u001b[49m\u001b[43m)\u001b[49m:\n\u001b[0;32m    403\u001b[0m         out_circuit\u001b[38;5;241m.\u001b[39mmeasure(q, c)\n\u001b[0;32m    404\u001b[0m circuits_to_return\u001b[38;5;241m.\u001b[39mappend(out_circuit)\n",
      "File \u001b[1;32mc:\\Users\\spira\\anaconda3\\envs\\PHYS522_yml\\Lib\\site-packages\\mitiq\\interface\\mitiq_qiskit\\conversions.py:168\u001b[0m, in \u001b[0;36m_measurement_order\u001b[1;34m(circuit)\u001b[0m\n\u001b[0;32m    166\u001b[0m order \u001b[38;5;241m=\u001b[39m []\n\u001b[0;32m    167\u001b[0m \u001b[38;5;28;01mfor\u001b[39;00m gate, qubits, cbits \u001b[38;5;129;01min\u001b[39;00m circuit\u001b[38;5;241m.\u001b[39mdata:\n\u001b[1;32m--> 168\u001b[0m     \u001b[38;5;28;01mif\u001b[39;00m \u001b[38;5;28;43misinstance\u001b[39;49m\u001b[43m(\u001b[49m\u001b[43mgate\u001b[49m\u001b[43m,\u001b[49m\u001b[43m \u001b[49m\u001b[43mqiskit\u001b[49m\u001b[38;5;241;43m.\u001b[39;49m\u001b[43mcircuit\u001b[49m\u001b[38;5;241;43m.\u001b[39;49m\u001b[43mMeasure\u001b[49m\u001b[43m)\u001b[49m:\n\u001b[0;32m    169\u001b[0m         \u001b[38;5;28;01mif\u001b[39;00m \u001b[38;5;28mlen\u001b[39m(qubits) \u001b[38;5;241m!=\u001b[39m \u001b[38;5;241m1\u001b[39m \u001b[38;5;129;01mor\u001b[39;00m \u001b[38;5;28mlen\u001b[39m(cbits) \u001b[38;5;241m!=\u001b[39m \u001b[38;5;241m1\u001b[39m:\n\u001b[0;32m    170\u001b[0m             \u001b[38;5;28;01mraise\u001b[39;00m \u001b[38;5;167;01mValueError\u001b[39;00m(\n\u001b[0;32m    171\u001b[0m                 \u001b[38;5;124mf\u001b[39m\u001b[38;5;124m\"\u001b[39m\u001b[38;5;124mOnly measurements with one qubit and one bit are \u001b[39m\u001b[38;5;124m\"\u001b[39m\n\u001b[0;32m    172\u001b[0m                 \u001b[38;5;124mf\u001b[39m\u001b[38;5;124m\"\u001b[39m\u001b[38;5;124msupported, but this measurement has \u001b[39m\u001b[38;5;132;01m{\u001b[39;00m\u001b[38;5;28mlen\u001b[39m(qubits)\u001b[38;5;132;01m}\u001b[39;00m\u001b[38;5;124m \u001b[39m\u001b[38;5;124m\"\u001b[39m\n\u001b[1;32m   (...)\u001b[0m\n\u001b[0;32m    175\u001b[0m                 \u001b[38;5;124mf\u001b[39m\u001b[38;5;124m\"\u001b[39m\u001b[38;5;124mat https://github.com/unitaryfund/mitiq.\u001b[39m\u001b[38;5;124m\"\u001b[39m\n\u001b[0;32m    176\u001b[0m             )\n",
      "File \u001b[1;32m<frozen abc>:117\u001b[0m, in \u001b[0;36m__instancecheck__\u001b[1;34m(cls, instance)\u001b[0m\n",
      "\u001b[1;31mKeyboardInterrupt\u001b[0m: "
     ]
    }
   ],
   "source": [
    "depths = np.arange(10,201)\n",
    "trials = 10\n",
    "n_qubits = 2\n",
    "noisy_backend = GenericBackendV2(n_qubits)\n",
    "shots = 10000\n",
    "num_samples = 100\n",
    "circuit_type= \"mirror\" # \"rb\"\n",
    "save_data = False\n",
    "\n",
    "cnot_counts, oneq_counts, true_values, noisy_values, pec_values, avg_true_values, avg_noisy_values, avg_pec_values, std_true_values, std_noisy_values, std_pec_values = test_depths(depths, trials, n_qubits, shots, num_samples, circuit_type)"
   ]
  },
  {
   "cell_type": "code",
   "execution_count": null,
   "metadata": {},
   "outputs": [
    {
     "data": {
      "image/png": "[encoded data removed]",
      "text/plain": [
       "<Figure size 900x500 with 1 Axes>"
      ]
     },
     "metadata": {},
     "output_type": "display_data"
    }
   ],
   "source": [
    "plt.figure(figsize=(9, 5))\n",
    "plot_depths = depths[:len(avg_true_values)]\n",
    "kwargs = {\"capsize\": 5, \"lw\": 2}\n",
    "\n",
    "plt.plot(plot_depths, avg_true_values, label=\"True\", lw=2)\n",
    "\n",
    "plt.errorbar(plot_depths, avg_noisy_values, yerr=std_noisy_values, label=\"Raw\", **kwargs, fmt='o', ms=2.5)\n",
    "plt.errorbar(plot_depths, avg_pec_values, yerr=std_pec_values, label=\"PEC\", **kwargs, fmt='o', ms=2.5)\n",
    "\n",
    "plt.xlabel(\"Depth \\n \\n Max depth reached when PEC is worse than raw value 5x in a row\")\n",
    "plt.ylabel(\"Expectation value\")\n",
    "plt.title(f\"\"\"IBMQ with {circuit_type} circuit using PEC on simulator using {n_qubits} qubits and {trials} trials per depth\"\"\")\n",
    "plt.legend() \n",
    "\n",
    "# save_data = True\n",
    "\n",
    "import datetime\n",
    "if save_data == True:\n",
    "\n",
    "    dir_name = f\"IBMQ_PEC_{circuit_type}_nqubits_{n_qubits}_shots_{shots}_trials_{trials}_Test_Depths\"\n",
    "    time_key = datetime.datetime.now().strftime(\"%Y-%m-%d_%H-%M-%S\")\n",
    "    try:\n",
    "        os.mkdir(dir_name)\n",
    "    except FileExistsError:\n",
    "        pass\n",
    "    plt.savefig(os.path.join(dir_name,f\"IBMQ_PEC_{circuit_type}_{n_qubits}\"+ time_key +\".pdf\"))\n",
    "    np.savetxt(os.path.join(dir_name, \"cnot_counts\" + time_key + \".txt\"), cnot_counts)\n",
    "    np.savetxt(os.path.join(dir_name, \"oneq_counts\" + time_key + \".txt\"), oneq_counts)\n",
    "    np.savetxt(os.path.join(dir_name, \"true_values\" + time_key + \".txt\"), true_values)\n",
    "    np.savetxt(os.path.join(dir_name, \"noisy_values\" + time_key + \".txt\"), noisy_values)\n",
    "    np.savetxt(os.path.join(dir_name, \"pec_values\" + time_key + \".txt\"), pec_values)\n",
    "\n",
    "    print(\"Data saved succesfully in\", dir_name)"
   ]
  },
  {
   "cell_type": "markdown",
   "metadata": {},
   "source": [
    "## Testing widths"
   ]
  },
  {
   "cell_type": "code",
   "execution_count": 32,
   "metadata": {},
   "outputs": [],
   "source": [
    "def test_widths(depth, trials, widths, shots, num_samples, circuit_type):\n",
    "    cnot_counts = []\n",
    "    oneq_counts = []\n",
    "\n",
    "    true_values=[]\n",
    "    noisy_values = []\n",
    "    pec_values = []\n",
    "\n",
    "    avg_true_values=[]\n",
    "    avg_noisy_values = []\n",
    "    avg_pec_values = []\n",
    "\n",
    "    std_true_values = []\n",
    "    std_noisy_values = []\n",
    "    std_pec_values = []\n",
    "\n",
    "    still_useful_counter = 0\n",
    "\n",
    "    for width_i in range(0,len(widths)):\n",
    "        \n",
    "\n",
    "        print(\"Status: On width\", widths[width_i], \"with backend\", str(noisy_backend), end=\"\\n\\n\")\n",
    "\n",
    "        true_values_at_depth, noisy_values_at_depth, pec_values_at_depth, cnot_counts_at_depth, oneq_counts_at_depth = run_experiment(depth, trials, widths[width_i], shots, num_samples, circuit_type)\n",
    "        \n",
    "        # Store values\n",
    "        true_values.append(true_values_at_depth)\n",
    "        noisy_values.append(noisy_values_at_depth)\n",
    "        pec_values.append(pec_values_at_depth)\n",
    "\n",
    "        # Store averages\n",
    "        avg_true_values.append(np.average(true_values_at_depth))\n",
    "        avg_noisy_values.append(np.average(noisy_values_at_depth))\n",
    "        avg_pec_values.append(np.average(pec_values_at_depth))\n",
    "        \n",
    "        # Store standard deviations\n",
    "        std_true_values.append(np.std(true_values_at_depth, ddof=1))\n",
    "        std_noisy_values.append(np.std(noisy_values_at_depth, ddof=1))\n",
    "        std_pec_values.append(np.std(pec_values_at_depth, ddof=1))\n",
    "\n",
    "        # Store gate counts\n",
    "        cnot_counts.append(cnot_counts_at_depth)\n",
    "        oneq_counts.append(oneq_counts_at_depth)\n",
    "\n",
    "        # Check usefulness\n",
    "        still_useful_at_depth, reason = still_useful(avg_true_values[width_i], \n",
    "                        avg_noisy_values[width_i], \n",
    "                        avg_pec_values[width_i], \n",
    "                        std_noisy_values[width_i], \n",
    "                        std_pec_values[width_i])\n",
    "        \n",
    "        # Count how many times in a row we're not useful, once we get to five (a trend, rather than a fluke bad spot) end it\n",
    "        if still_useful_at_depth==True:\n",
    "            print(\"Reset the count\")\n",
    "            still_useful_counter = 0\n",
    "        elif still_useful_at_depth==False:\n",
    "            print(\"Add count:\", reason)\n",
    "            still_useful_counter += 1 \n",
    "        if still_useful_at_depth==False and still_useful_counter>=5:\n",
    "            print(\"PEC is no longer useful after width = \", widths[width_i-1])\n",
    "            break\n",
    "    return cnot_counts, oneq_counts, true_values, noisy_values, pec_values, avg_true_values, avg_noisy_values, avg_pec_values, std_true_values, std_noisy_values, std_pec_values"
   ]
  },
  {
   "cell_type": "code",
   "execution_count": null,
   "metadata": {},
   "outputs": [
    {
     "name": "stdout",
     "output_type": "stream",
     "text": [
      "Status: On width 2 with backend <qiskit.providers.fake_provider.generic_backend_v2.GenericBackendV2 object at 0x000002E276C1D8E0>\n",
      "\n",
      "Add count: Worse than raw\n",
      "Status: On width 3 with backend <qiskit.providers.fake_provider.generic_backend_v2.GenericBackendV2 object at 0x000002E276C1D8E0>\n",
      "\n",
      "Add count: Worse than raw\n",
      "Status: On width 4 with backend <qiskit.providers.fake_provider.generic_backend_v2.GenericBackendV2 object at 0x000002E276C1D8E0>\n",
      "\n",
      "Add count: Worse than raw\n",
      "Status: On width 5 with backend <qiskit.providers.fake_provider.generic_backend_v2.GenericBackendV2 object at 0x000002E276C1D8E0>\n",
      "\n",
      "Add count: Worse than raw\n",
      "Status: On width 6 with backend <qiskit.providers.fake_provider.generic_backend_v2.GenericBackendV2 object at 0x000002E276C1D8E0>\n",
      "\n",
      "Add count: Worse than raw\n",
      "PEC is no longer useful after width =  5\n"
     ]
    }
   ],
   "source": [
    "noisy_backend = GenericBackendV2(26)\n",
    "widths = np.arange(2,25)\n",
    "trials = 5\n",
    "depth = 5\n",
    "shots = 10000\n",
    "num_samples = 100\n",
    "circuit_type= \"mirror\" # \"rb\"\n",
    "save_data = False\n",
    "\n",
    "cnot_counts_w, oneq_counts_w, true_values_w, noisy_values_w, pec_values_w, avg_true_values_w, avg_noisy_values_w, avg_pec_values_w, std_true_values_w, std_noisy_values_w, std_pec_values_w = test_widths(depth, trials, widths, shots, num_samples, circuit_type)"
   ]
  },
  {
   "cell_type": "code",
   "execution_count": 34,
   "metadata": {},
   "outputs": [
    {
     "data": {
      "text/plain": [
       "<matplotlib.legend.Legend at 0x2e2752f1790>"
      ]
     },
     "execution_count": 34,
     "metadata": {},
     "output_type": "execute_result"
    },
    {
     "data": {
      "image/png": "[encoded data removed]",
      "text/plain": [
       "<Figure size 900x500 with 1 Axes>"
      ]
     },
     "metadata": {},
     "output_type": "display_data"
    }
   ],
   "source": [
    "plt.figure(figsize=(9, 5))\n",
    "plot_widths = widths[:len(avg_true_values_w)]\n",
    "kwargs = {\"capsize\": 5, \"lw\": 2}\n",
    "\n",
    "# Plot true value\n",
    "plt.plot(plot_widths, avg_true_values_w, label=\"True\", lw=2)\n",
    "\n",
    "# Plot scatter plots with error bars\n",
    "plt.errorbar(plot_widths, avg_noisy_values_w, yerr=std_noisy_values_w, label=\"Raw\", **kwargs, fmt='o', ms=2.5)\n",
    "plt.errorbar(plot_widths, avg_pec_values_w, yerr=std_pec_values_w, label=\"PEC\", **kwargs, fmt='o', ms=2.5)\n",
    "\n",
    "# # Find lines of best fit\n",
    "# import numpy.polynomial.polynomial as poly\n",
    "# noisy_best_fit_coeffs = poly.polyfit(plot_widths, avg_noisy_values, 1)\n",
    "# noisy_best_fit = poly.polyval(plot_widths, noisy_best_fit_coeffs)\n",
    "# pec_best_fit_coeffs = poly.polyfit(plot_widths, avg_pec_values, 2)\n",
    "# pec_best_fit=poly.polyval(plot_widths, pec_best_fit_coeffs)\n",
    "\n",
    "# plt.plot(plot_widths, pec_best_fit, linestyle = 'dashed', color = 'gray')\n",
    "# plt.plot(plot_widths, noisy_best_fit, linestyle = 'dashed', color = 'gray')\n",
    "\n",
    "plt.xlabel(\"Width \\n \\n Max width reached when PEC is worse than raw value 5x in a row\")\n",
    "plt.ylabel(\"Expectation value\")\n",
    "plt.title(f\"\"\"IBMQ with {circuit_type} circuit using PEC on simulator using {depth} depth and {trials} trials per width\"\"\")\n",
    "plt.legend()"
   ]
  }
 ],
 "metadata": {
  "kernelspec": {
   "display_name": "PHYS522_yml",
   "language": "python",
   "name": "python3"
  },
  "language_info": {
   "codemirror_mode": {
    "name": "ipython",
    "version": 3
   },
   "file_extension": ".py",
   "mimetype": "text/x-python",
   "name": "python",
   "nbconvert_exporter": "python",
   "pygments_lexer": "ipython3",
   "version": "3.12.8"
  }
 },
 "nbformat": 4,
 "nbformat_minor": 2
}
