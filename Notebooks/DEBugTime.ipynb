{
 "cells": [
  {
   "cell_type": "markdown",
   "id": "e8764e34",
   "metadata": {},
   "source": [
    "## I love to debug"
   ]
  },
  {
   "cell_type": "code",
   "execution_count": 8,
   "id": "576fcfc0",
   "metadata": {},
   "outputs": [],
   "source": [
    "import functools\n",
    "import os\n",
    "import time\n",
    "from typing import List\n",
    "import matplotlib.pyplot as plt\n",
    "import cirq\n",
    "import networkx as nx\n",
    "import numpy as np\n",
    "import qiskit\n",
    "from mitiq import benchmarks, pec\n",
    "\n",
    "from qiskit_ibm_runtime.fake_provider import FakeTorino, FakeAlgiers, FakeKolkataV2\n",
    "\n",
    "from qiskit.providers.fake_provider import GenericBackendV2\n",
    "import qiskit_aer"
   ]
  },
  {
   "cell_type": "code",
   "execution_count": 9,
   "id": "f4cceb8a",
   "metadata": {},
   "outputs": [
    {
     "name": "stdout",
     "output_type": "stream",
     "text": [
      "<property object at 0x000001972AFC3A60>\n",
      "<property object at 0x000001972AFC3A60>\n",
      "<property object at 0x000001972AFC3A60>\n"
     ]
    }
   ],
   "source": [
    "print(FakeTorino.num_qubits)\n",
    "print(FakeAlgiers.num_qubits)\n",
    "print(FakeKolkataV2.num_qubits)\n"
   ]
  },
  {
   "cell_type": "code",
   "execution_count": 10,
   "id": "5ffb141e",
   "metadata": {},
   "outputs": [],
   "source": [
    "ideal_backend = qiskit_aer.AerSimulator()\n",
    "\n",
    "# Random seed for circuit generation.\n",
    "seed: int = 1\n",
    "\n",
    "# Display verbose output.\n",
    "verbose: bool = False\n",
    "# Give queue updates every this many seconds when running on hardware device.\n",
    "verbose_update_time: int = 30"
   ]
  },
  {
   "cell_type": "code",
   "execution_count": 11,
   "id": "5c15dfc1",
   "metadata": {},
   "outputs": [],
   "source": [
    "def get_phys_qubits(n_qubits):\n",
    "    # Physical qubits with a chain-like connectivity.\n",
    "    ibm_lima_ordering = [0, 1, 3, 4, 2] \n",
    "    ibm_kolkata_ordering = [0, 1, 4, 7, 10, 12, 15, 18, 21, 23, 24, 25, 22, 19, 16, 14, 11, 8, 5, 3, 2]\n",
    "\n",
    "    if n_qubits <= 5:\n",
    "        # Assume ibmq-lima device. Take n adjacent physical qubits.\n",
    "        physical_ibm_qubits = ibm_lima_ordering[: n_qubits]\n",
    "    elif n_qubits <= len(ibm_kolkata_ordering) and n_qubits > 5:\n",
    "        # Assume ibmq-kolkata device. Take n adjacent physical qubits.\n",
    "        physical_ibm_qubits = ibm_kolkata_ordering[: n_qubits ]\n",
    "    else:\n",
    "        raise ValueError(f\"Number of qubits {n_qubits} too large.\")\n",
    "    \n",
    "    return physical_ibm_qubits"
   ]
  },
  {
   "cell_type": "code",
   "execution_count": 12,
   "id": "7aa806bd",
   "metadata": {},
   "outputs": [],
   "source": [
    "def get_layout(n_qubits):\n",
    "    phys_qubits = get_phys_qubits(n_qubits)\n",
    "    virt_qubits =[]\n",
    "    for qubit_i in range(0,n_qubits):\n",
    "        virt_qubits.append(qubit_i)\n",
    "    layout =  dict(zip(phys_qubits, virt_qubits))\n",
    "        \n",
    "    return layout\n",
    "        \n",
    "    "
   ]
  },
  {
   "cell_type": "code",
   "execution_count": 13,
   "id": "930140f9",
   "metadata": {},
   "outputs": [
    {
     "name": "stdout",
     "output_type": "stream",
     "text": [
      "{0: 0, 1: 1, 4: 2, 7: 3, 10: 4, 12: 5, 15: 6, 18: 7, 21: 8, 23: 9}\n"
     ]
    }
   ],
   "source": [
    "print(get_layout(10))"
   ]
  },
  {
   "cell_type": "code",
   "execution_count": 14,
   "id": "55aef143",
   "metadata": {},
   "outputs": [],
   "source": [
    "def get_computer(n_qubits):\n",
    "    # Make connectivity graph \n",
    "    computer = nx.Graph()\n",
    "\n",
    "    qubits = [j for j in range(n_qubits)]\n",
    "\n",
    "    # Split qubits into 2-qubit pairs (assuming a chain connectivity).\n",
    "    rb_pattern = [[qa, qb] for qa, qb in zip(qubits[0:-1:2], qubits[1::2])]\n",
    "    if n_qubits % 2 == 1:\n",
    "        # For an odd number of qubits, append final individual qubit to the RB pattern.\n",
    "        rb_pattern.append([qubits[-1]])\n",
    "    # print(\"Qubit indeces:\", qubits)\n",
    "    # print(\"RB pattern:\", rb_pattern)\n",
    "\n",
    "    # Assume chain-like connectivity\n",
    "    computer.add_edges_from([(qa, qb) for qa, qb in zip(qubits[:-1], qubits[1:])])\n",
    "\n",
    "    # Add reversed edges to computer graph.\n",
    "    # This is important to represent CNOT gates with target and control reversed.\n",
    "    computer = nx.to_directed(computer)\n",
    "    return computer"
   ]
  },
  {
   "cell_type": "markdown",
   "id": "674c51d6",
   "metadata": {},
   "source": []
  },
  {
   "cell_type": "code",
   "execution_count": 15,
   "id": "30180038",
   "metadata": {},
   "outputs": [
    {
     "name": "stdout",
     "output_type": "stream",
     "text": [
      "DiGraph with 10 nodes and 18 edges\n"
     ]
    }
   ],
   "source": [
    "n_qubits=10\n",
    "depth = 3\n",
    "trials = 3\n",
    "shots = 10000\n",
    "num_samples = 100\n",
    "\n",
    "computer= get_computer(n_qubits)\n",
    "print(computer)\n",
    "\n",
    "noisy_backend = FakeTorino\n",
    "ideal_backend = qiskit_aer.AerSimulator()"
   ]
  },
  {
   "cell_type": "code",
   "execution_count": 16,
   "id": "c5f78f63",
   "metadata": {},
   "outputs": [],
   "source": [
    "def execute(\n",
    "    circuits: qiskit.QuantumCircuit | list[qiskit.QuantumCircuit],\n",
    "    backend,\n",
    "    shots: int,\n",
    "    correct_bitstring: str,\n",
    "    verbose: bool,\n",
    "    ) -> List[float]:\n",
    "    \"\"\"Executes the input circuit(s) and returns ⟨A⟩, where A = |correct_bitstring⟩⟨correct_bitstring| for each circuit.\"\"\"\n",
    "\n",
    "    if not isinstance(circuits, list):\n",
    "        circuits = [circuits]\n",
    "    if verbose:\n",
    "        # Calculate average number of CNOT gates per circuit.\n",
    "        print(f\"Executing {len(circuits)} circuit(s) on {backend}.\")\n",
    "        print(f\"Average cnot count in circuits: {get_avg_cnot_count(circuits)}\")\n",
    "\n",
    "    # Store all circuits to run in list to be returned.\n",
    "    to_run: list[qiskit.QuantumCircuit] = []\n",
    "\n",
    "    for circuit in circuits:\n",
    "        circuit_to_run = circuit.copy()\n",
    "        circuit_to_run.measure_all()\n",
    "        to_run.append(\n",
    "            qiskit.transpile(\n",
    "                circuit_to_run,\n",
    "                backend=backend,\n",
    "                initial_layout= get_phys_qubits(circuit.num_qubits),\n",
    "                optimization_level=0,  # Otherwise RB circuits are simplified to empty circuits.\n",
    "            )\n",
    "        )\n",
    "\n",
    "    if verbose:\n",
    "        # Calculate average number of CNOT gates per compiled circuit.\n",
    "        print(f\"Average cnot count in compiled circuits: {get_avg_cnot_count(to_run)}\")\n",
    "\n",
    "    # Run and get counts.\n",
    "    job = backend.run(\n",
    "        to_run,\n",
    "        # Reset qubits to ground state after each sample.\n",
    "        init_qubits=True,\n",
    "        shots=shots,\n",
    "    )\n",
    "\n",
    "    if len(circuits) == 1:\n",
    "        return [job.result().get_counts().get(correct_bitstring, 0.0) / shots]\n",
    "    return [\n",
    "        count.get(correct_bitstring, 0.0) / shots for count in job.result().get_counts()\n",
    "    ]"
   ]
  },
  {
   "cell_type": "code",
   "execution_count": 17,
   "id": "fd5c8ac8",
   "metadata": {},
   "outputs": [],
   "source": [
    "def get_cnot_error(edge: tuple[int, int] = None) -> float:\n",
    "    cnot_error_prob = 0.01\n",
    "\n",
    "    # cnot_error_prob = noisy_backend.properties().gate_error(\"cx\", qubits=edge)\n",
    "\n",
    "    print(f\"cnot_error_prob for edge {edge}: {cnot_error_prob}\")\n",
    "    return cnot_error_prob\n",
    "\n",
    "\n",
    "def get_cnot_representation(edge: tuple[int, int]) -> pec.OperationRepresentation:\n",
    "    cnot_circuit = cirq.Circuit(\n",
    "        cirq.CNOT(\n",
    "            cirq.NamedQubit(f\"q_{str(edge[0])}\"),\n",
    "            cirq.NamedQubit(f\"q_{str(edge[1])}\"),\n",
    "        )\n",
    "    )\n",
    "\n",
    "    rep_exact_prob = 1 - np.sqrt(1 - get_cnot_error(edge))\n",
    "    return pec.represent_operation_with_local_depolarizing_noise(\n",
    "        cnot_circuit,\n",
    "        noise_level=rep_exact_prob,\n",
    "    )\n",
    "\n",
    "\n",
    "def get_representations(computer: nx.Graph) -> list[pec.OperationRepresentation]:\n",
    "    return [get_cnot_representation(edge) for edge in computer.edges]"
   ]
  },
  {
   "cell_type": "code",
   "execution_count": 18,
   "id": "eb45d41b",
   "metadata": {},
   "outputs": [
    {
     "name": "stdout",
     "output_type": "stream",
     "text": [
      "[0, 1, 4, 7, 10, 12, 15, 18, 21, 23]\n"
     ]
    }
   ],
   "source": [
    "print(get_phys_qubits(n_qubits))"
   ]
  },
  {
   "cell_type": "code",
   "execution_count": 19,
   "id": "3e2b8d24",
   "metadata": {},
   "outputs": [
    {
     "ename": "TypeError",
     "evalue": "'>' not supported between instances of 'int' and 'property'",
     "output_type": "error",
     "traceback": [
      "\u001b[1;31m---------------------------------------------------------------------------\u001b[0m",
      "\u001b[1;31mTypeError\u001b[0m                                 Traceback (most recent call last)",
      "Cell \u001b[1;32mIn[19], line 21\u001b[0m\n\u001b[0;32m     12\u001b[0m correct_bitstring \u001b[38;5;241m=\u001b[39m \u001b[38;5;124m\"\u001b[39m\u001b[38;5;124m\"\u001b[39m\u001b[38;5;241m.\u001b[39mjoin(\u001b[38;5;28mmap\u001b[39m(\u001b[38;5;28mstr\u001b[39m, correct_bitstring[::\u001b[38;5;241m-\u001b[39m\u001b[38;5;241m1\u001b[39m]))\n\u001b[0;32m     14\u001b[0m (true_value,) \u001b[38;5;241m=\u001b[39m execute(circuit,\n\u001b[0;32m     15\u001b[0m     ideal_backend,\n\u001b[0;32m     16\u001b[0m     shots,\n\u001b[0;32m     17\u001b[0m     correct_bitstring,\n\u001b[0;32m     18\u001b[0m     verbose\u001b[38;5;241m=\u001b[39mverbose,\n\u001b[0;32m     19\u001b[0m )\n\u001b[1;32m---> 21\u001b[0m (noisy_value,) \u001b[38;5;241m=\u001b[39m execute(circuit,\n\u001b[0;32m     22\u001b[0m     noisy_backend,\n\u001b[0;32m     23\u001b[0m     shots,\n\u001b[0;32m     24\u001b[0m     correct_bitstring,\n\u001b[0;32m     25\u001b[0m     verbose\u001b[38;5;241m=\u001b[39mverbose,\n\u001b[0;32m     26\u001b[0m )\n\u001b[0;32m     28\u001b[0m pec_executor \u001b[38;5;241m=\u001b[39m functools\u001b[38;5;241m.\u001b[39mpartial(\n\u001b[0;32m     29\u001b[0m         execute,\n\u001b[0;32m     30\u001b[0m         backend\u001b[38;5;241m=\u001b[39mnoisy_backend,\n\u001b[1;32m   (...)\u001b[0m\n\u001b[0;32m     33\u001b[0m         verbose\u001b[38;5;241m=\u001b[39mverbose,\n\u001b[0;32m     34\u001b[0m     )\n\u001b[0;32m     35\u001b[0m pec_value \u001b[38;5;241m=\u001b[39m pec\u001b[38;5;241m.\u001b[39mexecute_with_pec(\n\u001b[0;32m     36\u001b[0m         circuit,\n\u001b[0;32m     37\u001b[0m         pec_executor,\n\u001b[1;32m   (...)\u001b[0m\n\u001b[0;32m     40\u001b[0m         random_state\u001b[38;5;241m=\u001b[39mlocal_seed,\n\u001b[0;32m     41\u001b[0m     )\n",
      "Cell \u001b[1;32mIn[16], line 24\u001b[0m, in \u001b[0;36mexecute\u001b[1;34m(circuits, backend, shots, correct_bitstring, verbose)\u001b[0m\n\u001b[0;32m     21\u001b[0m     circuit_to_run \u001b[38;5;241m=\u001b[39m circuit\u001b[38;5;241m.\u001b[39mcopy()\n\u001b[0;32m     22\u001b[0m     circuit_to_run\u001b[38;5;241m.\u001b[39mmeasure_all()\n\u001b[0;32m     23\u001b[0m     to_run\u001b[38;5;241m.\u001b[39mappend(\n\u001b[1;32m---> 24\u001b[0m         qiskit\u001b[38;5;241m.\u001b[39mtranspile(\n\u001b[0;32m     25\u001b[0m             circuit_to_run,\n\u001b[0;32m     26\u001b[0m             backend\u001b[38;5;241m=\u001b[39mbackend,\n\u001b[0;32m     27\u001b[0m             initial_layout\u001b[38;5;241m=\u001b[39m get_phys_qubits(circuit\u001b[38;5;241m.\u001b[39mnum_qubits),\n\u001b[0;32m     28\u001b[0m             optimization_level\u001b[38;5;241m=\u001b[39m\u001b[38;5;241m0\u001b[39m,  \u001b[38;5;66;03m# Otherwise RB circuits are simplified to empty circuits.\u001b[39;00m\n\u001b[0;32m     29\u001b[0m         )\n\u001b[0;32m     30\u001b[0m     )\n\u001b[0;32m     32\u001b[0m \u001b[38;5;28;01mif\u001b[39;00m verbose:\n\u001b[0;32m     33\u001b[0m     \u001b[38;5;66;03m# Calculate average number of CNOT gates per compiled circuit.\u001b[39;00m\n\u001b[0;32m     34\u001b[0m     \u001b[38;5;28mprint\u001b[39m(\u001b[38;5;124mf\u001b[39m\u001b[38;5;124m\"\u001b[39m\u001b[38;5;124mAverage cnot count in compiled circuits: \u001b[39m\u001b[38;5;132;01m{\u001b[39;00mget_avg_cnot_count(to_run)\u001b[38;5;132;01m}\u001b[39;00m\u001b[38;5;124m\"\u001b[39m)\n",
      "File \u001b[1;32m~\\AppData\\Roaming\\Python\\Python312\\site-packages\\qiskit\\compiler\\transpiler.py:264\u001b[0m, in \u001b[0;36mtranspile\u001b[1;34m(circuits, backend, basis_gates, coupling_map, initial_layout, layout_method, routing_method, translation_method, scheduling_method, dt, approximation_degree, seed_transpiler, optimization_level, callback, output_name, unitary_synthesis_method, unitary_synthesis_plugin_config, target, hls_config, init_method, optimization_method, ignore_backend_supplied_default_methods, num_processes, qubits_initially_zero)\u001b[0m\n\u001b[0;32m    262\u001b[0m output_name \u001b[38;5;241m=\u001b[39m _parse_output_name(output_name, circuits)\n\u001b[0;32m    263\u001b[0m coupling_map \u001b[38;5;241m=\u001b[39m _parse_coupling_map(coupling_map)\n\u001b[1;32m--> 264\u001b[0m _check_circuits_coupling_map(circuits, coupling_map, backend)\n\u001b[0;32m    266\u001b[0m \u001b[38;5;66;03m# Edge cases require using the old model (loose constraints) instead of building a target,\u001b[39;00m\n\u001b[0;32m    267\u001b[0m \u001b[38;5;66;03m# but we don't populate the passmanager config with loose constraints unless it's one of\u001b[39;00m\n\u001b[0;32m    268\u001b[0m \u001b[38;5;66;03m# the known edge cases to control the execution path.\u001b[39;00m\n\u001b[0;32m    269\u001b[0m pm \u001b[38;5;241m=\u001b[39m generate_preset_pass_manager(\n\u001b[0;32m    270\u001b[0m     optimization_level,\n\u001b[0;32m    271\u001b[0m     target\u001b[38;5;241m=\u001b[39mtarget,\n\u001b[1;32m   (...)\u001b[0m\n\u001b[0;32m    288\u001b[0m     qubits_initially_zero\u001b[38;5;241m=\u001b[39mqubits_initially_zero,\n\u001b[0;32m    289\u001b[0m )\n",
      "File \u001b[1;32m~\\AppData\\Roaming\\Python\\Python312\\site-packages\\qiskit\\compiler\\transpiler.py:314\u001b[0m, in \u001b[0;36m_check_circuits_coupling_map\u001b[1;34m(circuits, cmap, backend)\u001b[0m\n\u001b[0;32m    311\u001b[0m \u001b[38;5;28;01mfor\u001b[39;00m circuit \u001b[38;5;129;01min\u001b[39;00m circuits:\n\u001b[0;32m    312\u001b[0m     \u001b[38;5;66;03m# If coupling_map is not None or num_qubits == 1\u001b[39;00m\n\u001b[0;32m    313\u001b[0m     num_qubits \u001b[38;5;241m=\u001b[39m \u001b[38;5;28mlen\u001b[39m(circuit\u001b[38;5;241m.\u001b[39mqubits)\n\u001b[1;32m--> 314\u001b[0m     \u001b[38;5;28;01mif\u001b[39;00m max_qubits \u001b[38;5;129;01mis\u001b[39;00m \u001b[38;5;129;01mnot\u001b[39;00m \u001b[38;5;28;01mNone\u001b[39;00m \u001b[38;5;129;01mand\u001b[39;00m (num_qubits \u001b[38;5;241m>\u001b[39m max_qubits):\n\u001b[0;32m    315\u001b[0m         \u001b[38;5;28;01mraise\u001b[39;00m CircuitTooWideForTarget(\n\u001b[0;32m    316\u001b[0m             \u001b[38;5;124mf\u001b[39m\u001b[38;5;124m\"\u001b[39m\u001b[38;5;124mNumber of qubits (\u001b[39m\u001b[38;5;132;01m{\u001b[39;00mnum_qubits\u001b[38;5;132;01m}\u001b[39;00m\u001b[38;5;124m) in \u001b[39m\u001b[38;5;132;01m{\u001b[39;00mcircuit\u001b[38;5;241m.\u001b[39mname\u001b[38;5;132;01m}\u001b[39;00m\u001b[38;5;124m \u001b[39m\u001b[38;5;124m\"\u001b[39m\n\u001b[0;32m    317\u001b[0m             \u001b[38;5;124mf\u001b[39m\u001b[38;5;124m\"\u001b[39m\u001b[38;5;124mis greater than maximum (\u001b[39m\u001b[38;5;132;01m{\u001b[39;00mmax_qubits\u001b[38;5;132;01m}\u001b[39;00m\u001b[38;5;124m) in the coupling_map\u001b[39m\u001b[38;5;124m\"\u001b[39m\n\u001b[0;32m    318\u001b[0m         )\n",
      "\u001b[1;31mTypeError\u001b[0m: '>' not supported between instances of 'int' and 'property'"
     ]
    }
   ],
   "source": [
    "local_seed = 10**6 * depth + 10**3 * seed + 3\n",
    "\n",
    "circuit, correct_bitstring = benchmarks.generate_mirror_circuit(\n",
    "        nlayers=depth,\n",
    "        two_qubit_gate_prob=1.0,\n",
    "        connectivity_graph=computer,\n",
    "        two_qubit_gate_name=\"CNOT\",\n",
    "        seed=seed,\n",
    "        return_type=\"qiskit\",\n",
    "    )\n",
    "# Reversed because Qiskit is wrong endian.\n",
    "correct_bitstring = \"\".join(map(str, correct_bitstring[::-1]))\n",
    "\n",
    "(true_value,) = execute(circuit,\n",
    "    ideal_backend,\n",
    "    shots,\n",
    "    correct_bitstring,\n",
    "    verbose=verbose,\n",
    ")\n",
    "\n",
    "(noisy_value,) = execute(circuit,\n",
    "    noisy_backend,\n",
    "    shots,\n",
    "    correct_bitstring,\n",
    "    verbose=verbose,\n",
    ")\n",
    "\n",
    "pec_executor = functools.partial(\n",
    "        execute,\n",
    "        backend=noisy_backend,\n",
    "        shots=shots // num_samples,\n",
    "        correct_bitstring=correct_bitstring,\n",
    "        verbose=verbose,\n",
    "    )\n",
    "pec_value = pec.execute_with_pec(\n",
    "        circuit,\n",
    "        pec_executor,\n",
    "        representations=get_representations(computer),\n",
    "        num_samples=num_samples,\n",
    "        random_state=local_seed,\n",
    "    )"
   ]
  },
  {
   "cell_type": "code",
   "execution_count": null,
   "id": "cf380cbe",
   "metadata": {},
   "outputs": [],
   "source": []
  }
 ],
 "metadata": {
  "kernelspec": {
   "display_name": "base",
   "language": "python",
   "name": "python3"
  },
  "language_info": {
   "codemirror_mode": {
    "name": "ipython",
    "version": 3
   },
   "file_extension": ".py",
   "mimetype": "text/x-python",
   "name": "python",
   "nbconvert_exporter": "python",
   "pygments_lexer": "ipython3",
   "version": "3.12.7"
  }
 },
 "nbformat": 4,
 "nbformat_minor": 5
}
